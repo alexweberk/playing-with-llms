{
  "cells": [
    {
      "attachments": {},
      "cell_type": "markdown",
      "metadata": {
        "id": "yF9gjmHoMjK6"
      },
      "source": [
        "# llm-jp/llm-jp-13b-instruct-full-dolly-oasst-v1.0 を試す\n",
        "\n",
        "少し出遅れてしまったが、新たにリリースされた日本語LLM「llm-jp」を試す。\n",
        "複数バージョンがあるが、「jasterを含むものは回答がそっけない」ということをTwitterで聞いたので今回はそれを含まないものを試してみたいと思う。\n",
        "\n",
        "Huggingface:\n",
        "* https://huggingface.co/llm-jp/llm-jp-13b-instruct-full-dolly-oasst-v1.0\n",
        "\n"
      ]
    },
    {
      "cell_type": "code",
      "execution_count": 1,
      "metadata": {
        "colab": {
          "base_uri": "https://localhost:8080/"
        },
        "id": "njW1Qq8YK4Vu",
        "outputId": "19b08452-0000-48a1-b850-c3a44f4d271b"
      },
      "outputs": [
        {
          "name": "stdout",
          "output_type": "stream",
          "text": [
            "\u001b[2K     \u001b[90m━━━━━━━━━━━━━━━━━━━━━━━━━━━━━━━━━━━━━━━━\u001b[0m \u001b[32m7.7/7.7 MB\u001b[0m \u001b[31m26.0 MB/s\u001b[0m eta \u001b[36m0:00:00\u001b[0m\n",
            "\u001b[2K     \u001b[90m━━━━━━━━━━━━━━━━━━━━━━━━━━━━━━━━━━━━━━━━\u001b[0m \u001b[32m258.1/258.1 kB\u001b[0m \u001b[31m30.9 MB/s\u001b[0m eta \u001b[36m0:00:00\u001b[0m\n",
            "\u001b[2K     \u001b[90m━━━━━━━━━━━━━━━━━━━━━━━━━━━━━━━━━━━━━━━━\u001b[0m \u001b[32m1.3/1.3 MB\u001b[0m \u001b[31m69.7 MB/s\u001b[0m eta \u001b[36m0:00:00\u001b[0m\n",
            "\u001b[2K     \u001b[90m━━━━━━━━━━━━━━━━━━━━━━━━━━━━━━━━━━━━━━━━\u001b[0m \u001b[32m92.6/92.6 MB\u001b[0m \u001b[31m20.0 MB/s\u001b[0m eta \u001b[36m0:00:00\u001b[0m\n",
            "\u001b[2K     \u001b[90m━━━━━━━━━━━━━━━━━━━━━━━━━━━━━━━━━━━━━━━━\u001b[0m \u001b[32m302.0/302.0 kB\u001b[0m \u001b[31m34.2 MB/s\u001b[0m eta \u001b[36m0:00:00\u001b[0m\n",
            "\u001b[2K     \u001b[90m━━━━━━━━━━━━━━━━━━━━━━━━━━━━━━━━━━━━━━━━\u001b[0m \u001b[32m3.8/3.8 MB\u001b[0m \u001b[31m100.3 MB/s\u001b[0m eta \u001b[36m0:00:00\u001b[0m\n",
            "\u001b[2K     \u001b[90m━━━━━━━━━━━━━━━━━━━━━━━━━━━━━━━━━━━━━━━━\u001b[0m \u001b[32m1.3/1.3 MB\u001b[0m \u001b[31m83.3 MB/s\u001b[0m eta \u001b[36m0:00:00\u001b[0m\n",
            "\u001b[2K     \u001b[90m━━━━━━━━━━━━━━━━━━━━━━━━━━━━━━━━━━━━━━━━\u001b[0m \u001b[32m295.0/295.0 kB\u001b[0m \u001b[31m31.6 MB/s\u001b[0m eta \u001b[36m0:00:00\u001b[0m\n",
            "\u001b[?25h"
          ]
        }
      ],
      "source": [
        "!pip install transformers accelerate sentencepiece bitsandbytes --quiet"
      ]
    },
    {
      "cell_type": "code",
      "execution_count": 2,
      "metadata": {
        "id": "lnLwAgsrvmz1"
      },
      "outputs": [],
      "source": [
        "# Wrap printed text\n",
        "from IPython.display import HTML, display\n",
        "\n",
        "def set_css():\n",
        "  display(HTML('''\n",
        "  <style>\n",
        "    pre {\n",
        "        white-space: pre-wrap;\n",
        "    }\n",
        "  </style>\n",
        "  '''))\n",
        "get_ipython().events.register('pre_run_cell', set_css)"
      ]
    },
    {
      "attachments": {},
      "cell_type": "markdown",
      "metadata": {
        "id": "ip5F_RKCNZIV"
      },
      "source": [
        "## モデルのダウンロード"
      ]
    },
    {
      "cell_type": "code",
      "execution_count": 24,
      "metadata": {
        "colab": {
          "base_uri": "https://localhost:8080/",
          "height": 52
        },
        "id": "W0XS08AEK-zq",
        "outputId": "fce1c0a6-f53e-41e5-f332-37c078d55c13"
      },
      "outputs": [
        {
          "data": {
            "text/html": [
              "\n",
              "  <style>\n",
              "    pre {\n",
              "        white-space: pre-wrap;\n",
              "    }\n",
              "  </style>\n",
              "  "
            ],
            "text/plain": [
              "<IPython.core.display.HTML object>"
            ]
          },
          "metadata": {},
          "output_type": "display_data"
        },
        {
          "name": "stdout",
          "output_type": "stream",
          "text": [
            "CPU times: user 4 µs, sys: 0 ns, total: 4 µs\n",
            "Wall time: 7.87 µs\n"
          ]
        }
      ],
      "source": [
        "%time\n",
        "\n",
        "import torch\n",
        "from transformers import AutoTokenizer, AutoModelForCausalLM\n",
        "\n",
        "model_name = \"llm-jp/llm-jp-13b-instruct-full-dolly-oasst-v1.0\"\n",
        "\n",
        "tokenizer = AutoTokenizer.from_pretrained(model_name, padding_side='left')\n",
        "model = AutoModelForCausalLM.from_pretrained(\n",
        "    model_name,\n",
        "    trust_remote_code=True,\n",
        "    # quantization_config=quantization_config,\n",
        "    device_map=\"cuda:0\",\n",
        "    torch_dtype=torch.float16,\n",
        ").eval()"
      ]
    },
    {
      "cell_type": "code",
      "execution_count": 4,
      "metadata": {
        "colab": {
          "base_uri": "https://localhost:8080/",
          "height": 34
        },
        "id": "GqFGCRXHLAIN",
        "outputId": "b612094c-186a-4a69-cc54-0f859078056f"
      },
      "outputs": [
        {
          "data": {
            "text/html": [
              "\n",
              "  <style>\n",
              "    pre {\n",
              "        white-space: pre-wrap;\n",
              "    }\n",
              "  </style>\n",
              "  "
            ],
            "text/plain": [
              "<IPython.core.display.HTML object>"
            ]
          },
          "metadata": {},
          "output_type": "display_data"
        },
        {
          "data": {
            "text/plain": [
              "50570"
            ]
          },
          "execution_count": 4,
          "metadata": {},
          "output_type": "execute_result"
        }
      ],
      "source": [
        "tokenizer.vocab_size"
      ]
    },
    {
      "cell_type": "code",
      "execution_count": 25,
      "metadata": {
        "colab": {
          "base_uri": "https://localhost:8080/",
          "height": 69
        },
        "id": "CiM_zxseGUq2",
        "outputId": "aa2daf7e-23d5-4c7c-e457-861feb880694"
      },
      "outputs": [
        {
          "data": {
            "text/html": [
              "\n",
              "  <style>\n",
              "    pre {\n",
              "        white-space: pre-wrap;\n",
              "    }\n",
              "  </style>\n",
              "  "
            ],
            "text/plain": [
              "<IPython.core.display.HTML object>"
            ]
          },
          "metadata": {},
          "output_type": "display_data"
        },
        {
          "name": "stderr",
          "output_type": "stream",
          "text": [
            "Setting `pad_token_id` to `eos_token_id`:7 for open-end generation.\n"
          ]
        },
        {
          "name": "stdout",
          "output_type": "stream",
          "text": [
            "自然言語処理とは何か### 回答：自然言語処理（NLP）は、コンピュータ・プログラムが人間の言語を処理するためのプロセスである。自然言語処理（NLP）は、コンピュータ・プログラムが人間の言語を処理するためのプロセスである。NLPは、コンピュータ・プログラムが人間の言語を処理するためのプロセスである。このプロセスには、テキストの分析、テキストの要約、テキストの生成、テキストの翻訳、テキストの要約などが含まれる。NLPは、音声認識、テキスト要約、翻訳などのアプリケーションに使用されている。\n"
          ]
        }
      ],
      "source": [
        "generation_config = {\n",
        "    \"max_new_tokens\": 256,\n",
        "    \"do_sample\": True,\n",
        "    \"temperature\": 0.7,\n",
        "    \"top_p\": 0.95,\n",
        "}\n",
        "\n",
        "text = \"自然言語処理とは何か\"\n",
        "text = text + \"### 回答：\"\n",
        "\n",
        "with torch.no_grad():\n",
        "    inputs = tokenizer(text, add_special_tokens=False, return_tensors=\"pt\").to(model.device)\n",
        "\n",
        "    outputs = model.generate(\n",
        "        **inputs,\n",
        "        **generation_config,\n",
        "    )\n",
        "\n",
        "print(tokenizer.decode(outputs[0], skip_special_tokens=True))"
      ]
    },
    {
      "attachments": {},
      "cell_type": "markdown",
      "metadata": {
        "id": "-67TBsajNcm3"
      },
      "source": [
        "## テンプレートの準備\n",
        "\n",
        "生成が楽になるようにテンプレートを準備します。"
      ]
    },
    {
      "cell_type": "code",
      "execution_count": 29,
      "metadata": {
        "colab": {
          "base_uri": "https://localhost:8080/",
          "height": 35
        },
        "id": "b4Sw2H1bu25M",
        "outputId": "56f3663f-8646-4d28-f7b1-f0a632a01e53"
      },
      "outputs": [
        {
          "data": {
            "text/html": [
              "\n",
              "  <style>\n",
              "    pre {\n",
              "        white-space: pre-wrap;\n",
              "    }\n",
              "  </style>\n",
              "  "
            ],
            "text/plain": [
              "<IPython.core.display.HTML object>"
            ]
          },
          "metadata": {},
          "output_type": "display_data"
        },
        {
          "data": {
            "application/vnd.google.colaboratory.intrinsic+json": {
              "type": "string"
            },
            "text/plain": [
              "'１＋１は何？### 回答： '"
            ]
          },
          "execution_count": 29,
          "metadata": {},
          "output_type": "execute_result"
        }
      ],
      "source": [
        "def format_prompt(\n",
        "    prompt: str,\n",
        "    system_prompt: str = \"\" # 今回特に必要ない\n",
        ") -> str:\n",
        "    prompt = prompt + \"### 回答： \"\n",
        "    prompt = system_prompt + prompt\n",
        "    return prompt\n",
        "\n",
        "format_prompt(\"１＋１は何？\")"
      ]
    },
    {
      "cell_type": "code",
      "execution_count": 30,
      "metadata": {
        "colab": {
          "base_uri": "https://localhost:8080/",
          "height": 35
        },
        "id": "NqbifTPHsz9J",
        "outputId": "456619e9-aca9-4f3b-f5ae-e474d8ccc86b"
      },
      "outputs": [
        {
          "data": {
            "text/html": [
              "\n",
              "  <style>\n",
              "    pre {\n",
              "        white-space: pre-wrap;\n",
              "    }\n",
              "  </style>\n",
              "  "
            ],
            "text/plain": [
              "<IPython.core.display.HTML object>"
            ]
          },
          "metadata": {},
          "output_type": "display_data"
        },
        {
          "data": {
            "application/vnd.google.colaboratory.intrinsic+json": {
              "type": "string"
            },
            "text/plain": [
              "'left'"
            ]
          },
          "execution_count": 30,
          "metadata": {},
          "output_type": "execute_result"
        }
      ],
      "source": [
        "tokenizer.padding_side"
      ]
    },
    {
      "cell_type": "code",
      "execution_count": 35,
      "metadata": {
        "colab": {
          "base_uri": "https://localhost:8080/",
          "height": 52
        },
        "id": "VnGmrdBZBndp",
        "outputId": "029cdf0c-f5d2-4ff6-c3bf-01a3d3e236c5"
      },
      "outputs": [
        {
          "data": {
            "text/html": [
              "\n",
              "  <style>\n",
              "    pre {\n",
              "        white-space: pre-wrap;\n",
              "    }\n",
              "  </style>\n",
              "  "
            ],
            "text/plain": [
              "<IPython.core.display.HTML object>"
            ]
          },
          "metadata": {},
          "output_type": "display_data"
        },
        {
          "name": "stderr",
          "output_type": "stream",
          "text": [
            "Setting `pad_token_id` to `eos_token_id`:7 for open-end generation.\n"
          ]
        },
        {
          "name": "stdout",
          "output_type": "stream",
          "text": [
            "六本木周辺の観光スポットを教えてください。### 回答： 六本木ヒルズと東京ミッドタウンは、東京の中心的なランドマークとなっている。<EOD|LLM-jp>\n"
          ]
        }
      ],
      "source": [
        "def ask(\n",
        "    prompt: str,\n",
        "    system_prompt: str | None = \"\",\n",
        "    **kwargs\n",
        ") -> str:\n",
        "    generation_config = {\n",
        "        \"max_new_tokens\": 128,\n",
        "        \"do_sample\": True,\n",
        "        \"temperature\": 0.7,\n",
        "        \"top_p\": 0.95,\n",
        "    }\n",
        "    generation_config.update(kwargs)\n",
        "\n",
        "    with torch.no_grad():\n",
        "        prompt = format_prompt(prompt, system_prompt)\n",
        "        inputs = tokenizer(\n",
        "            prompt,\n",
        "            add_special_tokens=False,\n",
        "            return_tensors='pt',\n",
        "        ).to(model.device)\n",
        "\n",
        "        # .to(model.device)\n",
        "        outputs = model.generate(\n",
        "            **inputs,\n",
        "            **generation_config,\n",
        "        )\n",
        "\n",
        "    output = tokenizer.decode(outputs[0])\n",
        "\n",
        "    print(output)\n",
        "    return output\n",
        "\n",
        "ask(\"六本木周辺の観光スポットを教えてください。\");"
      ]
    },
    {
      "attachments": {},
      "cell_type": "markdown",
      "metadata": {
        "id": "GbzS_GkINh-x"
      },
      "source": [
        "## 質問してみる"
      ]
    },
    {
      "cell_type": "code",
      "execution_count": 36,
      "metadata": {
        "colab": {
          "base_uri": "https://localhost:8080/",
          "height": 52
        },
        "id": "H0A7Civ9vfnE",
        "outputId": "2982b647-e15a-434f-8e2b-d6c6227591e6"
      },
      "outputs": [
        {
          "data": {
            "text/html": [
              "\n",
              "  <style>\n",
              "    pre {\n",
              "        white-space: pre-wrap;\n",
              "    }\n",
              "  </style>\n",
              "  "
            ],
            "text/plain": [
              "<IPython.core.display.HTML object>"
            ]
          },
          "metadata": {},
          "output_type": "display_data"
        },
        {
          "name": "stderr",
          "output_type": "stream",
          "text": [
            "Setting `pad_token_id` to `eos_token_id`:7 for open-end generation.\n"
          ]
        },
        {
          "name": "stdout",
          "output_type": "stream",
          "text": [
            "りんごが5つあります。そこから2つのりんごを取り除きました。残りのりんごの数は何個でしょう？### 回答： 5-2=3 答えは3つ<EOD|LLM-jp>\n"
          ]
        }
      ],
      "source": [
        "text = \"\"\"\n",
        "りんごが5つあります。そこから2つのりんごを取り除きました。残りのりんごの数は何個でしょう？\n",
        "\"\"\".strip()\n",
        "\n",
        "ask(text);"
      ]
    },
    {
      "cell_type": "code",
      "execution_count": 37,
      "metadata": {
        "colab": {
          "base_uri": "https://localhost:8080/",
          "height": 52
        },
        "id": "d96NmfY2v5PM",
        "outputId": "c2e2cc47-2eb7-4f36-d9d6-d98a2f78dc24"
      },
      "outputs": [
        {
          "data": {
            "text/html": [
              "\n",
              "  <style>\n",
              "    pre {\n",
              "        white-space: pre-wrap;\n",
              "    }\n",
              "  </style>\n",
              "  "
            ],
            "text/plain": [
              "<IPython.core.display.HTML object>"
            ]
          },
          "metadata": {},
          "output_type": "display_data"
        },
        {
          "name": "stderr",
          "output_type": "stream",
          "text": [
            "Setting `pad_token_id` to `eos_token_id`:7 for open-end generation.\n"
          ]
        },
        {
          "name": "stdout",
          "output_type": "stream",
          "text": [
            "バットとボールの両方を買うと1100円です。バットはボールよりも1000円高いです。ボールはいくらでしょう？### 回答： ボールは1個100円。バットは1本1100円。<EOD|LLM-jp>\n"
          ]
        }
      ],
      "source": [
        "text = \"\"\"バットとボールの両方を買うと1100円です。バットはボールよりも1000円高いです。ボールはいくらでしょう？\"\"\".strip()\n",
        "\n",
        "ask(prompt=text);"
      ]
    },
    {
      "cell_type": "code",
      "execution_count": 38,
      "metadata": {
        "colab": {
          "base_uri": "https://localhost:8080/",
          "height": 52
        },
        "id": "Trc6z2NowS_n",
        "outputId": "e0488583-216f-4e82-f637-00881716583c"
      },
      "outputs": [
        {
          "data": {
            "text/html": [
              "\n",
              "  <style>\n",
              "    pre {\n",
              "        white-space: pre-wrap;\n",
              "    }\n",
              "  </style>\n",
              "  "
            ],
            "text/plain": [
              "<IPython.core.display.HTML object>"
            ]
          },
          "metadata": {},
          "output_type": "display_data"
        },
        {
          "name": "stderr",
          "output_type": "stream",
          "text": [
            "Setting `pad_token_id` to `eos_token_id`:7 for open-end generation.\n"
          ]
        },
        {
          "name": "stdout",
          "output_type": "stream",
          "text": [
            "引数kを取り、返り値としてフィボナッチ数列におけるk個目の値を返すPython関数を書いてください。### 回答： ``python def fib(n): if n < 2: return 0 return n + fib(n - 1) ```` ``` >>> fib(5) # フィボナッチ数列の5番目の値は13 ```<EOD|LLM-jp>\n"
          ]
        }
      ],
      "source": [
        "text = \"\"\"\n",
        "引数kを取り、返り値としてフィボナッチ数列におけるk個目の値を返すPython関数を書いてください。\n",
        "\"\"\".strip()\n",
        "\n",
        "ask(prompt=text);"
      ]
    },
    {
      "cell_type": "code",
      "execution_count": 39,
      "metadata": {
        "colab": {
          "base_uri": "https://localhost:8080/",
          "height": 69
        },
        "id": "Ysjc7G7EwY2r",
        "outputId": "18f1383f-b61b-4a45-83c1-d055402d3a67"
      },
      "outputs": [
        {
          "data": {
            "text/html": [
              "\n",
              "  <style>\n",
              "    pre {\n",
              "        white-space: pre-wrap;\n",
              "    }\n",
              "  </style>\n",
              "  "
            ],
            "text/plain": [
              "<IPython.core.display.HTML object>"
            ]
          },
          "metadata": {},
          "output_type": "display_data"
        },
        {
          "name": "stderr",
          "output_type": "stream",
          "text": [
            "Setting `pad_token_id` to `eos_token_id`:7 for open-end generation.\n"
          ]
        },
        {
          "name": "stdout",
          "output_type": "stream",
          "text": [
            "下記の英語を日本語に翻訳してください。\n",
            "`There were 3 apples and 2 oranges. How many fruits were there in total?`### 回答： 合計で4つの果物があった。<EOD|LLM-jp>\n"
          ]
        }
      ],
      "source": [
        "text = \"\"\"\n",
        "下記の英語を日本語に翻訳してください。\n",
        "`There were 3 apples and 2 oranges. How many fruits were there in total?`\n",
        "\"\"\".strip()\n",
        "\n",
        "ask(prompt=text);"
      ]
    },
    {
      "cell_type": "code",
      "execution_count": 40,
      "metadata": {
        "colab": {
          "base_uri": "https://localhost:8080/",
          "height": 156
        },
        "id": "VPlEj8C1whKu",
        "outputId": "116ec3ce-7b4e-4eb8-ba90-2d245057d24f"
      },
      "outputs": [
        {
          "data": {
            "text/html": [
              "\n",
              "  <style>\n",
              "    pre {\n",
              "        white-space: pre-wrap;\n",
              "    }\n",
              "  </style>\n",
              "  "
            ],
            "text/plain": [
              "<IPython.core.display.HTML object>"
            ]
          },
          "metadata": {},
          "output_type": "display_data"
        },
        {
          "name": "stderr",
          "output_type": "stream",
          "text": [
            "Setting `pad_token_id` to `eos_token_id`:7 for open-end generation.\n"
          ]
        },
        {
          "name": "stdout",
          "output_type": "stream",
          "text": [
            "下記の文章を要約してください。\n",
            "\n",
            "```\n",
            "【速報】ロシア月探査機「ルナ25」が月に衝突 「消滅した」ロスコスモス発表\n",
            "月に向かっていたロシアの無人探査機「ルナ25」が月に衝突したことが分かった。ロシアの国営宇宙企業ロスコスモスは先ほど、「月に衝突し、消滅した」と明らかにした。月面着陸前の軌道に移行中、制御不能となったという。\n",
            "探査機は21日に月の南極付近に着陸予定だった。\n",
            "```### 回答： 月に衝突した。<EOD|LLM-jp>\n"
          ]
        }
      ],
      "source": [
        "text = \"\"\"\n",
        "下記の文章を要約してください。\n",
        "\n",
        "```\n",
        "【速報】ロシア月探査機「ルナ25」が月に衝突 「消滅した」ロスコスモス発表\n",
        "月に向かっていたロシアの無人探査機「ルナ25」が月に衝突したことが分かった。ロシアの国営宇宙企業ロスコスモスは先ほど、「月に衝突し、消滅した」と明らかにした。月面着陸前の軌道に移行中、制御不能となったという。\n",
        "探査機は21日に月の南極付近に着陸予定だった。\n",
        "```\n",
        "\"\"\".strip()\n",
        "\n",
        "ask(prompt=text);"
      ]
    },
    {
      "cell_type": "code",
      "execution_count": 41,
      "metadata": {
        "colab": {
          "base_uri": "https://localhost:8080/",
          "height": 104
        },
        "id": "aUptExK7KHUZ",
        "outputId": "79cebdeb-bf28-4198-e7e5-59ca2f1845db"
      },
      "outputs": [
        {
          "data": {
            "text/html": [
              "\n",
              "  <style>\n",
              "    pre {\n",
              "        white-space: pre-wrap;\n",
              "    }\n",
              "  </style>\n",
              "  "
            ],
            "text/plain": [
              "<IPython.core.display.HTML object>"
            ]
          },
          "metadata": {},
          "output_type": "display_data"
        },
        {
          "name": "stderr",
          "output_type": "stream",
          "text": [
            "Setting `pad_token_id` to `eos_token_id`:7 for open-end generation.\n"
          ]
        },
        {
          "name": "stdout",
          "output_type": "stream",
          "text": [
            "あなたは友達ボットです。できるだけユーザーが親近感を感じやすいよう接してください。\n",
            "\n",
            "ユーザー: 今日バイト、クビにされたわー。あー人生の意味って何なんだろうねぇー。\n",
            "アシスタント:### 回答： なぜあなたはクビにされたのですか？<EOD|LLM-jp>\n"
          ]
        }
      ],
      "source": [
        "text = \"\"\"\n",
        "あなたは友達ボットです。できるだけユーザーが親近感を感じやすいよう接してください。\n",
        "\n",
        "ユーザー: 今日バイト、クビにされたわー。あー人生の意味って何なんだろうねぇー。\n",
        "アシスタント:\n",
        "\"\"\".strip()\n",
        "\n",
        "ask(prompt=text);"
      ]
    },
    {
      "cell_type": "code",
      "execution_count": 42,
      "metadata": {
        "colab": {
          "base_uri": "https://localhost:8080/",
          "height": 121
        },
        "id": "tFv5PgErLsFR",
        "outputId": "eef4a6a1-5a11-4343-d074-0945476d50b8"
      },
      "outputs": [
        {
          "data": {
            "text/html": [
              "\n",
              "  <style>\n",
              "    pre {\n",
              "        white-space: pre-wrap;\n",
              "    }\n",
              "  </style>\n",
              "  "
            ],
            "text/plain": [
              "<IPython.core.display.HTML object>"
            ]
          },
          "metadata": {},
          "output_type": "display_data"
        },
        {
          "name": "stderr",
          "output_type": "stream",
          "text": [
            "Setting `pad_token_id` to `eos_token_id`:7 for open-end generation.\n"
          ]
        },
        {
          "name": "stdout",
          "output_type": "stream",
          "text": [
            "### Question\n",
            "There was a cookie on the table.\n",
            "Tom entered the room.\n",
            "The cookie disappeared.\n",
            "What was likely to have happened?### 回答： トムがテーブルの上のクッキーを食べた。<EOD|LLM-jp>\n"
          ]
        }
      ],
      "source": [
        "text = \"\"\"\n",
        "### Question\n",
        "There was a cookie on the table.\n",
        "Tom entered the room.\n",
        "The cookie disappeared.\n",
        "What was likely to have happened?\n",
        "\"\"\".strip()\n",
        "\n",
        "ask(prompt=text);"
      ]
    },
    {
      "cell_type": "code",
      "execution_count": 43,
      "metadata": {
        "colab": {
          "base_uri": "https://localhost:8080/",
          "height": 121
        },
        "id": "UzYD75KRVpSL",
        "outputId": "6e6f9fdd-4baa-4b1f-b95a-8b0c84dde634"
      },
      "outputs": [
        {
          "data": {
            "text/html": [
              "\n",
              "  <style>\n",
              "    pre {\n",
              "        white-space: pre-wrap;\n",
              "    }\n",
              "  </style>\n",
              "  "
            ],
            "text/plain": [
              "<IPython.core.display.HTML object>"
            ]
          },
          "metadata": {},
          "output_type": "display_data"
        },
        {
          "name": "stderr",
          "output_type": "stream",
          "text": [
            "Setting `pad_token_id` to `eos_token_id`:7 for open-end generation.\n"
          ]
        },
        {
          "name": "stdout",
          "output_type": "stream",
          "text": [
            "### 質問\n",
            "テーブルにクッキーがおいてありました。\n",
            "太郎が部屋に入りました。\n",
            "クッキーが消えました。\n",
            "何が起きた可能性が高いですか？### 回答： クッキーが太郎の部屋から消えたということは、太郎がクッキーを食べたことを意味する。太郎がクッキーを食べたなら、太郎がクッキーを太郎の部屋に置いたことになる。<EOD|LLM-jp>\n"
          ]
        }
      ],
      "source": [
        "text = \"\"\"\n",
        "### 質問\n",
        "テーブルにクッキーがおいてありました。\n",
        "太郎が部屋に入りました。\n",
        "クッキーが消えました。\n",
        "何が起きた可能性が高いですか？\n",
        "\"\"\".strip()\n",
        "\n",
        "ask(prompt=text);"
      ]
    },
    {
      "cell_type": "code",
      "execution_count": 44,
      "metadata": {
        "colab": {
          "base_uri": "https://localhost:8080/",
          "height": 295
        },
        "id": "vv6Ia1A0LaZY",
        "outputId": "e297b820-75a9-4d9e-ec59-2ccda42dd05e"
      },
      "outputs": [
        {
          "data": {
            "text/html": [
              "\n",
              "  <style>\n",
              "    pre {\n",
              "        white-space: pre-wrap;\n",
              "    }\n",
              "  </style>\n",
              "  "
            ],
            "text/plain": [
              "<IPython.core.display.HTML object>"
            ]
          },
          "metadata": {},
          "output_type": "display_data"
        },
        {
          "name": "stderr",
          "output_type": "stream",
          "text": [
            "Setting `pad_token_id` to `eos_token_id`:7 for open-end generation.\n"
          ]
        },
        {
          "name": "stdout",
          "output_type": "stream",
          "text": [
            "必ず関西弁で答えてください。\n",
            "たこ焼きのレシピを教えてください。### 回答： もちろん！材料と作り方は以下の通り：\n",
            "\n",
            "  * タコ\n",
            "  * 小麦粉\n",
            "  * タコソース（お好みで）\n",
            "  * 天かす\n",
            "  * ソース\n",
            "  * マヨネーズ\n",
            "  * 青のり\n",
            "\n",
            " ステップ1：タコを切る。タコは1cm幅に切る。\n",
            "ステップ2：小麦粉をボールに入れ、水を少しずつ加えて混ぜる。\n",
            "ステップ3：タコを小麦粉に加え、タコと小麦粉がなじむまで混ぜる。\n",
            "ステップ4：小麦粉に天かすを加え、さらに混ぜる。\n"
          ]
        }
      ],
      "source": [
        "text = \"\"\"\n",
        "必ず関西弁で答えてください。\n",
        "たこ焼きのレシピを教えてください。\n",
        "\"\"\".strip()\n",
        "\n",
        "ask(prompt=text);"
      ]
    },
    {
      "cell_type": "code",
      "execution_count": 44,
      "metadata": {
        "id": "5E8Io4FTMBdU"
      },
      "outputs": [],
      "source": []
    }
  ],
  "metadata": {
    "accelerator": "GPU",
    "colab": {
      "gpuType": "A100",
      "machine_shape": "hm",
      "provenance": [],
      "toc_visible": true
    },
    "kernelspec": {
      "display_name": "Python 3",
      "name": "python3"
    },
    "language_info": {
      "name": "python"
    }
  },
  "nbformat": 4,
  "nbformat_minor": 0
}
