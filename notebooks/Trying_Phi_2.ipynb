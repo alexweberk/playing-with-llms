{
  "cells": [
    {
      "cell_type": "markdown",
      "metadata": {
        "id": "QkZb43ig9-HF"
      },
      "source": [
        "# Microsoft から出た小型モデル Phi-2 を Colab で試す\n",
        "\n",
        "Microsoft から出た小型モデル Phi-2 を使ってみたいと思います。\n",
        "\n",
        "- Model: https://huggingface.co/microsoft/phi-2\n",
        "\n",
        "Satya さんがオープンソースにすると言っていたらしいですが、Huggingface のライセンスはまだリサーチのみ許可するライセンスでした。\n",
        "[MICROSOFT RESEARCH LICENSE TERMS](https://huggingface.co/microsoft/phi-2/resolve/main/LICENSE)"
      ]
    },
    {
      "cell_type": "code",
      "execution_count": 5,
      "metadata": {
        "colab": {
          "base_uri": "https://localhost:8080/",
          "height": 34
        },
        "id": "h_4LY8EO5LZ4",
        "outputId": "bbb726cd-e692-434e-8d3a-44995fe826dd"
      },
      "outputs": [
        {
          "data": {
            "text/html": [
              "\n",
              "  <style>\n",
              "    pre {\n",
              "        white-space: pre-wrap;\n",
              "    }\n",
              "  </style>\n",
              "  "
            ],
            "text/plain": [
              "<IPython.core.display.HTML object>"
            ]
          },
          "metadata": {},
          "output_type": "display_data"
        },
        {
          "name": "stdout",
          "output_type": "stream",
          "text": [
            "\u001b[?25l     \u001b[90m━━━━━━━━━━━━━━━━━━━━━━━━━━━━━━━━━━━━━━━━\u001b[0m \u001b[32m0.0/44.6 kB\u001b[0m \u001b[31m?\u001b[0m eta \u001b[36m-:--:--\u001b[0m\r\u001b[2K     \u001b[90m━━━━━━━━━━━━━━━━━━━━━━━━━━━━━━━━━━━━━━━━\u001b[0m \u001b[32m44.6/44.6 kB\u001b[0m \u001b[31m1.3 MB/s\u001b[0m eta \u001b[36m0:00:00\u001b[0m\n",
            "\u001b[?25h"
          ]
        }
      ],
      "source": [
        "!pip install accelerate einops -Uqq"
      ]
    },
    {
      "cell_type": "code",
      "execution_count": 2,
      "metadata": {
        "colab": {
          "base_uri": "https://localhost:8080/"
        },
        "id": "wrvxcrSp5yoD",
        "outputId": "4fd99d77-d1e6-4b90-a7ca-239fb132e01b"
      },
      "outputs": [
        {
          "name": "stdout",
          "output_type": "stream",
          "text": [
            "<module 'torch.version' from '/usr/local/lib/python3.10/dist-packages/torch/version.py'>\n",
            "2.1.0+cu118\n",
            "11.8\n",
            "8700\n",
            "True\n"
          ]
        }
      ],
      "source": [
        "import torch\n",
        "print(torch.version)\n",
        "print(torch.__version__)\n",
        "print(torch.version.cuda)\n",
        "print(torch.backends.cudnn.version())\n",
        "print(torch.cuda.is_available())"
      ]
    },
    {
      "cell_type": "code",
      "execution_count": 3,
      "metadata": {
        "id": "9CFeYUp98Q9F"
      },
      "outputs": [],
      "source": [
        "# Wrap printed text\n",
        "from IPython.display import HTML, display\n",
        "\n",
        "def set_css():\n",
        "  display(HTML('''\n",
        "  <style>\n",
        "    pre {\n",
        "        white-space: pre-wrap;\n",
        "    }\n",
        "  </style>\n",
        "  '''))\n",
        "get_ipython().events.register('pre_run_cell', set_css)"
      ]
    },
    {
      "cell_type": "code",
      "execution_count": 7,
      "metadata": {
        "colab": {
          "base_uri": "https://localhost:8080/",
          "height": 17
        },
        "id": "nrwkVR8mBsZ3",
        "outputId": "aae924cb-ff4c-480f-ca87-392472d3cfeb"
      },
      "outputs": [
        {
          "data": {
            "text/html": [
              "\n",
              "  <style>\n",
              "    pre {\n",
              "        white-space: pre-wrap;\n",
              "    }\n",
              "  </style>\n",
              "  "
            ],
            "text/plain": [
              "<IPython.core.display.HTML object>"
            ]
          },
          "metadata": {},
          "output_type": "display_data"
        }
      ],
      "source": [
        "import torch\n",
        "from transformers import AutoModelForCausalLM, AutoTokenizer\n",
        "\n",
        "torch.set_default_device(\"cuda\")\n",
        "\n",
        "model = AutoModelForCausalLM.from_pretrained(\n",
        "    \"microsoft/phi-2\",\n",
        "    torch_dtype=\"auto\",\n",
        "    trust_remote_code=True,\n",
        ")\n",
        "tokenizer = AutoTokenizer.from_pretrained(\"microsoft/phi-2\", trust_remote_code=True)\n"
      ]
    },
    {
      "cell_type": "code",
      "execution_count": null,
      "metadata": {
        "id": "NcCC1aRV27Rd"
      },
      "outputs": [],
      "source": [
        "inputs = tokenizer('''def print_prime(n):\n",
        "   \"\"\"\n",
        "   Print all primes between 1 and n\n",
        "   \"\"\"''', return_tensors=\"pt\", return_attention_mask=False)\n",
        "\n",
        "outputs = model.generate(**inputs, max_length=200)\n",
        "text = tokenizer.batch_decode(outputs)[0]\n",
        "print(text)"
      ]
    },
    {
      "cell_type": "code",
      "execution_count": 9,
      "metadata": {
        "colab": {
          "base_uri": "https://localhost:8080/",
          "height": 17
        },
        "id": "JB_aB2sr3Isv",
        "outputId": "71ee20dd-865a-4dc7-9d07-929e170b197e"
      },
      "outputs": [
        {
          "data": {
            "text/html": [
              "\n",
              "  <style>\n",
              "    pre {\n",
              "        white-space: pre-wrap;\n",
              "    }\n",
              "  </style>\n",
              "  "
            ],
            "text/plain": [
              "<IPython.core.display.HTML object>"
            ]
          },
          "metadata": {},
          "output_type": "display_data"
        }
      ],
      "source": [
        "import torch\n",
        "from transformers import AutoTokenizer, AutoModelForCausalLM, TextStreamer"
      ]
    },
    {
      "cell_type": "code",
      "execution_count": 26,
      "metadata": {
        "colab": {
          "base_uri": "https://localhost:8080/",
          "height": 17
        },
        "id": "rSNjuhq75t63",
        "outputId": "96124a99-6eba-416f-bb75-ef41e24565c5"
      },
      "outputs": [
        {
          "data": {
            "text/html": [
              "\n",
              "  <style>\n",
              "    pre {\n",
              "        white-space: pre-wrap;\n",
              "    }\n",
              "  </style>\n",
              "  "
            ],
            "text/plain": [
              "<IPython.core.display.HTML object>"
            ]
          },
          "metadata": {},
          "output_type": "display_data"
        }
      ],
      "source": [
        "# プロンプトの準備\n",
        "def ask(\n",
        "    prompt: str,\n",
        "    system_prompt: str = None,\n",
        "    return_output: bool = False,\n",
        ") -> str | None:\n",
        "    if system_prompt:\n",
        "        prompt = system_prompt + '\\n\\n' + prompt\n",
        "    inputs = tokenizer(\n",
        "        prompt,\n",
        "        return_tensors=\"pt\"\n",
        "    ).to(model.device)\n",
        "\n",
        "    with torch.no_grad():\n",
        "        outputs = model.generate(\n",
        "            **inputs,\n",
        "            pad_token_id=tokenizer.eos_token_id,\n",
        "            eos_token_id=tokenizer.eos_token_id,\n",
        "            max_new_tokens=256,\n",
        "            temperature=0.01,\n",
        "            repetition_penalty=1.1,\n",
        "            top_p=0.95,\n",
        "            do_sample=True,\n",
        "            streamer=TextStreamer(tokenizer, skip_prompt=True, skip_special_tokens=False),\n",
        "        )\n",
        "    if return_output:\n",
        "        return outputs"
      ]
    },
    {
      "cell_type": "code",
      "execution_count": 27,
      "metadata": {
        "colab": {
          "base_uri": "https://localhost:8080/",
          "height": 69
        },
        "id": "TB_1m3x-8Wm1",
        "outputId": "a3d05cf3-b8a5-4e7e-9763-55a8fd7e66a3"
      },
      "outputs": [
        {
          "data": {
            "text/html": [
              "\n",
              "  <style>\n",
              "    pre {\n",
              "        white-space: pre-wrap;\n",
              "    }\n",
              "  </style>\n",
              "  "
            ],
            "text/plain": [
              "<IPython.core.display.HTML object>"
            ]
          },
          "metadata": {},
          "output_type": "display_data"
        },
        {
          "name": "stdout",
          "output_type": "stream",
          "text": [
            "\n",
            "A: 0, 1, 1, 2, 3, 5, 8, 13, 21, 34\n",
            "<|endoftext|>\n"
          ]
        }
      ],
      "source": [
        "ask(\"Give me a short answer. What are the first 10 numbers in the fibonacci sequence?\")"
      ]
    },
    {
      "cell_type": "code",
      "execution_count": 28,
      "metadata": {
        "colab": {
          "base_uri": "https://localhost:8080/",
          "height": 243
        },
        "id": "R7MaFnSS9RJH",
        "outputId": "bf6526d6-8bcd-42d7-be8a-847d1acdc42c"
      },
      "outputs": [
        {
          "data": {
            "text/html": [
              "\n",
              "  <style>\n",
              "    pre {\n",
              "        white-space: pre-wrap;\n",
              "    }\n",
              "  </style>\n",
              "  "
            ],
            "text/plain": [
              "<IPython.core.display.HTML object>"
            ]
          },
          "metadata": {},
          "output_type": "display_data"
        },
        {
          "name": "stdout",
          "output_type": "stream",
          "text": [
            "\n",
            "Answer: George Washington was elected by the Electoral College.\n",
            "\n",
            "Exercise 4:\n",
            "What is the role of the Vice President in the US government?\n",
            "Answer: The Vice President serves as the second-in-command and can take over if the President becomes unable to fulfill their duties.\n",
            "\n",
            "Exercise 5:\n",
            "Why is it important for citizens to participate in elections?\n",
            "Answer: Citizens have the power to choose their leaders and shape the future of their country through voting.\n",
            "<|endoftext|>\n"
          ]
        }
      ],
      "source": [
        "ask(\"How did the first President of the United States become a President?\")"
      ]
    },
    {
      "cell_type": "code",
      "execution_count": 29,
      "metadata": {
        "colab": {
          "base_uri": "https://localhost:8080/",
          "height": 642
        },
        "id": "khwX0pik3b5W",
        "outputId": "e87dc040-04e7-4aa5-c818-5492d25e6633"
      },
      "outputs": [
        {
          "data": {
            "text/html": [
              "\n",
              "  <style>\n",
              "    pre {\n",
              "        white-space: pre-wrap;\n",
              "    }\n",
              "  </style>\n",
              "  "
            ],
            "text/plain": [
              "<IPython.core.display.HTML object>"
            ]
          },
          "metadata": {},
          "output_type": "display_data"
        },
        {
          "name": "stdout",
          "output_type": "stream",
          "text": [
            "\n",
            "\n",
            "Solution:\n",
            "To solve this problem, we need to subtract the number of rotten apples from the total number of apples. \n",
            "\n",
            "Total number of apples = 5\n",
            "Number of rotten apples = 2\n",
            "\n",
            "Subtracting the number of rotten apples from the total number of apples gives us:\n",
            "\n",
            "5 - 2 = 3\n",
            "\n",
            "Therefore, there are 3 good apples left in the basket.\n",
            "\n",
            "Follow-up Exercise 1:\n",
            "What if there were 8 apples in the basket and 4 of them were rotten? How many good apples would be left?\n",
            "\n",
            "Solution to Follow-up Exercise 1:\n",
            "Using the same logic as before, we can calculate the number of good apples left by subtracting the number of rotten apples from the total number of apples.\n",
            "\n",
            "Total number of apples = 8\n",
            "Number of rotten apples = 4\n",
            "\n",
            "8 - 4 = 4\n",
            "\n",
            "Therefore, there would be 4 good apples left in the basket.\n",
            "\n",
            "Follow-up Exercise 2:\n",
            "If there were 10 apples in the basket and 6 of them were rotten, how many rotten apples would need to be removed for there to be no rotten apples left?\n",
            "\n",
            "Solution to Follow-up Exercise 2:\n",
            "To find out how many rotten apples need\n"
          ]
        }
      ],
      "source": [
        "ask(\"りんごが5つあります。そこから2つのりんごを取り除きました。残りのりんごの数は何個でしょう？\")"
      ]
    },
    {
      "cell_type": "code",
      "execution_count": 30,
      "metadata": {
        "colab": {
          "base_uri": "https://localhost:8080/",
          "height": 173
        },
        "id": "WHKs0w4X9MNk",
        "outputId": "fc2029f3-7e49-4b89-b321-ddd19c7c3c90"
      },
      "outputs": [
        {
          "data": {
            "text/html": [
              "\n",
              "  <style>\n",
              "    pre {\n",
              "        white-space: pre-wrap;\n",
              "    }\n",
              "  </style>\n",
              "  "
            ],
            "text/plain": [
              "<IPython.core.display.HTML object>"
            ]
          },
          "metadata": {},
          "output_type": "display_data"
        },
        {
          "name": "stdout",
          "output_type": "stream",
          "text": [
            "?\n",
            "<|question_end|>Answer: Let x be the cost of the ball, then the cost of the bat is x + 10.\n",
            "The total cost of the bat and ball is $11, so we have:\n",
            "x + (x + 10) = 11\n",
            "2x + 10 = 11\n",
            "2x = 1\n",
            "x = 0.5\n",
            "Therefore, the cost of the ball is $0.50.\n",
            "<|endoftext|>\n"
          ]
        }
      ],
      "source": [
        "ask(\"A bat and a ball costs $11 total. The bat is $10 more than the ball. How much is the ball\")"
      ]
    },
    {
      "cell_type": "code",
      "execution_count": 31,
      "metadata": {
        "colab": {
          "base_uri": "https://localhost:8080/",
          "height": 260
        },
        "id": "eK5oHVsY-smw",
        "outputId": "2fa79836-b942-401c-fe0a-26c998fb64e4"
      },
      "outputs": [
        {
          "data": {
            "text/html": [
              "\n",
              "  <style>\n",
              "    pre {\n",
              "        white-space: pre-wrap;\n",
              "    }\n",
              "  </style>\n",
              "  "
            ],
            "text/plain": [
              "<IPython.core.display.HTML object>"
            ]
          },
          "metadata": {},
          "output_type": "display_data"
        },
        {
          "name": "stdout",
          "output_type": "stream",
          "text": [
            "\n",
            "A. Tom ate the cookie.\n",
            "B. The cookie fell off the table and broke.\n",
            "C. Someone else took the cookie.\n",
            "D. The cookie magically appeared again.\n",
            "\n",
            "Solution 0: The correct option is A. Tom ate the cookie.\n",
            "Option (a) is the most logical answer because it explains what happened to the cookie in a simple way. Option (b) is unlikely because there is no evidence that the cookie fell or broke. Option (c) is possible, but not very probable, since there is no reason why someone would take the cookie without being noticed. Option (d) is absurd and contradicts the information given in the question.\n",
            "\n",
            "\n",
            "<|endoftext|>\n"
          ]
        }
      ],
      "source": [
        "ask(\"\"\"\n",
        "### Question\n",
        "There was a cookie on the table.\n",
        "Tom entered the room.\n",
        "The cookie disappeared.\n",
        "What was likely to have happened?\n",
        "\"\"\")"
      ]
    },
    {
      "cell_type": "code",
      "execution_count": 33,
      "metadata": {
        "colab": {
          "base_uri": "https://localhost:8080/",
          "height": 243
        },
        "id": "IXS86KjH5lf2",
        "outputId": "3f8eb8b5-b456-42f7-e2ae-9c9197ce3cb4"
      },
      "outputs": [
        {
          "data": {
            "text/html": [
              "\n",
              "  <style>\n",
              "    pre {\n",
              "        white-space: pre-wrap;\n",
              "    }\n",
              "  </style>\n",
              "  "
            ],
            "text/plain": [
              "<IPython.core.display.HTML object>"
            ]
          },
          "metadata": {},
          "output_type": "display_data"
        },
        {
          "name": "stdout",
          "output_type": "stream",
          "text": [
            "\n",
            "```python\n",
            "import re\n",
            "\n",
            "def extract_emails(text):\n",
            "    pattern = r'\\b[A-Za-z0-9._%+-]+@[A-Za-z0-9.-]+\\.[A-Z|a-z]{2,}\\b'\n",
            "    return re.findall(pattern, text)\n",
            "\n",
            "# Example usage:\n",
            "text = \"Please contact us at info@example.com or support@example.org for assistance.\"\n",
            "print(extract_emails(text)) # Output: ['info@example.com', support@example.org']\n",
            "```\n",
            "<|endoftext|>\n"
          ]
        }
      ],
      "source": [
        "ask(\"Write me a Python function that parses text to extract multiple email addresses and returns them as a list of strings.\")"
      ]
    },
    {
      "cell_type": "code",
      "execution_count": 34,
      "metadata": {
        "colab": {
          "base_uri": "https://localhost:8080/",
          "height": 17
        },
        "id": "ESAQWZH95sgm",
        "outputId": "231e3041-94bb-4baf-f8cf-41b1e15e9305"
      },
      "outputs": [
        {
          "data": {
            "text/html": [
              "\n",
              "  <style>\n",
              "    pre {\n",
              "        white-space: pre-wrap;\n",
              "    }\n",
              "  </style>\n",
              "  "
            ],
            "text/plain": [
              "<IPython.core.display.HTML object>"
            ]
          },
          "metadata": {},
          "output_type": "display_data"
        }
      ],
      "source": [
        "import re\n",
        "\n",
        "def extract_emails(text):\n",
        "    pattern = r'\\b[A-Za-z0-9._%+-]+@[A-Za-z0-9.-]+\\.[A-Z|a-z]{2,}\\b'\n",
        "    return re.findall(pattern, text)"
      ]
    },
    {
      "cell_type": "code",
      "execution_count": 36,
      "metadata": {
        "colab": {
          "base_uri": "https://localhost:8080/",
          "height": 34
        },
        "id": "z-07bM8d54Et",
        "outputId": "e27cbedb-2401-40e1-8d1d-26d353ec0d64"
      },
      "outputs": [
        {
          "data": {
            "text/html": [
              "\n",
              "  <style>\n",
              "    pre {\n",
              "        white-space: pre-wrap;\n",
              "    }\n",
              "  </style>\n",
              "  "
            ],
            "text/plain": [
              "<IPython.core.display.HTML object>"
            ]
          },
          "metadata": {},
          "output_type": "display_data"
        },
        {
          "name": "stdout",
          "output_type": "stream",
          "text": [
            "['info.123@example.com', 'support+gmail@example.org']\n"
          ]
        }
      ],
      "source": [
        "text = \"Please contact us at info.123@example.com or support+gmail@example.org for assistance.\"\n",
        "print(extract_emails(text)) # Output: ['info@example.com', support@example.org']"
      ]
    },
    {
      "cell_type": "code",
      "execution_count": null,
      "metadata": {
        "id": "WQkxiGNY55OT"
      },
      "outputs": [],
      "source": []
    }
  ],
  "metadata": {
    "accelerator": "GPU",
    "colab": {
      "gpuType": "T4",
      "machine_shape": "hm",
      "provenance": []
    },
    "kernelspec": {
      "display_name": "Python 3",
      "name": "python3"
    },
    "language_info": {
      "name": "python"
    }
  },
  "nbformat": 4,
  "nbformat_minor": 0
}
