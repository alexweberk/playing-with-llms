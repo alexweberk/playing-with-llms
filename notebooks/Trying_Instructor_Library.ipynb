{
  "cells": [
    {
      "attachments": {},
      "cell_type": "markdown",
      "metadata": {
        "id": "2T3KKTkmmapz"
      },
      "source": [
        "# 生成されるテキストのフォーマットをコントロールしやすくしてくれるライブラリ Instructor を試してみた\n",
        "\n",
        "## Openai の function_call を抽象化してくれるライブラリ Instructor とは？\n",
        "\n",
        "- Openai の API を使うと、プロンプトに対して、解答となる文章を生成できる。\n",
        "- アウトプットとなる文章のフォーマットを指定したい場合、GPT-3.5 等が生成した文章をそのまま使うと、プロンプトでフォーマットを指定したとしても、フォーマット通り生成されないことが多々ある。\n",
        "- Openai が 2023 年 6 月 13 日にリリースした `function_calling` の API を使えば、任意のツールを関数として定義し、その関数の引数を LLM モデルに生成させることができる。\n",
        "- 関数の定義は JSON 形式で行う必要があるが、コードが読みづらくメンテしずらい\n",
        "- そこで、Instructor というライブラリを使うと、関数の定義を Python のコードで簡潔に書くことができる。\n",
        "\n",
        "OpenAI の API は、プロンプトに対する解答を文章として生成する強力なツールです。しかし、出力される文章のフォーマットを指定したい場合、GPT-3.5 などのモデルが生成した文章をそのまま使用すると、プロンプトでフォーマットを指定したにも関わらず、フォーマット通りに生成されないことがしばしばあります。\n",
        "\n",
        "この問題を解決するために、OpenAI は 2023 年 6 月 13 日に function_calling という新しい API をリリースしました。この API を使用すると、任意のツールを関数として定義し、その関数の引数を LLM モデルに生成させることができます。これにより、より具体的で制御可能な出力を得ることが可能になります。\n",
        "\n",
        "ただし、関数の定義は JSON 形式で行う必要があり、コードが読みづらくメンテナンスが難しいという問題があります。これを解決するために、Instructor というライブラリが開発されました。Instructor を使用すると、関数の定義を Python のコードで簡潔に書くことができます。これにより、コードの可読性が向上し、メンテナンスも容易になります。\n",
        "\n",
        "今回はこの Instructor のライブラリを触るのが初めてだったので、試してみた結果を共有させていただければと思います。\n",
        "\n",
        "\n",
        "まずは [Getting Started](https://jxnl.github.io/instructor/) の通りにやってみます。\n"
      ]
    },
    {
      "cell_type": "code",
      "execution_count": 18,
      "metadata": {
        "id": "SBj9B5e0PqGn"
      },
      "outputs": [],
      "source": [
        "!pip install pip openai instructor graphviz -Uqq"
      ]
    },
    {
      "cell_type": "code",
      "execution_count": 4,
      "metadata": {},
      "outputs": [],
      "source": [
        "# Colab上でテキストが見やすいようにwrapしておく\n",
        "from IPython.display import HTML, display\n",
        "\n",
        "def set_css():\n",
        "  display(HTML('''\n",
        "  <style>\n",
        "    pre {\n",
        "        white-space: pre-wrap;\n",
        "    }\n",
        "  </style>\n",
        "  '''))\n",
        "get_ipython().events.register('pre_run_cell', set_css)"
      ]
    },
    {
      "attachments": {},
      "cell_type": "markdown",
      "metadata": {
        "id": "HfPZXtiHSpl5"
      },
      "source": [
        "### セットアップ\n",
        "\n",
        "open_api_key を下記に入力"
      ]
    },
    {
      "cell_type": "code",
      "execution_count": 5,
      "metadata": {
        "id": "R-ON-VXa30px"
      },
      "outputs": [
        {
          "data": {
            "text/html": [
              "\n",
              "  <style>\n",
              "    pre {\n",
              "        white-space: pre-wrap;\n",
              "    }\n",
              "  </style>\n",
              "  "
            ],
            "text/plain": [
              "<IPython.core.display.HTML object>"
            ]
          },
          "metadata": {},
          "output_type": "display_data"
        }
      ],
      "source": [
        "OPENAI_API_KEY = \"YOUR_API_KEY\"\n"
      ]
    },
    {
      "cell_type": "code",
      "execution_count": 6,
      "metadata": {
        "id": "yE-etmnGSn9p"
      },
      "outputs": [
        {
          "data": {
            "text/html": [
              "\n",
              "  <style>\n",
              "    pre {\n",
              "        white-space: pre-wrap;\n",
              "    }\n",
              "  </style>\n",
              "  "
            ],
            "text/plain": [
              "<IPython.core.display.HTML object>"
            ]
          },
          "metadata": {},
          "output_type": "display_data"
        }
      ],
      "source": [
        "import openai\n",
        "from pydantic import BaseModel\n",
        "import instructor\n",
        "\n",
        "openai.api_key = OPENAI_API_KEY\n",
        "\n",
        "# Patch the OpenAI API to use the `ChatCompletion`\n",
        "# endpoint with `response_model` enabled.\n",
        "instructor.patch()"
      ]
    },
    {
      "cell_type": "code",
      "execution_count": 1,
      "metadata": {},
      "outputs": [
        {
          "name": "stdout",
          "output_type": "stream",
          "text": [
            "instructor==0.2.7\n",
            "openai==0.27.10\n"
          ]
        }
      ],
      "source": [
        "# obtain the versions of the openai and instructor packages\n",
        "!pip freeze | grep -E '^openai|^instructor'"
      ]
    },
    {
      "attachments": {},
      "cell_type": "markdown",
      "metadata": {
        "id": "ruWtmwMySjw1"
      },
      "source": [
        "### 情報の抽出\n",
        "\n",
        "まずは抽出したいエンティティーの情報を定義"
      ]
    },
    {
      "cell_type": "code",
      "execution_count": 7,
      "metadata": {
        "id": "MfXTty69RFLO"
      },
      "outputs": [
        {
          "data": {
            "text/html": [
              "\n",
              "  <style>\n",
              "    pre {\n",
              "        white-space: pre-wrap;\n",
              "    }\n",
              "  </style>\n",
              "  "
            ],
            "text/plain": [
              "<IPython.core.display.HTML object>"
            ]
          },
          "metadata": {},
          "output_type": "display_data"
        }
      ],
      "source": [
        "# まずは抽出したいエンティティーの情報を定義\n",
        "\n",
        "class UserDetail(BaseModel):\n",
        "    name: str\n",
        "    age: int"
      ]
    },
    {
      "cell_type": "code",
      "execution_count": 8,
      "metadata": {
        "colab": {
          "base_uri": "https://localhost:8080/",
          "height": 402
        },
        "id": "4Q07q8AZRIF1",
        "outputId": "49ad9c72-907a-4a38-8b4a-396ca9abf463"
      },
      "outputs": [
        {
          "data": {
            "text/html": [
              "\n",
              "  <style>\n",
              "    pre {\n",
              "        white-space: pre-wrap;\n",
              "    }\n",
              "  </style>\n",
              "  "
            ],
            "text/plain": [
              "<IPython.core.display.HTML object>"
            ]
          },
          "metadata": {},
          "output_type": "display_data"
        },
        {
          "data": {
            "text/plain": [
              "UserDetail(name='Jason Bourne', age=53)"
            ]
          },
          "execution_count": 8,
          "metadata": {},
          "output_type": "execute_result"
        }
      ],
      "source": [
        "user: UserDetail = openai.ChatCompletion.create(\n",
        "    model=\"gpt-3.5-turbo\",\n",
        "    response_model=UserDetail,\n",
        "    messages=[\n",
        "        {\"role\": \"user\", \"content\": \"Jason Bourneは５３歳の男性です。\"},\n",
        "    ]\n",
        ")\n",
        "user"
      ]
    },
    {
      "attachments": {},
      "cell_type": "markdown",
      "metadata": {
        "id": "DUWVyHiKhydg"
      },
      "source": [
        "無事名前と年齢が抽出されました。\n",
        "\n",
        "もう少し複雑なインプットを試してみる。試しに[Wikipediaの「テイラー・スウィフト」に関するエントリー](https://ja.wikipedia.org/wiki/%E3%83%86%E3%82%A4%E3%83%A9%E3%83%BC%E3%83%BB%E3%82%B9%E3%82%A6%E3%82%A3%E3%83%95%E3%83%88)を使います。"
      ]
    },
    {
      "cell_type": "code",
      "execution_count": 9,
      "metadata": {
        "colab": {
          "base_uri": "https://localhost:8080/"
        },
        "id": "7e05RZ6Oi1JJ",
        "outputId": "337d446a-4cbb-495e-e147-cdefcb0e5c18"
      },
      "outputs": [
        {
          "data": {
            "text/html": [
              "\n",
              "  <style>\n",
              "    pre {\n",
              "        white-space: pre-wrap;\n",
              "    }\n",
              "  </style>\n",
              "  "
            ],
            "text/plain": [
              "<IPython.core.display.HTML object>"
            ]
          },
          "metadata": {},
          "output_type": "display_data"
        },
        {
          "data": {
            "text/plain": [
              "UserDetail(name='テイラー・アリソン・スウィフト', age=31)"
            ]
          },
          "execution_count": 9,
          "metadata": {},
          "output_type": "execute_result"
        }
      ],
      "source": [
        "content = \"\"\"\n",
        "テイラー・アリソン・スウィフト（英語: Taylor Alison Swift、1989年12月13日 - ）は、米国のシンガーソングライター[4]。グラミー賞を12回受賞（46回ノミネート）している[5]。\n",
        "カルヴィン・ハリスと共にリアーナの楽曲「This Is What You Came For」を作詞した際には、ニルス・ショーベリ（英語: Nils Sjöberg）というペンネームを使用した。\n",
        "ファンは総称して、スウィフティーズ（英語: Swifties）と呼ばれる。\n",
        "\n",
        "生い立ち\n",
        "1989年12月13日、ペンシルベニア州ウエスト・レディングで生まれた[6]。父親は銀行のファイナンシャル・アドバイザーである[7][8]。父はペンシルベニア州で育ち、祖先は3代にわたる銀行頭取であった[9][10]。母親は投資信託のマーケティング管理であったが、退職後専業主婦となった[11]。母はアメリカ人であるが東南アジアを中心にエンジニアとして働いていた父親（テイラーの祖父）と10歳までシンガポールで過ごし、帰国後テキサス州に居住した[10]。テイラーには弟がいる[12]。\n",
        "\"\"\"\n",
        "\n",
        "user: UserDetail = openai.ChatCompletion.create(\n",
        "    model=\"gpt-3.5-turbo\",\n",
        "    response_model=UserDetail,\n",
        "    messages=[\n",
        "        {\"role\": \"user\", \"content\": content},\n",
        "    ]\n",
        ")\n",
        "user"
      ]
    },
    {
      "attachments": {},
      "cell_type": "markdown",
      "metadata": {
        "id": "zZexh97wizDj"
      },
      "source": [
        "年齢が明示されていなくても推測してくれるみたいです。1989年生まれなので2023年であれば３４歳なはずですが、年齢がずれているのはGPT-3.5のトレーニングのカットオフ時期の影響でしょうか。"
      ]
    },
    {
      "cell_type": "code",
      "execution_count": 10,
      "metadata": {
        "colab": {
          "base_uri": "https://localhost:8080/"
        },
        "id": "CFUwzjLYjvkX",
        "outputId": "17096832-ff49-4207-ddac-8643354f3936"
      },
      "outputs": [
        {
          "data": {
            "text/html": [
              "\n",
              "  <style>\n",
              "    pre {\n",
              "        white-space: pre-wrap;\n",
              "    }\n",
              "  </style>\n",
              "  "
            ],
            "text/plain": [
              "<IPython.core.display.HTML object>"
            ]
          },
          "metadata": {},
          "output_type": "display_data"
        },
        {
          "data": {
            "text/plain": [
              "UserDetail(name='テイラー・アリソン・スウィフト', age=33)"
            ]
          },
          "execution_count": 10,
          "metadata": {},
          "output_type": "execute_result"
        }
      ],
      "source": [
        "content = \"今日の日付は2023年9月16日。\\n\\n\"  + content\n",
        "\n",
        "user: UserDetail = openai.ChatCompletion.create(\n",
        "    model=\"gpt-3.5-turbo\",\n",
        "    response_model=UserDetail,\n",
        "    messages=[\n",
        "        {\"role\": \"user\", \"content\": content},\n",
        "    ]\n",
        ")\n",
        "user"
      ]
    },
    {
      "attachments": {},
      "cell_type": "markdown",
      "metadata": {
        "id": "t7G5I-pUkBW6"
      },
      "source": [
        "今日の日付をちゃんと入れてあげると(恐らく)正しい年齢が計算されました。"
      ]
    },
    {
      "attachments": {},
      "cell_type": "markdown",
      "metadata": {
        "id": "iCdpn0kXh2NG"
      },
      "source": [
        "### OpenAISchemaを使った指定\n",
        "\n",
        "上記では `instructor.patch()` を使うことで `response_model` の kwarg を使えるようにしましたが、`OpenAISchema` を使うと直接 OpenAI の schema の生成だけ行うことができます。\n",
        "\n",
        "これを `openai.ChatCompletion.create()` に対し、 `functions` と `function_call` の kwarg として入力することで、普通の function calling 同様に扱うことが出来ます。\n",
        "\n",
        "より細かい設定が必要な際には、直接的にこの方法を使うと良いのかもしれません。\n",
        "\n",
        "初めは上記と同様、モデルの型定義を行います。"
      ]
    },
    {
      "cell_type": "code",
      "execution_count": 11,
      "metadata": {
        "colab": {
          "base_uri": "https://localhost:8080/",
          "height": 342
        },
        "id": "dE3BgDUkh7Oo",
        "outputId": "729776a1-8689-425e-9afd-4fa2186799d4"
      },
      "outputs": [
        {
          "data": {
            "text/html": [
              "\n",
              "  <style>\n",
              "    pre {\n",
              "        white-space: pre-wrap;\n",
              "    }\n",
              "  </style>\n",
              "  "
            ],
            "text/plain": [
              "<IPython.core.display.HTML object>"
            ]
          },
          "metadata": {},
          "output_type": "display_data"
        },
        {
          "data": {
            "text/plain": [
              "{'name': 'UserDetails',\n",
              " 'description': '\"\\nUserに関して抽出した情報',\n",
              " 'parameters': {'properties': {'name': {'description': \"User's full name\",\n",
              "    'type': 'string'},\n",
              "   'age': {'type': 'integer'},\n",
              "   'gender': {'description': \"User's gender: Choose from '男性', '女性', 'その他'\",\n",
              "    'type': 'string'},\n",
              "   'birthday': {'description': \"User's birthday in YYYY-MM-DD format.\",\n",
              "    'type': 'string'}},\n",
              "  'required': ['age', 'birthday', 'gender', 'name'],\n",
              "  'type': 'object'}}"
            ]
          },
          "execution_count": 11,
          "metadata": {},
          "output_type": "execute_result"
        }
      ],
      "source": [
        "from instructor import OpenAISchema\n",
        "from pydantic import Field\n",
        "\n",
        "class UserDetails(OpenAISchema):\n",
        "    \"\"\"\"\n",
        "    Userに関して抽出した情報\n",
        "    \"\"\"\n",
        "    name: str = Field(..., description=\"User's full name\")\n",
        "    age: int\n",
        "    gender: str = Field(..., description=\"User's gender: Choose from '男性', '女性', 'その他'\")\n",
        "    birthday: str = Field(..., description=\"User's birthday in YYYY-MM-DD format.\")\n",
        "\n",
        "# 生成される openai_schema を確認\n",
        "UserDetails.openai_schema"
      ]
    },
    {
      "attachments": {},
      "cell_type": "markdown",
      "metadata": {},
      "source": [
        "response_model を使わずに、通常の function calling を行います。"
      ]
    },
    {
      "cell_type": "code",
      "execution_count": 48,
      "metadata": {
        "colab": {
          "base_uri": "https://localhost:8080/"
        },
        "id": "PXF7yFwORuOK",
        "outputId": "41838d92-b286-4f73-c3f3-5adb84b8e325"
      },
      "outputs": [
        {
          "data": {
            "text/html": [
              "\n",
              "  <style>\n",
              "    pre {\n",
              "        white-space: pre-wrap;\n",
              "    }\n",
              "  </style>\n",
              "  "
            ],
            "text/plain": [
              "<IPython.core.display.HTML object>"
            ]
          },
          "metadata": {},
          "output_type": "display_data"
        },
        {
          "data": {
            "text/plain": [
              "<OpenAIObject chat.completion id=chatcmpl-807toGzWDsvBeedEh5foMFB1D5UrG at 0x13128f890> JSON: {\n",
              "  \"id\": \"chatcmpl-807toGzWDsvBeedEh5foMFB1D5UrG\",\n",
              "  \"object\": \"chat.completion\",\n",
              "  \"created\": 1695041056,\n",
              "  \"model\": \"gpt-3.5-turbo-0613\",\n",
              "  \"choices\": [\n",
              "    {\n",
              "      \"index\": 0,\n",
              "      \"message\": {\n",
              "        \"role\": \"assistant\",\n",
              "        \"content\": null,\n",
              "        \"function_call\": {\n",
              "          \"name\": \"UserDetails\",\n",
              "          \"arguments\": \"{\\n  \\\"name\\\": \\\"\\u30c6\\u30a4\\u30e9\\u30fc\\u30fb\\u30a2\\u30ea\\u30bd\\u30f3\\u30fb\\u30b9\\u30a6\\u30a3\\u30d5\\u30c8\\\",\\n  \\\"age\\\": 33,\\n  \\\"gender\\\": \\\"\\u5973\\u6027\\\",\\n  \\\"birthday\\\": \\\"1989-12-13\\\"\\n}\"\n",
              "        }\n",
              "      },\n",
              "      \"finish_reason\": \"stop\"\n",
              "    }\n",
              "  ],\n",
              "  \"usage\": {\n",
              "    \"prompt_tokens\": 598,\n",
              "    \"completion_tokens\": 51,\n",
              "    \"total_tokens\": 649\n",
              "  }\n",
              "}"
            ]
          },
          "execution_count": 48,
          "metadata": {},
          "output_type": "execute_result"
        }
      ],
      "source": [
        "completion = openai.ChatCompletion.create(\n",
        "    model=\"gpt-3.5-turbo\",\n",
        "    functions=[UserDetails.openai_schema],\n",
        "    function_call={\"name\": UserDetails.openai_schema[\"name\"]},\n",
        "    messages=[\n",
        "        {\"role\": \"system\", \"content\": \"与えられた情報からユーザー情報を抽出してください\"},\n",
        "        {\"role\": \"user\", \"content\": content},\n",
        "    ]\n",
        ")\n",
        "completion"
      ]
    },
    {
      "attachments": {},
      "cell_type": "markdown",
      "metadata": {},
      "source": [
        "返り値の `completion` オブジェクトから user の情報を抽出。"
      ]
    },
    {
      "cell_type": "code",
      "execution_count": 13,
      "metadata": {
        "colab": {
          "base_uri": "https://localhost:8080/"
        },
        "id": "U_PJMs9Fii2F",
        "outputId": "7440a50d-2688-4034-9eef-1ca7070b3641"
      },
      "outputs": [
        {
          "data": {
            "text/html": [
              "\n",
              "  <style>\n",
              "    pre {\n",
              "        white-space: pre-wrap;\n",
              "    }\n",
              "  </style>\n",
              "  "
            ],
            "text/plain": [
              "<IPython.core.display.HTML object>"
            ]
          },
          "metadata": {},
          "output_type": "display_data"
        },
        {
          "data": {
            "text/plain": [
              "UserDetails(name='テイラー・アリソン・スウィフト', age=33, gender='女性', birthday='1989-12-13')"
            ]
          },
          "execution_count": 13,
          "metadata": {},
          "output_type": "execute_result"
        }
      ],
      "source": [
        "# 返り値の `completion` オブジェクトから user の情報を抽出\n",
        "user = UserDetails.from_response(completion)\n",
        "user"
      ]
    },
    {
      "attachments": {},
      "cell_type": "markdown",
      "metadata": {
        "id": "NdrccIJCdAIU"
      },
      "source": [
        "上記の例であれば response_model で実行も可能です。response_modelが結構便利なため、普段は直接response_modelを使った使い方で良い気がしました。"
      ]
    },
    {
      "cell_type": "code",
      "execution_count": 49,
      "metadata": {
        "colab": {
          "base_uri": "https://localhost:8080/"
        },
        "id": "wB_rfK4gc_UY",
        "outputId": "255d2c67-2b57-473a-c2c1-04fabace2e17"
      },
      "outputs": [
        {
          "data": {
            "text/html": [
              "\n",
              "  <style>\n",
              "    pre {\n",
              "        white-space: pre-wrap;\n",
              "    }\n",
              "  </style>\n",
              "  "
            ],
            "text/plain": [
              "<IPython.core.display.HTML object>"
            ]
          },
          "metadata": {},
          "output_type": "display_data"
        },
        {
          "data": {
            "text/plain": [
              "UserDetails(name='テイラー・アリソン・スウィフト', age=33, gender='女性', birthday='1989-12-13')"
            ]
          },
          "execution_count": 49,
          "metadata": {},
          "output_type": "execute_result"
        }
      ],
      "source": [
        "user = openai.ChatCompletion.create(\n",
        "    model=\"gpt-3.5-turbo\",\n",
        "    response_model=UserDetails,\n",
        "    messages=[\n",
        "        # {\"role\": \"system\", \"content\": \"Extract user details from the content\"},\n",
        "        {\"role\": \"user\", \"content\": content},\n",
        "    ]\n",
        ")\n",
        "user"
      ]
    },
    {
      "attachments": {},
      "cell_type": "markdown",
      "metadata": {
        "id": "IxW6866LdVsP"
      },
      "source": [
        "### テキストの分類\n",
        "\n",
        "使用法の例に関してはこちらの[リンク](https://jxnl.github.io/instructor/examples/)が役立ちました。\n",
        "テキスト分類がライブラリの肌感を把握するのに良さそうだったので、試してみます。\n",
        "\n",
        "スパム判定"
      ]
    },
    {
      "cell_type": "code",
      "execution_count": 57,
      "metadata": {
        "id": "MUM5o222dLUw"
      },
      "outputs": [
        {
          "data": {
            "text/html": [
              "\n",
              "  <style>\n",
              "    pre {\n",
              "        white-space: pre-wrap;\n",
              "    }\n",
              "  </style>\n",
              "  "
            ],
            "text/plain": [
              "<IPython.core.display.HTML object>"
            ]
          },
          "metadata": {},
          "output_type": "display_data"
        }
      ],
      "source": [
        "from enum import Enum\n",
        "from pydantic import BaseModel\n",
        "\n",
        "class Labels(str, Enum):\n",
        "    \"スパム判定のテキスト分類用のラベル\"\n",
        "    SPAM = 'spam'\n",
        "    NOT_SPAM = 'not_spam'\n",
        "\n",
        "class SpamClassification(BaseModel):\n",
        "    \"Classification of the text as spam or not_spam\"\n",
        "    class_label: Labels = Field(..., description=\"The label spam or not_spam\")\n"
      ]
    },
    {
      "cell_type": "code",
      "execution_count": 58,
      "metadata": {
        "colab": {
          "base_uri": "https://localhost:8080/"
        },
        "id": "udxNdN9mgyDz",
        "outputId": "01082e35-a4f8-45e4-8c69-9f033f3ba3d9"
      },
      "outputs": [
        {
          "data": {
            "text/html": [
              "\n",
              "  <style>\n",
              "    pre {\n",
              "        white-space: pre-wrap;\n",
              "    }\n",
              "  </style>\n",
              "  "
            ],
            "text/plain": [
              "<IPython.core.display.HTML object>"
            ]
          },
          "metadata": {},
          "output_type": "display_data"
        },
        {
          "data": {
            "text/plain": [
              "SpamClassification(class_label=<Labels.SPAM: 'spam'>)"
            ]
          },
          "execution_count": 58,
          "metadata": {},
          "output_type": "execute_result"
        }
      ],
      "source": [
        "import openai\n",
        "import instructor\n",
        "\n",
        "# OpenAI API の `ChatCompletion`\n",
        "# エンドポイントをパッチし、 `response_model` を有効にする。\n",
        "instructor.patch()\n",
        "\n",
        "def classify(data: str) -> SpamClassification:\n",
        "    \"\"\"インプットテキストに対してスパムかそうでないかの判定を一つだけ返す関数\"\"\"\n",
        "    return openai.ChatCompletion.create(\n",
        "        model=\"gpt-3.5-turbo\",\n",
        "        response_model=SpamClassification,\n",
        "        messages=[\n",
        "            {\n",
        "                \"role\": \"user\",\n",
        "                \"content\": f\"Classify the following text as spam or not_spam: {data}\",\n",
        "            },\n",
        "        ],\n",
        "    )\n",
        "\n",
        "# ナイジェリアの手紙の詐欺の例 (wikipedia より)\n",
        "nigerian_letter = \"\"\"財産取得のための援助のお願い\n",
        "\n",
        "このたびは、あなたの住む国において資産や不動産を取得\n",
        "したいという望みを、ナイジェリア連邦労働住宅省の契約\n",
        "及び資産配分局長に代わり、あなたにお知らせいたしたく\n",
        "お手紙差し上げました。\n",
        "\n",
        "彼の非常に戦略的に重要で影響力の強い地位を考慮いたし\n",
        "ますと、彼はこの取引を可能な限り内密にしたいと望んで\n",
        "いるでしょう。彼はさらに、少なくとも取引が完了する前の\n",
        "今の時点では、取引における彼の正体を非公開にしたいと\n",
        "考えております。それゆえ、われわれは海外における代理人\n",
        "を求めております。\n",
        "\n",
        "そこで、この取引を実現するため、私はあなたがわれわれの\n",
        "海外代理人として振舞うことに同意するよう問い合わせる\n",
        "ようにと指示されました。\n",
        "\n",
        "この取り決めは、手短にいえば、われわれがあなたの国で\n",
        "計画している投資を遂行する意図で用意したファンドが現在、\n",
        "ナイジェリアン・エイペックス・バンク（＝ナイジェリア中央銀行）\n",
        "の暗号化された口座にあり、われわれはこの資金をあなたの\n",
        "国で使う前に、あなたの国の使い勝手のよい口座に移すために、\n",
        "口座をご用意いただくなどのあなたの助力が必要なのです。\n",
        "\n",
        "この契約により、わが省からあなたにいくぶんかの支払がある\n",
        "でしょうから、あなたにはナイジェリア連邦労働住宅省のために\n",
        "契約を遂行していただけるだろうと考えております。\n",
        "この契約は総額2640万米ドルにのぼり、あなたがわれわれの\n",
        "海外代理人になることをご了解いただいた場合、あなたの\n",
        "取り分は30%になるでしょう。\n",
        "\n",
        "支払いが発効し次第、そして上述の集金が成功裏にあなたの口座に\n",
        "入金し次第、われわれは自分たちの取り分を海外のいくつかの\n",
        "資産を取得することに使うつもりです。この件に関しても、あなた\n",
        "はわれわれの代理人として動いてほしいのです。\n",
        "\n",
        "これに照らして、わたしは以下の情報をお教えいただきたいのです。\n",
        "1. あなたの会社の名前と住所（もしあれば）\n",
        "2. あなた個人のファックス番号\n",
        "3. 連絡のため、あなたの個人の電話番号\n",
        "\n",
        "この提案の受け入れについて、上にあげたわたしの電子メール\n",
        "アドレスを通してお知らせください。その後、われわれはこの\n",
        "取引について形態などを議論したいと思います。\n",
        "\n",
        "あなたのご回答が早ければ早いほど助かります。あなたのご協力を\n",
        "お待ちしております。ありがとうございました。\n",
        "\"\"\"\n",
        "\n",
        "classify(nigerian_letter)"
      ]
    },
    {
      "cell_type": "code",
      "execution_count": 59,
      "metadata": {},
      "outputs": [
        {
          "data": {
            "text/html": [
              "\n",
              "  <style>\n",
              "    pre {\n",
              "        white-space: pre-wrap;\n",
              "    }\n",
              "  </style>\n",
              "  "
            ],
            "text/plain": [
              "<IPython.core.display.HTML object>"
            ]
          },
          "metadata": {},
          "output_type": "display_data"
        },
        {
          "data": {
            "text/plain": [
              "SpamClassification(class_label=<Labels.NOT_SPAM: 'not_spam'>)"
            ]
          },
          "execution_count": 59,
          "metadata": {},
          "output_type": "execute_result"
        }
      ],
      "source": [
        "classify(\"君のことを愛しているよ\")"
      ]
    },
    {
      "cell_type": "code",
      "execution_count": 60,
      "metadata": {},
      "outputs": [
        {
          "data": {
            "text/html": [
              "\n",
              "  <style>\n",
              "    pre {\n",
              "        white-space: pre-wrap;\n",
              "    }\n",
              "  </style>\n",
              "  "
            ],
            "text/plain": [
              "<IPython.core.display.HTML object>"
            ]
          },
          "metadata": {},
          "output_type": "display_data"
        },
        {
          "data": {
            "text/plain": [
              "SpamClassification(class_label=<Labels.NOT_SPAM: 'not_spam'>)"
            ]
          },
          "execution_count": 60,
          "metadata": {},
          "output_type": "execute_result"
        }
      ],
      "source": [
        "classify(\"\"\"\n",
        "鈴木様\n",
        "\n",
        "お世話になっております。不動商事の長須賀です。\n",
        "\n",
        "昨日調整したミーティングに関してですが、大変申し訳ございませんが緊急の用事が入ってしまいまして、\n",
        "参加できなくなってしまいました。大変申し訳ございません。\n",
        "\n",
        "また後日別の日程で再度調整可能でしょうか。ご検討のほどよろしくお願いいたします。\n",
        "\n",
        "不動商事\n",
        "長須賀\n",
        "\"\"\")"
      ]
    },
    {
      "attachments": {},
      "cell_type": "markdown",
      "metadata": {},
      "source": [
        "上記の例ではうまくいく走るよう調整を行いましたが、定義の仕方次第ではうまく行かない例もありました。結局はモデルが function calling を適切に行なってくれるようチューニングが必要となります。"
      ]
    },
    {
      "attachments": {},
      "cell_type": "markdown",
      "metadata": {},
      "source": [
        "参考までに、Instructorを使わなかった場合:"
      ]
    },
    {
      "cell_type": "code",
      "execution_count": 68,
      "metadata": {
        "colab": {
          "base_uri": "https://localhost:8080/"
        },
        "id": "mPQo2aDTdDvG",
        "outputId": "428e4c37-0153-44cc-b727-72ddc05816b7"
      },
      "outputs": [
        {
          "data": {
            "text/html": [
              "\n",
              "  <style>\n",
              "    pre {\n",
              "        white-space: pre-wrap;\n",
              "    }\n",
              "  </style>\n",
              "  "
            ],
            "text/plain": [
              "<IPython.core.display.HTML object>"
            ]
          },
          "metadata": {},
          "output_type": "display_data"
        },
        {
          "data": {
            "text/plain": [
              "<OpenAIObject chat.completion id=chatcmpl-808GfWIdvfUDX4LCa36HH9tPj2TxD at 0x1312faab0> JSON: {\n",
              "  \"id\": \"chatcmpl-808GfWIdvfUDX4LCa36HH9tPj2TxD\",\n",
              "  \"object\": \"chat.completion\",\n",
              "  \"created\": 1695042473,\n",
              "  \"model\": \"gpt-3.5-turbo-0613\",\n",
              "  \"choices\": [\n",
              "    {\n",
              "      \"index\": 0,\n",
              "      \"message\": {\n",
              "        \"role\": \"assistant\",\n",
              "        \"content\": \"\\u30b9\\u30d1\\u30e0\\u3067\\u306f\\u306a\\u3044\"\n",
              "      },\n",
              "      \"finish_reason\": \"stop\"\n",
              "    }\n",
              "  ],\n",
              "  \"usage\": {\n",
              "    \"prompt_tokens\": 1054,\n",
              "    \"completion_tokens\": 6,\n",
              "    \"total_tokens\": 1060\n",
              "  }\n",
              "}"
            ]
          },
          "execution_count": 68,
          "metadata": {},
          "output_type": "execute_result"
        }
      ],
      "source": [
        "res = openai.ChatCompletion.create(\n",
        "    model=\"gpt-3.5-turbo\",\n",
        "    messages=[\n",
        "        {\n",
        "            \"role\": \"user\",\n",
        "            \"content\": f\"次のテキストを「スパム」か「スパムではない」かのどちらかに分類してください:\\n\\n{nigerian_letter}\",\n",
        "        },\n",
        "    ],\n",
        ")\n",
        "res"
      ]
    },
    {
      "cell_type": "code",
      "execution_count": 69,
      "metadata": {
        "colab": {
          "base_uri": "https://localhost:8080/",
          "height": 36
        },
        "id": "PYUzu_3PiRQW",
        "outputId": "eccb9d00-efd4-4f41-ccde-0bd61771ed32"
      },
      "outputs": [
        {
          "data": {
            "text/html": [
              "\n",
              "  <style>\n",
              "    pre {\n",
              "        white-space: pre-wrap;\n",
              "    }\n",
              "  </style>\n",
              "  "
            ],
            "text/plain": [
              "<IPython.core.display.HTML object>"
            ]
          },
          "metadata": {},
          "output_type": "display_data"
        },
        {
          "data": {
            "text/plain": [
              "'スパムではない'"
            ]
          },
          "execution_count": 69,
          "metadata": {},
          "output_type": "execute_result"
        }
      ],
      "source": [
        "res['choices'][0]['message']['content']"
      ]
    },
    {
      "attachments": {},
      "cell_type": "markdown",
      "metadata": {
        "id": "P5xoEeeoiX5Z"
      },
      "source": [
        "（スパムではないと出てしまいますね…）\n",
        "\n",
        "LLMからの返り値をその後も何かのプログラムなどで使いたい場合は、ここから解答を正規化していくのが必要となります。そのため、手法としてOpenAIのfunction_callingを使って正規化をする手法が生まれています。この一連の流れをより簡単に・直感的に行うために、Instructorというライブラリが開発されました。"
      ]
    },
    {
      "attachments": {},
      "cell_type": "markdown",
      "metadata": {
        "id": "j7rPonPNmqOy"
      },
      "source": [
        "### ナレッジグラフの生成\n",
        "\n",
        "直近で @yoheinakajima さんの Instagraph が Twitter で話題になっていました。これは OpenAI の function_call を使ってナレッジグラフを生成するものです。[github](https://github.com/yoheinakajima/instagraph)\n",
        "\n",
        "それを受けて @jxnlco さんが Instructor を使ってナレッジグラフを生成する例を公開していました。[リンク](https://jxnl.github.io/instructor/examples/knowledge_graph/)\n",
        "下記ではそのナレッジグラフの可視化を少しアレンジして試してみたいと思います。"
      ]
    },
    {
      "cell_type": "code",
      "execution_count": 70,
      "metadata": {
        "id": "wSf5GlPKltmj"
      },
      "outputs": [
        {
          "data": {
            "text/html": [
              "\n",
              "  <style>\n",
              "    pre {\n",
              "        white-space: pre-wrap;\n",
              "    }\n",
              "  </style>\n",
              "  "
            ],
            "text/plain": [
              "<IPython.core.display.HTML object>"
            ]
          },
          "metadata": {},
          "output_type": "display_data"
        }
      ],
      "source": [
        "from pydantic import BaseModel, Field\n",
        "from typing import List\n",
        "import openai\n",
        "import instructor\n",
        "\n",
        "instructor.patch()\n",
        "\n",
        "class Node(BaseModel):\n",
        "    id: int\n",
        "    label: str\n",
        "    color: str\n",
        "\n",
        "class Edge(BaseModel):\n",
        "    source: int\n",
        "    target: int\n",
        "    label: str\n",
        "    color: str = \"black\"\n",
        "\n",
        "class KnowledgeGraph(BaseModel):\n",
        "    nodes: List[Node] = Field(..., default_factory=list)\n",
        "    edges: List[Edge] = Field(..., default_factory=list)"
      ]
    },
    {
      "cell_type": "code",
      "execution_count": 74,
      "metadata": {
        "id": "V5W-qEtFmxGG"
      },
      "outputs": [
        {
          "data": {
            "text/html": [
              "\n",
              "  <style>\n",
              "    pre {\n",
              "        white-space: pre-wrap;\n",
              "    }\n",
              "  </style>\n",
              "  "
            ],
            "text/plain": [
              "<IPython.core.display.HTML object>"
            ]
          },
          "metadata": {},
          "output_type": "display_data"
        }
      ],
      "source": [
        "def generate_graph(input: str, model: str = \"gpt-3.5-turbo\") -> KnowledgeGraph:\n",
        "    return openai.ChatCompletion.create(\n",
        "        model=model,\n",
        "        messages=[\n",
        "            {\n",
        "                \"role\": \"user\",\n",
        "                \"content\": f\"下記の文章について、詳細なナレッジグラフを生成してください:\\n\\n{input}\",\n",
        "            }\n",
        "        ],\n",
        "        response_model=KnowledgeGraph,\n",
        "    )\n"
      ]
    },
    {
      "cell_type": "code",
      "execution_count": 72,
      "metadata": {
        "id": "GzhZ-kALmy_f"
      },
      "outputs": [
        {
          "data": {
            "text/html": [
              "\n",
              "  <style>\n",
              "    pre {\n",
              "        white-space: pre-wrap;\n",
              "    }\n",
              "  </style>\n",
              "  "
            ],
            "text/plain": [
              "<IPython.core.display.HTML object>"
            ]
          },
          "metadata": {},
          "output_type": "display_data"
        }
      ],
      "source": [
        "from graphviz import Digraph\n",
        "\n",
        "def visualize_knowledge_graph(kg: KnowledgeGraph):\n",
        "    dot = Digraph(comment=\"Knowledge Graph\", )\n",
        "\n",
        "    # Add nodes\n",
        "    for node in kg.nodes:\n",
        "        dot.node(str(node.id), node.label, color=node.color)\n",
        "\n",
        "    # Add edges\n",
        "    for edge in kg.edges:\n",
        "        dot.edge(str(edge.source), str(edge.target), label=edge.label, color=edge.color)\n",
        "\n",
        "    # Render the graph\n",
        "    dot.render(\"knowledge_graph.gv\", view=True)\n",
        "    return dot\n"
      ]
    },
    {
      "cell_type": "code",
      "execution_count": 73,
      "metadata": {
        "colab": {
          "base_uri": "https://localhost:8080/",
          "height": 448
        },
        "id": "6xmfxCRhmQMD",
        "outputId": "3cdfb38b-8884-4ccf-9752-f727c4cfa2a1"
      },
      "outputs": [
        {
          "data": {
            "text/html": [
              "\n",
              "  <style>\n",
              "    pre {\n",
              "        white-space: pre-wrap;\n",
              "    }\n",
              "  </style>\n",
              "  "
            ],
            "text/plain": [
              "<IPython.core.display.HTML object>"
            ]
          },
          "metadata": {},
          "output_type": "display_data"
        },
        {
          "data": {
            "image/svg+xml": [
              "<?xml version=\"1.0\" encoding=\"UTF-8\" standalone=\"no\"?>\n",
              "<!DOCTYPE svg PUBLIC \"-//W3C//DTD SVG 1.1//EN\"\n",
              " \"http://www.w3.org/Graphics/SVG/1.1/DTD/svg11.dtd\">\n",
              "<!-- Generated by graphviz version 9.0.0 (20230911.1827)\n",
              " -->\n",
              "<!-- Pages: 1 -->\n",
              "<svg width=\"1131pt\" height=\"653pt\"\n",
              " viewBox=\"0.00 0.00 1131.45 653.00\" xmlns=\"http://www.w3.org/2000/svg\" xmlns:xlink=\"http://www.w3.org/1999/xlink\">\n",
              "<g id=\"graph0\" class=\"graph\" transform=\"scale(1 1) rotate(0) translate(4 649)\">\n",
              "<polygon fill=\"white\" stroke=\"none\" points=\"-4,4 -4,-649 1127.45,-649 1127.45,4 -4,4\"/>\n",
              "<!-- 1 -->\n",
              "<g id=\"node1\" class=\"node\">\n",
              "<title>1</title>\n",
              "<ellipse fill=\"none\" stroke=\"blue\" cx=\"515.67\" cy=\"-192\" rx=\"148.35\" ry=\"18\"/>\n",
              "<text text-anchor=\"middle\" x=\"515.67\" y=\"-186.2\" font-family=\"Times,serif\" font-size=\"14.00\">テイラー・アリソン・スウィフト</text>\n",
              "</g>\n",
              "<!-- 2 -->\n",
              "<g id=\"node2\" class=\"node\">\n",
              "<title>2</title>\n",
              "<ellipse fill=\"none\" stroke=\"red\" cx=\"422.67\" cy=\"-105\" rx=\"56.71\" ry=\"18\"/>\n",
              "<text text-anchor=\"middle\" x=\"422.67\" y=\"-99.2\" font-family=\"Times,serif\" font-size=\"14.00\">グラミー賞</text>\n",
              "</g>\n",
              "<!-- 1&#45;&gt;2 -->\n",
              "<g id=\"edge1\" class=\"edge\">\n",
              "<title>1&#45;&gt;2</title>\n",
              "<path fill=\"none\" stroke=\"red\" d=\"M494.16,-173.93C487.34,-168.34 479.84,-162.02 473.17,-156 464.34,-148.02 454.99,-138.95 446.77,-130.75\"/>\n",
              "<polygon fill=\"red\" stroke=\"red\" points=\"449.28,-128.31 439.75,-123.67 444.31,-133.24 449.28,-128.31\"/>\n",
              "<text text-anchor=\"middle\" x=\"487.92\" y=\"-142.7\" font-family=\"Times,serif\" font-size=\"14.00\">受賞</text>\n",
              "</g>\n",
              "<!-- 3 -->\n",
              "<g id=\"node3\" class=\"node\">\n",
              "<title>3</title>\n",
              "<ellipse fill=\"none\" stroke=\"green\" cx=\"711.67\" cy=\"-105\" rx=\"92.29\" ry=\"18\"/>\n",
              "<text text-anchor=\"middle\" x=\"711.67\" y=\"-99.2\" font-family=\"Times,serif\" font-size=\"14.00\">カルヴィン・ハリス</text>\n",
              "</g>\n",
              "<!-- 1&#45;&gt;3 -->\n",
              "<g id=\"edge2\" class=\"edge\">\n",
              "<title>1&#45;&gt;3</title>\n",
              "<path fill=\"none\" stroke=\"green\" d=\"M554.4,-174.21C586.01,-160.5 630.79,-141.07 664.5,-126.46\"/>\n",
              "<polygon fill=\"green\" stroke=\"green\" points=\"665.85,-129.69 673.63,-122.5 663.06,-123.27 665.85,-129.69\"/>\n",
              "<text text-anchor=\"middle\" x=\"668.42\" y=\"-142.7\" font-family=\"Times,serif\" font-size=\"14.00\">作詞した楽曲</text>\n",
              "</g>\n",
              "<!-- 4 -->\n",
              "<g id=\"node4\" class=\"node\">\n",
              "<title>4</title>\n",
              "<ellipse fill=\"none\" stroke=\"green\" cx=\"531.67\" cy=\"-18\" rx=\"46.96\" ry=\"18\"/>\n",
              "<text text-anchor=\"middle\" x=\"531.67\" y=\"-12.2\" font-family=\"Times,serif\" font-size=\"14.00\">リアーナ</text>\n",
              "</g>\n",
              "<!-- 1&#45;&gt;4 -->\n",
              "<g id=\"edge3\" class=\"edge\">\n",
              "<title>1&#45;&gt;4</title>\n",
              "<path fill=\"none\" stroke=\"green\" d=\"M517.23,-173.7C519.09,-153.06 522.32,-117.51 525.17,-87 526.38,-74.07 527.74,-59.76 528.91,-47.62\"/>\n",
              "<polygon fill=\"green\" stroke=\"green\" points=\"532.38,-48.12 529.85,-37.83 525.41,-47.45 532.38,-48.12\"/>\n",
              "<text text-anchor=\"middle\" x=\"568.42\" y=\"-99.2\" font-family=\"Times,serif\" font-size=\"14.00\">作詞した楽曲</text>\n",
              "</g>\n",
              "<!-- 3&#45;&gt;4 -->\n",
              "<g id=\"edge4\" class=\"edge\">\n",
              "<title>3&#45;&gt;4</title>\n",
              "<path fill=\"none\" stroke=\"green\" d=\"M677.39,-87.81C646.97,-73.44 602.53,-52.46 570.74,-37.45\"/>\n",
              "<polygon fill=\"green\" stroke=\"green\" points=\"572.39,-34.36 561.85,-33.25 569.4,-40.69 572.39,-34.36\"/>\n",
              "<text text-anchor=\"middle\" x=\"661.17\" y=\"-55.7\" font-family=\"Times,serif\" font-size=\"14.00\">共同作業</text>\n",
              "</g>\n",
              "<!-- 5 -->\n",
              "<g id=\"node5\" class=\"node\">\n",
              "<title>5</title>\n",
              "<ellipse fill=\"none\" stroke=\"purple\" cx=\"1030.67\" cy=\"-627\" rx=\"92.78\" ry=\"18\"/>\n",
              "<text text-anchor=\"middle\" x=\"1030.67\" y=\"-621.2\" font-family=\"Times,serif\" font-size=\"14.00\">ニルス・ショーベリ</text>\n",
              "</g>\n",
              "<!-- 6 -->\n",
              "<g id=\"node6\" class=\"node\">\n",
              "<title>6</title>\n",
              "<ellipse fill=\"none\" stroke=\"orange\" cx=\"1030.67\" cy=\"-540\" rx=\"82.06\" ry=\"18\"/>\n",
              "<text text-anchor=\"middle\" x=\"1030.67\" y=\"-534.2\" font-family=\"Times,serif\" font-size=\"14.00\">スウィフティーズ</text>\n",
              "</g>\n",
              "<!-- 5&#45;&gt;6 -->\n",
              "<g id=\"edge5\" class=\"edge\">\n",
              "<title>5&#45;&gt;6</title>\n",
              "<path fill=\"none\" stroke=\"purple\" d=\"M1030.67,-608.8C1030.67,-597.58 1030.67,-582.67 1030.67,-569.69\"/>\n",
              "<polygon fill=\"purple\" stroke=\"purple\" points=\"1034.17,-569.98 1030.67,-559.98 1027.17,-569.98 1034.17,-569.98\"/>\n",
              "<text text-anchor=\"middle\" x=\"1066.3\" y=\"-577.7\" font-family=\"Times,serif\" font-size=\"14.00\">ペンネーム</text>\n",
              "</g>\n",
              "<!-- 7 -->\n",
              "<g id=\"node7\" class=\"node\">\n",
              "<title>7</title>\n",
              "<ellipse fill=\"none\" stroke=\"yellow\" cx=\"414.67\" cy=\"-279\" rx=\"174.18\" ry=\"18\"/>\n",
              "<text text-anchor=\"middle\" x=\"414.67\" y=\"-273.2\" font-family=\"Times,serif\" font-size=\"14.00\">ペンシルベニア州ウエスト・レディング</text>\n",
              "</g>\n",
              "<!-- 7&#45;&gt;1 -->\n",
              "<g id=\"edge6\" class=\"edge\">\n",
              "<title>7&#45;&gt;1</title>\n",
              "<path fill=\"none\" stroke=\"blue\" d=\"M435.11,-260.8C449.9,-248.36 470.09,-231.36 486.55,-217.5\"/>\n",
              "<polygon fill=\"blue\" stroke=\"blue\" points=\"488.71,-220.27 494.11,-211.15 484.2,-214.91 488.71,-220.27\"/>\n",
              "<text text-anchor=\"middle\" x=\"500.17\" y=\"-229.7\" font-family=\"Times,serif\" font-size=\"14.00\">生まれた</text>\n",
              "</g>\n",
              "<!-- 8 -->\n",
              "<g id=\"node8\" class=\"node\">\n",
              "<title>8</title>\n",
              "<ellipse fill=\"none\" stroke=\"grey\" cx=\"184.67\" cy=\"-279\" rx=\"28.92\" ry=\"18\"/>\n",
              "<text text-anchor=\"middle\" x=\"184.67\" y=\"-273.2\" font-family=\"Times,serif\" font-size=\"14.00\">父親</text>\n",
              "</g>\n",
              "<!-- 8&#45;&gt;1 -->\n",
              "<g id=\"edge7\" class=\"edge\">\n",
              "<title>8&#45;&gt;1</title>\n",
              "<path fill=\"none\" stroke=\"grey\" d=\"M208.89,-268.65C216.16,-266.01 224.19,-263.24 231.67,-261 298.15,-241.09 374.73,-223.03 431.6,-210.53\"/>\n",
              "<polygon fill=\"grey\" stroke=\"grey\" points=\"432.2,-213.99 441.22,-208.43 430.71,-207.15 432.2,-213.99\"/>\n",
              "<text text-anchor=\"middle\" x=\"369.92\" y=\"-229.7\" font-family=\"Times,serif\" font-size=\"14.00\">父親</text>\n",
              "</g>\n",
              "<!-- 9 -->\n",
              "<g id=\"node9\" class=\"node\">\n",
              "<title>9</title>\n",
              "<ellipse fill=\"none\" stroke=\"grey\" cx=\"174.67\" cy=\"-192\" rx=\"174.67\" ry=\"18\"/>\n",
              "<text text-anchor=\"middle\" x=\"174.67\" y=\"-186.2\" font-family=\"Times,serif\" font-size=\"14.00\">銀行のファイナンシャル・アドバイザー</text>\n",
              "</g>\n",
              "<!-- 8&#45;&gt;9 -->\n",
              "<g id=\"edge8\" class=\"edge\">\n",
              "<title>8&#45;&gt;9</title>\n",
              "<path fill=\"none\" stroke=\"grey\" d=\"M182.65,-260.8C181.33,-249.58 179.57,-234.67 178.05,-221.69\"/>\n",
              "<polygon fill=\"grey\" stroke=\"grey\" points=\"181.55,-221.49 176.9,-211.97 174.6,-222.31 181.55,-221.49\"/>\n",
              "<text text-anchor=\"middle\" x=\"194.92\" y=\"-229.7\" font-family=\"Times,serif\" font-size=\"14.00\">職業</text>\n",
              "</g>\n",
              "<!-- 10 -->\n",
              "<g id=\"node10\" class=\"node\">\n",
              "<title>10</title>\n",
              "<ellipse fill=\"none\" stroke=\"yellow\" cx=\"273.67\" cy=\"-366\" rx=\"83.52\" ry=\"18\"/>\n",
              "<text text-anchor=\"middle\" x=\"273.67\" y=\"-360.2\" font-family=\"Times,serif\" font-size=\"14.00\">ペンシルベニア州</text>\n",
              "</g>\n",
              "<!-- 10&#45;&gt;8 -->\n",
              "<g id=\"edge9\" class=\"edge\">\n",
              "<title>10&#45;&gt;8</title>\n",
              "<path fill=\"none\" stroke=\"grey\" d=\"M256.09,-348.21C242.37,-335.1 223.18,-316.78 208.15,-302.42\"/>\n",
              "<polygon fill=\"grey\" stroke=\"grey\" points=\"210.59,-299.92 200.94,-295.54 205.76,-304.98 210.59,-299.92\"/>\n",
              "<text text-anchor=\"middle\" x=\"256.05\" y=\"-316.7\" font-family=\"Times,serif\" font-size=\"14.00\">居住地</text>\n",
              "</g>\n",
              "<!-- 11 -->\n",
              "<g id=\"node11\" class=\"node\">\n",
              "<title>11</title>\n",
              "<ellipse fill=\"none\" stroke=\"grey\" cx=\"184.67\" cy=\"-453\" rx=\"103.04\" ry=\"18\"/>\n",
              "<text text-anchor=\"middle\" x=\"184.67\" y=\"-447.95\" font-family=\"Times,serif\" font-size=\"14.00\">3代にわたる銀行頭取</text>\n",
              "</g>\n",
              "<!-- 11&#45;&gt;8 -->\n",
              "<g id=\"edge10\" class=\"edge\">\n",
              "<title>11&#45;&gt;8</title>\n",
              "<path fill=\"none\" stroke=\"grey\" d=\"M173.68,-434.62C165.96,-421.33 156.31,-402.25 152.17,-384 148.63,-368.4 148.63,-363.6 152.17,-348 155.46,-333.49 162.24,-318.46 168.76,-306.23\"/>\n",
              "<polygon fill=\"grey\" stroke=\"grey\" points=\"171.75,-308.04 173.59,-297.6 165.65,-304.62 171.75,-308.04\"/>\n",
              "<text text-anchor=\"middle\" x=\"166.92\" y=\"-360.2\" font-family=\"Times,serif\" font-size=\"14.00\">祖先</text>\n",
              "</g>\n",
              "<!-- 11&#45;&gt;10 -->\n",
              "<g id=\"edge11\" class=\"edge\">\n",
              "<title>11&#45;&gt;10</title>\n",
              "<path fill=\"none\" stroke=\"grey\" d=\"M202.68,-434.8C215.68,-422.39 233.4,-405.46 247.9,-391.62\"/>\n",
              "<polygon fill=\"grey\" stroke=\"grey\" points=\"250.08,-394.37 254.9,-384.93 245.25,-389.31 250.08,-394.37\"/>\n",
              "<text text-anchor=\"middle\" x=\"248.92\" y=\"-403.7\" font-family=\"Times,serif\" font-size=\"14.00\">育ち</text>\n",
              "</g>\n",
              "<!-- 12 -->\n",
              "<g id=\"node12\" class=\"node\">\n",
              "<title>12</title>\n",
              "<ellipse fill=\"none\" stroke=\"grey\" cx=\"785.67\" cy=\"-279\" rx=\"28.92\" ry=\"18\"/>\n",
              "<text text-anchor=\"middle\" x=\"785.67\" y=\"-273.2\" font-family=\"Times,serif\" font-size=\"14.00\">母親</text>\n",
              "</g>\n",
              "<!-- 12&#45;&gt;1 -->\n",
              "<g id=\"edge12\" class=\"edge\">\n",
              "<title>12&#45;&gt;1</title>\n",
              "<path fill=\"none\" stroke=\"grey\" d=\"M761.22,-268.79C733.07,-258.33 685.33,-241.01 643.67,-228 625.74,-222.4 606.25,-216.82 588,-211.81\"/>\n",
              "<polygon fill=\"grey\" stroke=\"grey\" points=\"589.16,-208.49 578.59,-209.25 587.32,-215.25 589.16,-208.49\"/>\n",
              "<text text-anchor=\"middle\" x=\"701.92\" y=\"-229.7\" font-family=\"Times,serif\" font-size=\"14.00\">母親</text>\n",
              "</g>\n",
              "<!-- 13 -->\n",
              "<g id=\"node13\" class=\"node\">\n",
              "<title>13</title>\n",
              "<ellipse fill=\"none\" stroke=\"grey\" cx=\"820.67\" cy=\"-192\" rx=\"138.6\" ry=\"18\"/>\n",
              "<text text-anchor=\"middle\" x=\"820.67\" y=\"-186.2\" font-family=\"Times,serif\" font-size=\"14.00\">投資信託のマーケティング管理</text>\n",
              "</g>\n",
              "<!-- 12&#45;&gt;13 -->\n",
              "<g id=\"edge13\" class=\"edge\">\n",
              "<title>12&#45;&gt;13</title>\n",
              "<path fill=\"none\" stroke=\"grey\" d=\"M792.59,-261.21C797.32,-249.72 803.7,-234.21 809.19,-220.89\"/>\n",
              "<polygon fill=\"grey\" stroke=\"grey\" points=\"812.38,-222.32 812.95,-211.74 805.91,-219.66 812.38,-222.32\"/>\n",
              "<text text-anchor=\"middle\" x=\"819.92\" y=\"-229.7\" font-family=\"Times,serif\" font-size=\"14.00\">職業</text>\n",
              "</g>\n",
              "<!-- 14 -->\n",
              "<g id=\"node14\" class=\"node\">\n",
              "<title>14</title>\n",
              "<ellipse fill=\"none\" stroke=\"grey\" cx=\"741.67\" cy=\"-366\" rx=\"47.45\" ry=\"18\"/>\n",
              "<text text-anchor=\"middle\" x=\"741.67\" y=\"-360.2\" font-family=\"Times,serif\" font-size=\"14.00\">専業主婦</text>\n",
              "</g>\n",
              "<!-- 14&#45;&gt;12 -->\n",
              "<g id=\"edge14\" class=\"edge\">\n",
              "<title>14&#45;&gt;12</title>\n",
              "<path fill=\"none\" stroke=\"grey\" d=\"M750.36,-348.21C756.55,-336.25 764.99,-319.96 772.06,-306.29\"/>\n",
              "<polygon fill=\"grey\" stroke=\"grey\" points=\"774.96,-308.3 776.45,-297.81 768.75,-305.09 774.96,-308.3\"/>\n",
              "<text text-anchor=\"middle\" x=\"780.92\" y=\"-316.7\" font-family=\"Times,serif\" font-size=\"14.00\">職業</text>\n",
              "</g>\n",
              "<!-- 15 -->\n",
              "<g id=\"node15\" class=\"node\">\n",
              "<title>15</title>\n",
              "<ellipse fill=\"none\" stroke=\"grey\" cx=\"863.67\" cy=\"-366\" rx=\"56.22\" ry=\"18\"/>\n",
              "<text text-anchor=\"middle\" x=\"863.67\" y=\"-360.2\" font-family=\"Times,serif\" font-size=\"14.00\">アメリカ人</text>\n",
              "</g>\n",
              "<!-- 15&#45;&gt;12 -->\n",
              "<g id=\"edge15\" class=\"edge\">\n",
              "<title>15&#45;&gt;12</title>\n",
              "<path fill=\"none\" stroke=\"grey\" d=\"M848.26,-348.21C836.5,-335.39 820.14,-317.56 807.1,-303.35\"/>\n",
              "<polygon fill=\"grey\" stroke=\"grey\" points=\"809.85,-301.17 800.51,-296.16 804.69,-305.9 809.85,-301.17\"/>\n",
              "<text text-anchor=\"middle\" x=\"843.92\" y=\"-316.7\" font-family=\"Times,serif\" font-size=\"14.00\">国籍</text>\n",
              "</g>\n",
              "<!-- 16 -->\n",
              "<g id=\"node16\" class=\"node\">\n",
              "<title>16</title>\n",
              "<ellipse fill=\"none\" stroke=\"grey\" cx=\"863.67\" cy=\"-453\" rx=\"230.24\" ry=\"18\"/>\n",
              "<text text-anchor=\"middle\" x=\"863.67\" y=\"-447.2\" font-family=\"Times,serif\" font-size=\"14.00\">東南アジアを中心にエンジニアとして働いていた父親</text>\n",
              "</g>\n",
              "<!-- 16&#45;&gt;15 -->\n",
              "<g id=\"edge16\" class=\"edge\">\n",
              "<title>16&#45;&gt;15</title>\n",
              "<path fill=\"none\" stroke=\"grey\" d=\"M863.67,-434.8C863.67,-423.58 863.67,-408.67 863.67,-395.69\"/>\n",
              "<polygon fill=\"grey\" stroke=\"grey\" points=\"867.17,-395.98 863.67,-385.98 860.17,-395.98 867.17,-395.98\"/>\n",
              "<text text-anchor=\"middle\" x=\"877.92\" y=\"-403.7\" font-family=\"Times,serif\" font-size=\"14.00\">職業</text>\n",
              "</g>\n",
              "<!-- 17 -->\n",
              "<g id=\"node17\" class=\"node\">\n",
              "<title>17</title>\n",
              "<ellipse fill=\"none\" stroke=\"yellow\" cx=\"863.67\" cy=\"-540\" rx=\"65.48\" ry=\"18\"/>\n",
              "<text text-anchor=\"middle\" x=\"863.67\" y=\"-534.2\" font-family=\"Times,serif\" font-size=\"14.00\">シンガポール</text>\n",
              "</g>\n",
              "<!-- 17&#45;&gt;16 -->\n",
              "<g id=\"edge17\" class=\"edge\">\n",
              "<title>17&#45;&gt;16</title>\n",
              "<path fill=\"none\" stroke=\"grey\" d=\"M863.67,-521.8C863.67,-510.58 863.67,-495.67 863.67,-482.69\"/>\n",
              "<polygon fill=\"grey\" stroke=\"grey\" points=\"867.17,-482.98 863.67,-472.98 860.17,-482.98 867.17,-482.98\"/>\n",
              "<text text-anchor=\"middle\" x=\"885.05\" y=\"-490.7\" font-family=\"Times,serif\" font-size=\"14.00\">居住地</text>\n",
              "</g>\n",
              "<!-- 18 -->\n",
              "<g id=\"node18\" class=\"node\">\n",
              "<title>18</title>\n",
              "<ellipse fill=\"none\" stroke=\"yellow\" cx=\"863.67\" cy=\"-627\" rx=\"55.73\" ry=\"18\"/>\n",
              "<text text-anchor=\"middle\" x=\"863.67\" y=\"-621.2\" font-family=\"Times,serif\" font-size=\"14.00\">テキサス州</text>\n",
              "</g>\n",
              "<!-- 18&#45;&gt;17 -->\n",
              "<g id=\"edge18\" class=\"edge\">\n",
              "<title>18&#45;&gt;17</title>\n",
              "<path fill=\"none\" stroke=\"grey\" d=\"M863.67,-608.8C863.67,-597.58 863.67,-582.67 863.67,-569.69\"/>\n",
              "<polygon fill=\"grey\" stroke=\"grey\" points=\"867.17,-569.98 863.67,-559.98 860.17,-569.98 867.17,-569.98\"/>\n",
              "<text text-anchor=\"middle\" x=\"885.05\" y=\"-577.7\" font-family=\"Times,serif\" font-size=\"14.00\">居住地</text>\n",
              "</g>\n",
              "<!-- 19 -->\n",
              "<g id=\"node19\" class=\"node\">\n",
              "<title>19</title>\n",
              "<ellipse fill=\"none\" stroke=\"grey\" cx=\"633.67\" cy=\"-279\" rx=\"27\" ry=\"18\"/>\n",
              "<text text-anchor=\"middle\" x=\"633.67\" y=\"-273.2\" font-family=\"Times,serif\" font-size=\"14.00\">弟</text>\n",
              "</g>\n",
              "<!-- 19&#45;&gt;1 -->\n",
              "<g id=\"edge19\" class=\"edge\">\n",
              "<title>19&#45;&gt;1</title>\n",
              "<path fill=\"none\" stroke=\"grey\" d=\"M615.75,-265.09C598,-252.31 570.41,-232.43 548.69,-216.78\"/>\n",
              "<polygon fill=\"grey\" stroke=\"grey\" points=\"550.87,-214.04 540.71,-211.04 546.78,-219.72 550.87,-214.04\"/>\n",
              "<text text-anchor=\"middle\" x=\"611.17\" y=\"-229.7\" font-family=\"Times,serif\" font-size=\"14.00\">兄弟姉妹</text>\n",
              "</g>\n",
              "</g>\n",
              "</svg>\n"
            ],
            "text/plain": [
              "<graphviz.graphs.Digraph at 0x1311f5fd0>"
            ]
          },
          "execution_count": 73,
          "metadata": {},
          "output_type": "execute_result"
        }
      ],
      "source": [
        "graph = generate_graph(content) # テイラー・スウィフトのテキストを再利用\n",
        "visualize_knowledge_graph(graph)"
      ]
    },
    {
      "attachments": {},
      "cell_type": "markdown",
      "metadata": {},
      "source": [
        "情報の構造を可視化してくれるのでわかりやすいですね。どの程度ハルシネーションが混じるかは検証できていません。\n",
        "\n",
        "また、modelを gpt-4 に変えてみるとアウトプットが変わりましたが、今回に関してはgpt-3.5よりも良くなったとも言い難かったです。"
      ]
    },
    {
      "cell_type": "code",
      "execution_count": 75,
      "metadata": {},
      "outputs": [
        {
          "data": {
            "text/html": [
              "\n",
              "  <style>\n",
              "    pre {\n",
              "        white-space: pre-wrap;\n",
              "    }\n",
              "  </style>\n",
              "  "
            ],
            "text/plain": [
              "<IPython.core.display.HTML object>"
            ]
          },
          "metadata": {},
          "output_type": "display_data"
        },
        {
          "data": {
            "image/svg+xml": [
              "<?xml version=\"1.0\" encoding=\"UTF-8\" standalone=\"no\"?>\n",
              "<!DOCTYPE svg PUBLIC \"-//W3C//DTD SVG 1.1//EN\"\n",
              " \"http://www.w3.org/Graphics/SVG/1.1/DTD/svg11.dtd\">\n",
              "<!-- Generated by graphviz version 9.0.0 (20230911.1827)\n",
              " -->\n",
              "<!-- Pages: 1 -->\n",
              "<svg width=\"2977pt\" height=\"218pt\"\n",
              " viewBox=\"0.00 0.00 2976.82 218.00\" xmlns=\"http://www.w3.org/2000/svg\" xmlns:xlink=\"http://www.w3.org/1999/xlink\">\n",
              "<g id=\"graph0\" class=\"graph\" transform=\"scale(1 1) rotate(0) translate(4 214)\">\n",
              "<polygon fill=\"white\" stroke=\"none\" points=\"-4,4 -4,-214 2972.82,-214 2972.82,4 -4,4\"/>\n",
              "<!-- 1 -->\n",
              "<g id=\"node1\" class=\"node\">\n",
              "<title>1</title>\n",
              "<ellipse fill=\"none\" stroke=\"red\" cx=\"72.34\" cy=\"-192\" rx=\"56.71\" ry=\"18\"/>\n",
              "<text text-anchor=\"middle\" x=\"72.34\" y=\"-186.2\" font-family=\"Times,serif\" font-size=\"14.00\">今日の日付</text>\n",
              "</g>\n",
              "<!-- 2 -->\n",
              "<g id=\"node2\" class=\"node\">\n",
              "<title>2</title>\n",
              "<ellipse fill=\"none\" stroke=\"blue\" cx=\"72.34\" cy=\"-105\" rx=\"72.34\" ry=\"18\"/>\n",
              "<text text-anchor=\"middle\" x=\"72.34\" y=\"-99.95\" font-family=\"Times,serif\" font-size=\"14.00\">2023年9月16日</text>\n",
              "</g>\n",
              "<!-- 1&#45;&gt;2 -->\n",
              "<g id=\"edge1\" class=\"edge\">\n",
              "<title>1&#45;&gt;2</title>\n",
              "<path fill=\"none\" stroke=\"black\" d=\"M72.34,-173.8C72.34,-162.58 72.34,-147.67 72.34,-134.69\"/>\n",
              "<polygon fill=\"black\" stroke=\"black\" points=\"75.84,-134.98 72.34,-124.98 68.84,-134.98 75.84,-134.98\"/>\n",
              "<text text-anchor=\"middle\" x=\"79.46\" y=\"-142.7\" font-family=\"Times,serif\" font-size=\"14.00\">は</text>\n",
              "</g>\n",
              "<!-- 3 -->\n",
              "<g id=\"node3\" class=\"node\">\n",
              "<title>3</title>\n",
              "<ellipse fill=\"none\" stroke=\"green\" cx=\"1279.34\" cy=\"-192\" rx=\"148.35\" ry=\"18\"/>\n",
              "<text text-anchor=\"middle\" x=\"1279.34\" y=\"-186.2\" font-family=\"Times,serif\" font-size=\"14.00\">テイラー・アリソン・スウィフト</text>\n",
              "</g>\n",
              "<!-- 4 -->\n",
              "<g id=\"node4\" class=\"node\">\n",
              "<title>4</title>\n",
              "<ellipse fill=\"none\" stroke=\"yellow\" cx=\"300.34\" cy=\"-105\" rx=\"138.11\" ry=\"18\"/>\n",
              "<text text-anchor=\"middle\" x=\"300.34\" y=\"-99.2\" font-family=\"Times,serif\" font-size=\"14.00\">米国のシンガーソングライター</text>\n",
              "</g>\n",
              "<!-- 3&#45;&gt;4 -->\n",
              "<g id=\"edge2\" class=\"edge\">\n",
              "<title>3&#45;&gt;4</title>\n",
              "<path fill=\"none\" stroke=\"black\" d=\"M1139,-185.85C1016.39,-180.63 833.69,-171.15 675.09,-156 580.77,-146.99 473.68,-132.24 398.2,-121.1\"/>\n",
              "<polygon fill=\"black\" stroke=\"black\" points=\"398.73,-117.64 388.33,-119.63 397.7,-124.56 398.73,-117.64\"/>\n",
              "<text text-anchor=\"middle\" x=\"682.46\" y=\"-142.7\" font-family=\"Times,serif\" font-size=\"14.00\">は</text>\n",
              "</g>\n",
              "<!-- 5 -->\n",
              "<g id=\"node5\" class=\"node\">\n",
              "<title>5</title>\n",
              "<ellipse fill=\"none\" stroke=\"yellow\" cx=\"513.34\" cy=\"-105\" rx=\"56.71\" ry=\"18\"/>\n",
              "<text text-anchor=\"middle\" x=\"513.34\" y=\"-99.2\" font-family=\"Times,serif\" font-size=\"14.00\">グラミー賞</text>\n",
              "</g>\n",
              "<!-- 3&#45;&gt;5 -->\n",
              "<g id=\"edge3\" class=\"edge\">\n",
              "<title>3&#45;&gt;5</title>\n",
              "<path fill=\"none\" stroke=\"black\" d=\"M1143.57,-184.48C1001.87,-176.13 773.65,-158.29 579.34,-123 574.94,-122.2 570.41,-121.27 565.88,-120.26\"/>\n",
              "<polygon fill=\"black\" stroke=\"black\" points=\"566.69,-116.86 556.15,-117.97 565.08,-123.67 566.69,-116.86\"/>\n",
              "<text text-anchor=\"middle\" x=\"797.46\" y=\"-142.7\" font-family=\"Times,serif\" font-size=\"14.00\">は</text>\n",
              "</g>\n",
              "<!-- 7 -->\n",
              "<g id=\"node7\" class=\"node\">\n",
              "<title>7</title>\n",
              "<ellipse fill=\"none\" stroke=\"green\" cx=\"680.34\" cy=\"-105\" rx=\"92.29\" ry=\"18\"/>\n",
              "<text text-anchor=\"middle\" x=\"680.34\" y=\"-99.2\" font-family=\"Times,serif\" font-size=\"14.00\">カルヴィン・ハリス</text>\n",
              "</g>\n",
              "<!-- 3&#45;&gt;7 -->\n",
              "<g id=\"edge5\" class=\"edge\">\n",
              "<title>3&#45;&gt;7</title>\n",
              "<path fill=\"none\" stroke=\"black\" d=\"M1179.52,-178.3C1078.88,-165.27 919.14,-144 781.34,-123 774.01,-121.88 766.4,-120.68 758.78,-119.45\"/>\n",
              "<polygon fill=\"black\" stroke=\"black\" points=\"759.58,-116.03 749.15,-117.87 758.45,-122.94 759.58,-116.03\"/>\n",
              "<text text-anchor=\"middle\" x=\"1021.71\" y=\"-142.7\" font-family=\"Times,serif\" font-size=\"14.00\">と共に</text>\n",
              "</g>\n",
              "<!-- 9 -->\n",
              "<g id=\"node9\" class=\"node\">\n",
              "<title>9</title>\n",
              "<ellipse fill=\"none\" stroke=\"green\" cx=\"948.34\" cy=\"-105\" rx=\"157.61\" ry=\"18\"/>\n",
              "<text text-anchor=\"middle\" x=\"948.34\" y=\"-99.2\" font-family=\"Times,serif\" font-size=\"14.00\">ニルス・ショーベリ（ペンネーム）</text>\n",
              "</g>\n",
              "<!-- 3&#45;&gt;9 -->\n",
              "<g id=\"edge7\" class=\"edge\">\n",
              "<title>3&#45;&gt;9</title>\n",
              "<path fill=\"none\" stroke=\"black\" d=\"M1217.85,-175.21C1162.35,-160.96 1080.6,-139.97 1021.7,-124.84\"/>\n",
              "<polygon fill=\"black\" stroke=\"black\" points=\"1022.63,-121.47 1012.08,-122.37 1020.89,-128.25 1022.63,-121.47\"/>\n",
              "<text text-anchor=\"middle\" x=\"1155.71\" y=\"-142.7\" font-family=\"Times,serif\" font-size=\"14.00\">が使用</text>\n",
              "</g>\n",
              "<!-- 10 -->\n",
              "<g id=\"node10\" class=\"node\">\n",
              "<title>10</title>\n",
              "<ellipse fill=\"none\" stroke=\"yellow\" cx=\"1279.34\" cy=\"-105\" rx=\"155.66\" ry=\"18\"/>\n",
              "<text text-anchor=\"middle\" x=\"1279.34\" y=\"-99.2\" font-family=\"Times,serif\" font-size=\"14.00\">スウィフティーズ（ファンの総称）</text>\n",
              "</g>\n",
              "<!-- 3&#45;&gt;10 -->\n",
              "<g id=\"edge8\" class=\"edge\">\n",
              "<title>3&#45;&gt;10</title>\n",
              "<path fill=\"none\" stroke=\"black\" d=\"M1279.34,-173.8C1279.34,-162.58 1279.34,-147.67 1279.34,-134.69\"/>\n",
              "<polygon fill=\"black\" stroke=\"black\" points=\"1282.84,-134.98 1279.34,-124.98 1275.84,-134.98 1282.84,-134.98\"/>\n",
              "<text text-anchor=\"middle\" x=\"1314.59\" y=\"-142.7\" font-family=\"Times,serif\" font-size=\"14.00\">のファンは</text>\n",
              "</g>\n",
              "<!-- 11 -->\n",
              "<g id=\"node11\" class=\"node\">\n",
              "<title>11</title>\n",
              "<ellipse fill=\"none\" stroke=\"red\" cx=\"1673.34\" cy=\"-105\" rx=\"220.49\" ry=\"18\"/>\n",
              "<text text-anchor=\"middle\" x=\"1673.34\" y=\"-99.2\" font-family=\"Times,serif\" font-size=\"14.00\">ペンシルベニア州ウエスト・レディング（出生地）</text>\n",
              "</g>\n",
              "<!-- 3&#45;&gt;11 -->\n",
              "<g id=\"edge9\" class=\"edge\">\n",
              "<title>3&#45;&gt;11</title>\n",
              "<path fill=\"none\" stroke=\"black\" d=\"M1349.77,-175.8C1415.96,-161.53 1515.19,-140.12 1586.3,-124.78\"/>\n",
              "<polygon fill=\"black\" stroke=\"black\" points=\"1586.94,-128.22 1595.98,-122.69 1585.47,-121.38 1586.94,-128.22\"/>\n",
              "<text text-anchor=\"middle\" x=\"1557.34\" y=\"-142.7\" font-family=\"Times,serif\" font-size=\"14.00\">が生まれた場所は</text>\n",
              "</g>\n",
              "<!-- 12 -->\n",
              "<g id=\"node12\" class=\"node\">\n",
              "<title>12</title>\n",
              "<ellipse fill=\"none\" stroke=\"yellow\" cx=\"2123.34\" cy=\"-105\" rx=\"211.72\" ry=\"18\"/>\n",
              "<text text-anchor=\"middle\" x=\"2123.34\" y=\"-99.2\" font-family=\"Times,serif\" font-size=\"14.00\">父親（銀行のファイナンシャル・アドバイザー）</text>\n",
              "</g>\n",
              "<!-- 3&#45;&gt;12 -->\n",
              "<g id=\"edge10\" class=\"edge\">\n",
              "<title>3&#45;&gt;12</title>\n",
              "<path fill=\"none\" stroke=\"black\" d=\"M1390.54,-179.8C1541.72,-164.57 1812.31,-137.32 1979,-120.54\"/>\n",
              "<polygon fill=\"black\" stroke=\"black\" points=\"1979.21,-124.03 1988.81,-119.55 1978.51,-117.07 1979.21,-124.03\"/>\n",
              "<text text-anchor=\"middle\" x=\"1780.84\" y=\"-142.7\" font-family=\"Times,serif\" font-size=\"14.00\">の父親は</text>\n",
              "</g>\n",
              "<!-- 13 -->\n",
              "<g id=\"node13\" class=\"node\">\n",
              "<title>13</title>\n",
              "<ellipse fill=\"none\" stroke=\"yellow\" cx=\"2586.34\" cy=\"-105\" rx=\"233.04\" ry=\"18\"/>\n",
              "<text text-anchor=\"middle\" x=\"2586.34\" y=\"-99.95\" font-family=\"Times,serif\" font-size=\"14.00\">母親（投資信託のマーケティング管理→専業主婦）</text>\n",
              "</g>\n",
              "<!-- 3&#45;&gt;13 -->\n",
              "<g id=\"edge11\" class=\"edge\">\n",
              "<title>3&#45;&gt;13</title>\n",
              "<path fill=\"none\" stroke=\"black\" d=\"M1408.87,-183C1609.37,-170.55 2006.97,-145.62 2344.34,-123 2364.82,-121.63 2386.27,-120.16 2407.59,-118.69\"/>\n",
              "<polygon fill=\"black\" stroke=\"black\" points=\"2407.82,-122.18 2417.55,-117.99 2407.33,-115.19 2407.82,-122.18\"/>\n",
              "<text text-anchor=\"middle\" x=\"2080.84\" y=\"-142.7\" font-family=\"Times,serif\" font-size=\"14.00\">の母親は</text>\n",
              "</g>\n",
              "<!-- 14 -->\n",
              "<g id=\"node14\" class=\"node\">\n",
              "<title>14</title>\n",
              "<ellipse fill=\"none\" stroke=\"yellow\" cx=\"2903.34\" cy=\"-105\" rx=\"65.48\" ry=\"18\"/>\n",
              "<text text-anchor=\"middle\" x=\"2903.34\" y=\"-99.2\" font-family=\"Times,serif\" font-size=\"14.00\">テイラーの弟</text>\n",
              "</g>\n",
              "<!-- 3&#45;&gt;14 -->\n",
              "<g id=\"edge12\" class=\"edge\">\n",
              "<title>3&#45;&gt;14</title>\n",
              "<path fill=\"none\" stroke=\"black\" d=\"M1424.44,-187.99C1755.74,-180.57 2559.83,-159.34 2828.34,-123 2833.9,-122.25 2839.66,-121.28 2845.4,-120.2\"/>\n",
              "<polygon fill=\"black\" stroke=\"black\" points=\"2845.77,-123.69 2854.87,-118.28 2844.38,-116.83 2845.77,-123.69\"/>\n",
              "<text text-anchor=\"middle\" x=\"2642.96\" y=\"-142.7\" font-family=\"Times,serif\" font-size=\"14.00\">の弟がいる</text>\n",
              "</g>\n",
              "<!-- 6 -->\n",
              "<g id=\"node6\" class=\"node\">\n",
              "<title>6</title>\n",
              "<ellipse fill=\"none\" stroke=\"blue\" cx=\"423.34\" cy=\"-18\" rx=\"126.59\" ry=\"18\"/>\n",
              "<text text-anchor=\"middle\" x=\"423.34\" y=\"-12.95\" font-family=\"Times,serif\" font-size=\"14.00\">12回受賞、46回ノミネート</text>\n",
              "</g>\n",
              "<!-- 5&#45;&gt;6 -->\n",
              "<g id=\"edge4\" class=\"edge\">\n",
              "<title>5&#45;&gt;6</title>\n",
              "<path fill=\"none\" stroke=\"black\" d=\"M495.98,-87.61C482.92,-75.27 464.77,-58.14 449.89,-44.08\"/>\n",
              "<polygon fill=\"black\" stroke=\"black\" points=\"452.34,-41.57 442.66,-37.25 447.53,-46.66 452.34,-41.57\"/>\n",
              "<text text-anchor=\"middle\" x=\"481.46\" y=\"-55.7\" font-family=\"Times,serif\" font-size=\"14.00\">を</text>\n",
              "</g>\n",
              "<!-- 8 -->\n",
              "<g id=\"node8\" class=\"node\">\n",
              "<title>8</title>\n",
              "<ellipse fill=\"none\" stroke=\"blue\" cx=\"770.34\" cy=\"-18\" rx=\"202.33\" ry=\"18\"/>\n",
              "<text text-anchor=\"middle\" x=\"770.34\" y=\"-12.95\" font-family=\"Times,serif\" font-size=\"14.00\">リアーナの楽曲「This Is What You Came For」</text>\n",
              "</g>\n",
              "<!-- 7&#45;&gt;8 -->\n",
              "<g id=\"edge6\" class=\"edge\">\n",
              "<title>7&#45;&gt;8</title>\n",
              "<path fill=\"none\" stroke=\"black\" d=\"M698.12,-87.21C711.13,-74.91 729.02,-58.02 743.74,-44.12\"/>\n",
              "<polygon fill=\"black\" stroke=\"black\" points=\"746.01,-46.79 750.87,-37.38 741.2,-41.7 746.01,-46.79\"/>\n",
              "<text text-anchor=\"middle\" x=\"788.34\" y=\"-55.7\" font-family=\"Times,serif\" font-size=\"14.00\">を作詞した際には</text>\n",
              "</g>\n",
              "</g>\n",
              "</svg>\n"
            ],
            "text/plain": [
              "<graphviz.graphs.Digraph at 0x131127dd0>"
            ]
          },
          "execution_count": 75,
          "metadata": {},
          "output_type": "execute_result"
        }
      ],
      "source": [
        "graph = generate_graph(content, model=\"gpt-4\")\n",
        "visualize_knowledge_graph(graph)"
      ]
    },
    {
      "attachments": {},
      "cell_type": "markdown",
      "metadata": {
        "id": "QDs5bXU6qGg7"
      },
      "source": [
        "### ニュース記事の構造化\n",
        "\n",
        "ニュース記事の構造化を試してみたいと思います。\n",
        "今回使う記事は[こちらの記事](https://jp.reuters.com/world/ukraine/6AA6RMYF35PQLNJJ2WBV5V2T4E-2023-09-16/)となります。\n",
        "\n",
        "記事の中身はこんな具合です。ここからどんな情報を抽出できるか試してみたいと思います。\n"
      ]
    },
    {
      "cell_type": "code",
      "execution_count": 78,
      "metadata": {
        "id": "AICkVnLKqSfV"
      },
      "outputs": [
        {
          "data": {
            "text/html": [
              "\n",
              "  <style>\n",
              "    pre {\n",
              "        white-space: pre-wrap;\n",
              "    }\n",
              "  </style>\n",
              "  "
            ],
            "text/plain": [
              "<IPython.core.display.HTML object>"
            ]
          },
          "metadata": {},
          "output_type": "display_data"
        }
      ],
      "source": [
        "article = \"\"\"\n",
        "[１６日　ロイター] - 米政府が１４日発表した対ロシア追加制裁に、北極圏の液化天然ガス（ＬＮＧ）プロジェクト「アークティック２」に関わる同国企業が新たに含まれた。同プロジェクトには日本企業も出資しており、影響が及ぶ可能性がある。\n",
        "\n",
        "追加制裁対象は計１５０以上の個人や企業で、ロシア軍艦艇の整備を請け負う企業や自動車メーカー、軍民両用品の対ロ輸入を支援するトルコ企業５社などが含まれる。\n",
        "\n",
        "将来的にロシアにエネルギー収入をもたらすとして、北極海のＬＮＧプロジェクト「アークティック２」の建設やＬＮＧ運搬などに関わる企業も制裁対象に列挙した。\n",
        "\n",
        "アークティック２は日本の三井物産(8031.T)や独立行政法人エネルギー・金属鉱物資源機構（ＪＯＧＭＥＣ）が権益を持ち、最終的に年間２００万トンの供給を受ける見込み。米政府の制裁は出資者を対象にしていないが、日本政府関係者は「影響が出るかもしれない」と話す。出荷開始時期も遅れる可能性があるとみている。\n",
        "\"\"\".strip()"
      ]
    },
    {
      "attachments": {},
      "cell_type": "markdown",
      "metadata": {},
      "source": [
        "ニュース記事の構造化が必要なシーンを想像しながらエンティティーを適当に定義してみます。"
      ]
    },
    {
      "cell_type": "code",
      "execution_count": 79,
      "metadata": {
        "id": "FHRYHDGqnFkX"
      },
      "outputs": [
        {
          "data": {
            "text/html": [
              "\n",
              "  <style>\n",
              "    pre {\n",
              "        white-space: pre-wrap;\n",
              "    }\n",
              "  </style>\n",
              "  "
            ],
            "text/plain": [
              "<IPython.core.display.HTML object>"
            ]
          },
          "metadata": {},
          "output_type": "display_data"
        }
      ],
      "source": [
        "import openai\n",
        "from pydantic import BaseModel, Field\n",
        "import instructor\n",
        "from enum import Enum\n",
        "\n",
        "class Company(BaseModel):\n",
        "    name: str = Field(..., description=\"会社名\")\n",
        "    ticker: str = Field(..., description=\"銘柄名\")\n",
        "\n",
        "class NewsArticleTopics(str, Enum):\n",
        "    ECONOMICS = '経済'\n",
        "    BUSINESS = 'ビジネス'\n",
        "    FINANCE = '金融'\n",
        "\n",
        "class NewsArticleSummary(BaseModel):\n",
        "    summary: str = Field(..., description=\"A short summary of what the article is about\")\n",
        "    companies_mentioned: list[Company] = Field(..., description=\"Company names mentioned in the article\")\n",
        "    audience: str = Field(..., description=\"The article's intended audience / who the article may impact the most\")\n",
        "    topic: NewsArticleTopics = Field(..., description=\"The topic of the news article\", )"
      ]
    },
    {
      "attachments": {},
      "cell_type": "markdown",
      "metadata": {},
      "source": [
        "response_model を使って、ニュース記事の構造化を試してみます。"
      ]
    },
    {
      "cell_type": "code",
      "execution_count": 80,
      "metadata": {
        "colab": {
          "base_uri": "https://localhost:8080/",
          "height": 402
        },
        "id": "Tn99LAFGqW9z",
        "outputId": "9881654d-15ba-4ea0-dc4c-2a4f5d6258dd"
      },
      "outputs": [
        {
          "data": {
            "text/html": [
              "\n",
              "  <style>\n",
              "    pre {\n",
              "        white-space: pre-wrap;\n",
              "    }\n",
              "  </style>\n",
              "  "
            ],
            "text/plain": [
              "<IPython.core.display.HTML object>"
            ]
          },
          "metadata": {},
          "output_type": "display_data"
        },
        {
          "data": {
            "text/plain": [
              "NewsArticleSummary(summary='米政府が14日に発表した対ロシア追加制裁に、北極圏の液化天然ガス（LNG）プロジェクト「アークティック2」に関わる企業が新たに含まれた。同プロジェクトには日本企業も出資しており、影響が及ぶ可能性がある。', companies_mentioned=[Company(name='三井物産', ticker='8031.T'), Company(name='独立行政法人エネルギー・金属鉱物資源機構（JOGMEC）', ticker='')], audience='日本企業、エネルギー業界', topic=<NewsArticleTopics.ECONOMICS: '経済'>)"
            ]
          },
          "execution_count": 80,
          "metadata": {},
          "output_type": "execute_result"
        }
      ],
      "source": [
        "summary: NewsArticleSummary = openai.ChatCompletion.create(\n",
        "    model=\"gpt-3.5-turbo\",\n",
        "    messages=[\n",
        "        {\n",
        "            \"role\": \"user\",\n",
        "            \"content\": f\"下記のニュース記事を正確に構造化してください: {article}\",\n",
        "        }\n",
        "    ],\n",
        "    response_model=NewsArticleSummary,\n",
        ") # type: ignore\n",
        "summary"
      ]
    },
    {
      "cell_type": "code",
      "execution_count": 81,
      "metadata": {
        "colab": {
          "base_uri": "https://localhost:8080/"
        },
        "id": "JaBsJuWTqzvH",
        "outputId": "9d379cc9-b7a4-4a1e-8a6f-1a6dff04e8b7"
      },
      "outputs": [
        {
          "data": {
            "text/html": [
              "\n",
              "  <style>\n",
              "    pre {\n",
              "        white-space: pre-wrap;\n",
              "    }\n",
              "  </style>\n",
              "  "
            ],
            "text/plain": [
              "<IPython.core.display.HTML object>"
            ]
          },
          "metadata": {},
          "output_type": "display_data"
        },
        {
          "data": {
            "text/plain": [
              "NewsArticleSummary(summary='米政府が14日に発表した対ロシアの追加制裁に、北極圏の液化天然ガス（LNG）プロジェクト「アークティック2」に関わるロシア企業が新しく含まれた。このプロジェクトには日本の三井物産や独立行政法人エネルギー・金属鉱物資源機構（JOGMEC）も出資している。制裁は出資者を対象にはしていないが、影響が出る可能性があると日本政府関係者は述べた。', companies_mentioned=[Company(name='三井物産', ticker='8031.T'), Company(name='独立行政法人エネルギー・金属鉱物資源機構', ticker='')], audience='三井物産の投資家、独立行政法人エネルギー・金属鉱物資源機構の関係者、政治経済に関心のある一般公', topic=<NewsArticleTopics.ECONOMICS: '経済'>)"
            ]
          },
          "execution_count": 81,
          "metadata": {},
          "output_type": "execute_result"
        }
      ],
      "source": [
        "# GPT-4の場合\n",
        "summary: NewsArticleSummary = openai.ChatCompletion.create(\n",
        "    model=\"gpt-4\",\n",
        "    messages=[\n",
        "        {\n",
        "            \"role\": \"user\",\n",
        "            \"content\": f\"下記のニュース記事を正確に構造化してください: {article}\",\n",
        "        }\n",
        "    ],\n",
        "    response_model=NewsArticleSummary,\n",
        ") # type: ignore\n",
        "summary"
      ]
    },
    {
      "attachments": {},
      "cell_type": "markdown",
      "metadata": {
        "id": "MVqkChsVuYDl"
      },
      "source": [
        "慣れてくると結構サクサクかけます。"
      ]
    },
    {
      "cell_type": "code",
      "execution_count": null,
      "metadata": {},
      "outputs": [
        {
          "data": {
            "text/html": [
              "\n",
              "  <style>\n",
              "    pre {\n",
              "        white-space: pre-wrap;\n",
              "    }\n",
              "  </style>\n",
              "  "
            ],
            "text/plain": [
              "<IPython.core.display.HTML object>"
            ]
          },
          "metadata": {},
          "output_type": "display_data"
        },
        {
          "data": {
            "text/plain": [
              "PeopleMentioned(people=[Person(name='モンキー・D・ルフィ', description='主人公')])"
            ]
          },
          "metadata": {},
          "output_type": "display_data"
        }
      ],
      "source": [
        "from pydantic import Field, BaseModel\n",
        "from typing import List\n",
        "\n",
        "content = \"\"\"\n",
        "海賊王を夢見る少年モンキー・D・ルフィを主人公とする、「ひとつなぎの大秘宝（ワンピース）」を巡る海洋冒険ロマン。\n",
        "\n",
        "夢への冒険・仲間たちとの友情といったテーマを前面に掲げ、バトルやギャグシーン、感動エピソードをメインとする少年漫画の王道を行く物語として人気を博している[3]。また、長年にわたりながら深く練り込まれた壮大な世界観・巧緻な設定のストーリーも特徴。\n",
        "\n",
        "2023年7月の時点で単行本は第106巻まで刊行されており、『週刊少年ジャンプ』歴代作品の中では『こちら葛飾区亀有公園前派出所』（1976年 - 2016年）に次ぐ長期連載となっている。国内累計発行部数は2022年時点で日本の漫画では最高となる4億1000万部を突破している[4]。また、第67巻は初版発行部数405万部[5]の国内出版史上最高記録を樹立し、第57巻（2010年3月発売）以降の単行本は初版300万部以上発行を継続する[6]など、出版の国内最高記録をいくつも保持している。\n",
        "\n",
        "2015年6月15日には \"Most Copies Published For The Same Comic Book Series By A Single Author（最も多く発行された単一作者によるコミックシリーズ）\" 名義でギネス世界記録に認定された[7][8]。実績は発行部数3億2,086万6,000部（2014年12月時点）[7]。なお、このギネス世界記録は2022年7月付で同作品によって更新され[9]、日本では同年8月に「日本国内累計発行部数4億1656万6000部」と報道された[4]。\n",
        "\n",
        "本作とともに長年ジャンプの看板作品であった『NARUTO -ナルト-』同様、海外での人気も高い[10]。海外では翻訳版が60以上の国と地域で販売されており、海外でのコミックス累計発行部数は2022年8月時点で1億部を突破、全世界累計発行部数は2022年8月の時点で5億1000万部を突破している[4]。\n",
        "\n",
        "1999年よりテレビアニメがフジテレビ系列で放送されており、東映アニメーション製作のアニメ作品としては最長のロングラン作品になっている（詳細はONE PIECE (アニメ)を参照）。\n",
        "\"\"\".strip()\n",
        "\n",
        "class Person(BaseModel):\n",
        "    name: str\n",
        "    description: str = Field(..., description=\"人物の説明文\")\n",
        "\n",
        "class PeopleMentioned(BaseModel):\n",
        "    people: List[Person] = Field(..., description=\"人物のリスト\")\n",
        "\n",
        "people: PeopleMentioned = openai.ChatCompletion.create(\n",
        "    model=\"gpt-3.5-turbo\",\n",
        "    response_model=PeopleMentioned,\n",
        "    messages=[\n",
        "        {\"role\": \"user\", \"content\": \"Extract the people mentioned in the following passage:\\n\\n\" + content},\n",
        "    ],\n",
        "    temperature=0.0,\n",
        ")\n",
        "people"
      ]
    }
  ],
  "metadata": {
    "colab": {
      "provenance": [],
      "toc_visible": true
    },
    "kernelspec": {
      "display_name": "Python 3",
      "name": "python3"
    },
    "language_info": {
      "codemirror_mode": {
        "name": "ipython",
        "version": 3
      },
      "file_extension": ".py",
      "mimetype": "text/x-python",
      "name": "python",
      "nbconvert_exporter": "python",
      "pygments_lexer": "ipython3",
      "version": "3.11.4"
    }
  },
  "nbformat": 4,
  "nbformat_minor": 0
}
