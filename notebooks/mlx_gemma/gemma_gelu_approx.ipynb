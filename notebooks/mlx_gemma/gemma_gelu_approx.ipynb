{
 "cells": [
  {
   "cell_type": "markdown",
   "metadata": {},
   "source": [
    "# Comparing Output Using Different GeLU Activations\n",
    "\n",
    "In this notebook, we will compare the output of different GeLU activations. We will use the following GeLU activations:\n",
    "\n",
    "1. GELU (MLX implementation)\n",
    "2. GELU Approximate (MLX implementation)\n",
    "3. GELU Fast Approximate (MLX implementation)\n",
    "4. GELU Approximate [(Keras implementation)](https://www.tensorflow.org/api_docs/python/tf/keras/activations/gelu)\n"
   ]
  },
  {
   "cell_type": "code",
   "execution_count": 1,
   "metadata": {},
   "outputs": [],
   "source": [
    "def q(model, tokenizer, prompt):\n",
    "    return generate(\n",
    "        model,\n",
    "        tokenizer,\n",
    "        prompt,\n",
    "        verbose=True,\n",
    "        temp=0.0,\n",
    "        max_tokens=256,\n",
    "    )"
   ]
  },
  {
   "cell_type": "code",
   "execution_count": null,
   "metadata": {},
   "outputs": [],
   "source": [
    "# This is where Gemma implemented in MLX uses a GELU activation function\n",
    "\n",
    "\n",
    "class MLP(nn.Module):\n",
    "    def __init__(self, dim, hidden_dim):\n",
    "        super().__init__()\n",
    "        self.gate_proj = nn.Linear(dim, hidden_dim, bias=False)\n",
    "        self.down_proj = nn.Linear(hidden_dim, dim, bias=False)\n",
    "        self.up_proj = nn.Linear(dim, hidden_dim, bias=False)\n",
    "\n",
    "    def __call__(self, x) -> mx.array:\n",
    "        return self.down_proj(nn.gelu(self.gate_proj(x)) * self.up_proj(x))"
   ]
  },
  {
   "cell_type": "markdown",
   "metadata": {},
   "source": [
    "## Using GeLU activation function (as is)\n"
   ]
  },
  {
   "cell_type": "code",
   "execution_count": 2,
   "metadata": {},
   "outputs": [
    {
     "data": {
      "application/vnd.jupyter.widget-view+json": {
       "model_id": "065aed0372b0444492b80f02d2750745",
       "version_major": 2,
       "version_minor": 0
      },
      "text/plain": [
       "Fetching 11 files:   0%|          | 0/11 [00:00<?, ?it/s]"
      ]
     },
     "metadata": {},
     "output_type": "display_data"
    },
    {
     "name": "stdout",
     "output_type": "stream",
     "text": [
      "==========\n",
      "Prompt: Why is the sky blue?\n",
      "\n",
      "\n",
      "The sky is blue due to a phenomenon called **Rayleigh Scattering**.\n",
      "\n",
      "Here's a breakdown of what happens:\n",
      "\n",
      "1. **Sunlight:** Sunrays are made up of all the colors of the rainbow, with each color having a different wavelength.\n",
      "2. **Scattering:** When sunlight enters Earth's atmosphere, it interacts with the tiny particles of air (dust, water vapor, etc.). These particles scatter the sunlight in all directions.\n",
      "3. **Blue Scatter:** The particles scatter the shorter wavelengths of blue and violet light more effectively than the longer wavelengths of red and orange light.\n",
      "4. **Scattered Light:** The scattered light, which is predominantly blue, is scattered in all directions.\n",
      "5. **Our View:** We see the scattered light from all directions, including the direction opposite the sun. This is why the sky appears blue.\n",
      "\n",
      "**Additional factors:**\n",
      "\n",
      "* **Time of Day:** The intensity of the blue color is strongest at midday and decreases as the sun gets closer to the horizon.\n",
      "* **Clouds:** Clouds can reduce the amount of scattered light, making the sky appear white or gray.\n",
      "* **Dust:** Dust particles can also scatter different colors of light, which can affect the appearance of the sky.\n",
      "\n",
      "\n",
      "==========\n",
      "Prompt: 12.995 tokens-per-sec\n",
      "Generation: 15.335 tokens-per-sec\n"
     ]
    },
    {
     "data": {
      "text/plain": [
       "\"\\n\\nThe sky is blue due to a phenomenon called **Rayleigh Scattering**.\\n\\nHere's a breakdown of what happens:\\n\\n1. **Sunlight:** Sunrays are made up of all the colors of the rainbow, with each color having a different wavelength.\\n2. **Scattering:** When sunlight enters Earth's atmosphere, it interacts with the tiny particles of air (dust, water vapor, etc.). These particles scatter the sunlight in all directions.\\n3. **Blue Scatter:** The particles scatter the shorter wavelengths of blue and violet light more effectively than the longer wavelengths of red and orange light.\\n4. **Scattered Light:** The scattered light, which is predominantly blue, is scattered in all directions.\\n5. **Our View:** We see the scattered light from all directions, including the direction opposite the sun. This is why the sky appears blue.\\n\\n**Additional factors:**\\n\\n* **Time of Day:** The intensity of the blue color is strongest at midday and decreases as the sun gets closer to the horizon.\\n* **Clouds:** Clouds can reduce the amount of scattered light, making the sky appear white or gray.\\n* **Dust:** Dust particles can also scatter different colors of light, which can affect the appearance of the sky.\\n\\n\""
      ]
     },
     "execution_count": 2,
     "metadata": {},
     "output_type": "execute_result"
    }
   ],
   "source": [
    "from mlx_lm import generate, load\n",
    "\n",
    "model, tokenizer = load(\"google/gemma-7b-it\")\n",
    "\n",
    "# Standard output\n",
    "prompt = \"\"\"\n",
    "Why is the sky blue?\n",
    "\"\"\".strip()\n",
    "q(model, tokenizer, prompt)"
   ]
  },
  {
   "cell_type": "code",
   "execution_count": 3,
   "metadata": {},
   "outputs": [
    {
     "name": "stdout",
     "output_type": "stream",
     "text": [
      "==========\n",
      "Prompt: 空が青いのはなぜですか？\n",
      "\n",
      "\n",
      "実際、空気は実際実際赤い色です。ただし、人間の目は赤い色を認識するには、特定の波長の光が必要です。空気の分子は、その特定の波長の光を吸収し、人間の目に届く残り色を青に見えます。\n",
      "==========\n",
      "Prompt: 18.845 tokens-per-sec\n",
      "Generation: 18.632 tokens-per-sec\n"
     ]
    },
    {
     "data": {
      "text/plain": [
       "'\\n\\n実際、空気は実際実際赤い色です。ただし、人間の目は赤い色を認識するには、特定の波長の光が必要です。空気の分子は、その特定の波長の光を吸収し、人間の目に届く残り色を青に見えます。'"
      ]
     },
     "execution_count": 3,
     "metadata": {},
     "output_type": "execute_result"
    }
   ],
   "source": [
    "prompt = \"空が青いのはなぜですか？\"\n",
    "q(model, tokenizer, prompt)"
   ]
  },
  {
   "cell_type": "markdown",
   "metadata": {},
   "source": [
    "## gelu_approx\n"
   ]
  },
  {
   "cell_type": "code",
   "execution_count": 6,
   "metadata": {},
   "outputs": [
    {
     "data": {
      "application/vnd.jupyter.widget-view+json": {
       "model_id": "6787963ce366439a883d1d106cadad5d",
       "version_major": 2,
       "version_minor": 0
      },
      "text/plain": [
       "Fetching 11 files:   0%|          | 0/11 [00:00<?, ?it/s]"
      ]
     },
     "metadata": {},
     "output_type": "display_data"
    },
    {
     "name": "stdout",
     "output_type": "stream",
     "text": [
      "==========\n",
      "Prompt: Why is the sky blue?\n",
      "\n",
      "\n",
      "The sky is blue due to a phenomenon called **Rayleigh Scattering**.\n",
      "\n",
      "Here's a breakdown of the process:\n",
      "\n",
      "1. **Sunlight:** Sunlight consists of all the colors of the rainbow, including blue.\n",
      "2. **Scattering:** When sunlight hits particles in the air (such as dust, smoke, or even air molecules), it gets scattered in all directions.\n",
      "3. **Blue Scatter:** The scattered light, including the blue component, is scattered in all directions.\n",
      "4. **Our Eyes:** We see the scattered light as the color of the sky.\n",
      "\n",
      "**Different colors scatter differently:**\n",
      "\n",
      "- **Blue light:** Scattered more strongly in all directions.\n",
      "- **Red and Yellow light:** Scattered less, mainly towards the forward direction.\n",
      "- **Green light:** Scattered even less than red and yellow.\n",
      "\n",
      "This is why we see the sky as blue. The scattered light from different directions combines to create the blue color we see above us.\n",
      "\n",
      "**Additional factors:**\n",
      "\n",
      "- **Time of Day:** The sky is bluer at noon than at sunrise or sunset because the sun's rays have to travel through less air to reach us.\n",
      "- **Clouds:** Clouds can sometimes appear white or gray because they scatter all\n",
      "==========\n",
      "Prompt: 18.920 tokens-per-sec\n",
      "Generation: 18.541 tokens-per-sec\n"
     ]
    },
    {
     "data": {
      "text/plain": [
       "\"\\n\\nThe sky is blue due to a phenomenon called **Rayleigh Scattering**.\\n\\nHere's a breakdown of the process:\\n\\n1. **Sunlight:** Sunlight consists of all the colors of the rainbow, including blue.\\n2. **Scattering:** When sunlight hits particles in the air (such as dust, smoke, or even air molecules), it gets scattered in all directions.\\n3. **Blue Scatter:** The scattered light, including the blue component, is scattered in all directions.\\n4. **Our Eyes:** We see the scattered light as the color of the sky.\\n\\n**Different colors scatter differently:**\\n\\n- **Blue light:** Scattered more strongly in all directions.\\n- **Red and Yellow light:** Scattered less, mainly towards the forward direction.\\n- **Green light:** Scattered even less than red and yellow.\\n\\nThis is why we see the sky as blue. The scattered light from different directions combines to create the blue color we see above us.\\n\\n**Additional factors:**\\n\\n- **Time of Day:** The sky is bluer at noon than at sunrise or sunset because the sun's rays have to travel through less air to reach us.\\n- **Clouds:** Clouds can sometimes appear white or gray because they scatter all\""
      ]
     },
     "execution_count": 6,
     "metadata": {},
     "output_type": "execute_result"
    }
   ],
   "source": [
    "from mlx_lm import generate, load\n",
    "\n",
    "model, tokenizer = load(\"google/gemma-7b-it\")\n",
    "\n",
    "# Standard output\n",
    "prompt = \"\"\"\n",
    "Why is the sky blue?\n",
    "\"\"\".strip()\n",
    "q(model, tokenizer, prompt)"
   ]
  },
  {
   "cell_type": "code",
   "execution_count": 7,
   "metadata": {},
   "outputs": [
    {
     "name": "stdout",
     "output_type": "stream",
     "text": [
      "==========\n",
      "Prompt: 空が青いのはなぜですか？\n",
      "\n",
      "\n",
      "実際、空気は実際実際、実際実際、実際実際、実際実際、実際実際、実際実際、実際実際、実際実際、実際実際、実際実際、実際実際、実際実際、実際実際、実際実際、実際実際、実際実際、実際実際、実際実際、実際実際、実際実際、実際実際、実際実際、実際実際、実際実際、実際実際、実際実際、実際実際、実際実際、実際実際、実際実際、実際実際、実際実際、実際実際、実際実際、実際実際、実際実際、実際実際、実際実際、実際実際、実際実際、実際実際、実際実際、実際実際、実際実際、実際実際、実際実際、実際実際、実際実際、実際実際、実際実際、実際実際、実際実際、実際実際、実際実際、実際実際、実際実際、実際実際、実際実際、実際実際、実際実際、実際実際、実際実際、実際実際、実際実際、実際実際、実際実際、実際実際、実際実際、実際実際、実際実際、実際実際、実際実際、実際実際、実際実際、実際実際、実際実際、実際実際、実際実際、実際実際、実際実際、実際実際、実際実際、実際実際、実際実際\n",
      "==========\n",
      "Prompt: 123.277 tokens-per-sec\n",
      "Generation: 18.640 tokens-per-sec\n"
     ]
    },
    {
     "data": {
      "text/plain": [
       "'\\n\\n実際、空気は実際実際、実際実際、実際実際、実際実際、実際実際、実際実際、実際実際、実際実際、実際実際、実際実際、実際実際、実際実際、実際実際、実際実際、実際実際、実際実際、実際実際、実際実際、実際実際、実際実際、実際実際、実際実際、実際実際、実際実際、実際実際、実際実際、実際実際、実際実際、実際実際、実際実際、実際実際、実際実際、実際実際、実際実際、実際実際、実際実際、実際実際、実際実際、実際実際、実際実際、実際実際、実際実際、実際実際、実際実際、実際実際、実際実際、実際実際、実際実際、実際実際、実際実際、実際実際、実際実際、実際実際、実際実際、実際実際、実際実際、実際実際、実際実際、実際実際、実際実際、実際実際、実際実際、実際実際、実際実際、実際実際、実際実際、実際実際、実際実際、実際実際、実際実際、実際実際、実際実際、実際実際、実際実際、実際実際、実際実際、実際実際、実際実際、実際実際、実際実際、実際実際、実際実際、実際実際、実際実際'"
      ]
     },
     "execution_count": 7,
     "metadata": {},
     "output_type": "execute_result"
    }
   ],
   "source": [
    "prompt = \"空が青いのはなぜですか？\"\n",
    "q(model, tokenizer, prompt)"
   ]
  },
  {
   "cell_type": "markdown",
   "metadata": {},
   "source": [
    "## gelu_fast_approx\n"
   ]
  },
  {
   "cell_type": "code",
   "execution_count": 5,
   "metadata": {},
   "outputs": [
    {
     "data": {
      "application/vnd.jupyter.widget-view+json": {
       "model_id": "0275e670b66145889ac0eba7bce34ec8",
       "version_major": 2,
       "version_minor": 0
      },
      "text/plain": [
       "Fetching 11 files:   0%|          | 0/11 [00:00<?, ?it/s]"
      ]
     },
     "metadata": {},
     "output_type": "display_data"
    },
    {
     "name": "stdout",
     "output_type": "stream",
     "text": [
      "==========\n",
      "Prompt: Why is the sky blue?\n",
      "\n",
      "\n",
      "The sky is blue because of a phenomenon called **Rayleigh Scattering**.\n",
      "\n",
      "**Rayleigh Scattering**\n",
      "\n",
      "* When sunlight hits the Earth's atmosphere, it interacts with the particles of air, such as nitrogen and oxygen.\n",
      "* The particles scatter the sunlight in all directions.\n",
      "* The scattered light is scattered in all directions, but the light scattered in the direction of our eyes is more visible.\n",
      "* The particles scatter the different colors of the spectrum differently.\n",
      "* The shorter wavelengths of blue light are scattered more effectively than the longer wavelengths of red light.\n",
      "* This scattered light is what we see as the blue sky.\n",
      "\n",
      "**Other factors:**\n",
      "\n",
      "* The amount of scattering depends on the time of day and the angle of the sun.\n",
      "* The sky is bluer at noon than at sunrise or sunset.\n",
      "* The sky is also bluer when the sun is high in the sky.\n",
      "* The presence of clouds or dust particles can reduce the amount of scattering.\n",
      "==========\n",
      "Prompt: 15.755 tokens-per-sec\n",
      "Generation: 18.599 tokens-per-sec\n"
     ]
    },
    {
     "data": {
      "text/plain": [
       "\"\\n\\nThe sky is blue because of a phenomenon called **Rayleigh Scattering**.\\n\\n**Rayleigh Scattering**\\n\\n* When sunlight hits the Earth's atmosphere, it interacts with the particles of air, such as nitrogen and oxygen.\\n* The particles scatter the sunlight in all directions.\\n* The scattered light is scattered in all directions, but the light scattered in the direction of our eyes is more visible.\\n* The particles scatter the different colors of the spectrum differently.\\n* The shorter wavelengths of blue light are scattered more effectively than the longer wavelengths of red light.\\n* This scattered light is what we see as the blue sky.\\n\\n**Other factors:**\\n\\n* The amount of scattering depends on the time of day and the angle of the sun.\\n* The sky is bluer at noon than at sunrise or sunset.\\n* The sky is also bluer when the sun is high in the sky.\\n* The presence of clouds or dust particles can reduce the amount of scattering.\""
      ]
     },
     "execution_count": 5,
     "metadata": {},
     "output_type": "execute_result"
    }
   ],
   "source": [
    "from mlx_lm import generate, load\n",
    "\n",
    "model, tokenizer = load(\"google/gemma-7b-it\")\n",
    "\n",
    "prompt = \"Why is the sky blue?\"\n",
    "q(model, tokenizer, prompt)"
   ]
  },
  {
   "cell_type": "code",
   "execution_count": 4,
   "metadata": {},
   "outputs": [
    {
     "data": {
      "application/vnd.jupyter.widget-view+json": {
       "model_id": "0f09d9a43fa54ee1bedec44bc613f9f8",
       "version_major": 2,
       "version_minor": 0
      },
      "text/plain": [
       "Fetching 11 files:   0%|          | 0/11 [00:00<?, ?it/s]"
      ]
     },
     "metadata": {},
     "output_type": "display_data"
    },
    {
     "name": "stdout",
     "output_type": "stream",
     "text": [
      "==========\n",
      "Prompt: 空が青いのはなぜですか？\n",
      "\n",
      "\n",
      "実際、空気は実際、常に赤い色に染まっています。しかし、私たちが見ている空気は、実際よりも明るい色に感じられます。これは、人間の視覚が空気の成分や温度などの物理特性に影響され、実際よりも明るい色に感じているためです。\n",
      "==========\n",
      "Prompt: 19.923 tokens-per-sec\n",
      "Generation: 9.564 tokens-per-sec\n"
     ]
    },
    {
     "data": {
      "text/plain": [
       "'\\n\\n実際、空気は実際、常に赤い色に染まっています。しかし、私たちが見ている空気は、実際よりも明るい色に感じられます。これは、人間の視覚が空気の成分や温度などの物理特性に影響され、実際よりも明るい色に感じているためです。'"
      ]
     },
     "execution_count": 4,
     "metadata": {},
     "output_type": "execute_result"
    }
   ],
   "source": [
    "prompt = \"空が青いのはなぜですか？\"\n",
    "q(model, tokenizer, prompt)"
   ]
  },
  {
   "cell_type": "markdown",
   "metadata": {},
   "source": [
    "## GeLU Approximate using Keras Implementation\n"
   ]
  },
  {
   "cell_type": "code",
   "execution_count": 3,
   "metadata": {},
   "outputs": [
    {
     "data": {
      "application/vnd.jupyter.widget-view+json": {
       "model_id": "da1d4714c2a94728835e46e091f0d47b",
       "version_major": 2,
       "version_minor": 0
      },
      "text/plain": [
       "Fetching 11 files:   0%|          | 0/11 [00:00<?, ?it/s]"
      ]
     },
     "metadata": {},
     "output_type": "display_data"
    },
    {
     "name": "stdout",
     "output_type": "stream",
     "text": [
      "==========\n",
      "Prompt: Why is the sky blue?\n",
      "\n",
      "\n",
      "The sky is blue due to a phenomenon called **Rayleigh Scattering**.\n",
      "\n",
      "Here's a breakdown of the process:\n",
      "\n",
      "1. **Sunlight:** Sunlight consists of all the colors of the rainbow, including blue.\n",
      "2. **Scattering:** When sunlight hits particles in the air (such as dust, smoke, or even air molecules), it gets scattered in all directions.\n",
      "3. **Blue Scatter:** The scattered light, including the blue component, is scattered in all directions.\n",
      "4. **Our Eyes:** We see the scattered light as the color of the sky.\n",
      "\n",
      "**Different colors scatter differently:**\n",
      "\n",
      "- **Blue light:** Scattered more strongly in all directions.\n",
      "- **Red and Yellow light:** Scattered less, mainly towards the forward direction.\n",
      "- **Green light:** Scattered even less than red and yellow.\n",
      "\n",
      "This is why we see the sky as blue. The scattered light from different directions combines to create the blue color we see above us.\n",
      "\n",
      "**Additional factors:**\n",
      "\n",
      "- **Time of Day:** The sky is bluer at noon than at sunrise or sunset because the sun's rays have to travel through less air to reach us.\n",
      "- **Clouds:** Clouds can sometimes appear white or gray because they scatter all\n",
      "==========\n",
      "Prompt: 13.494 tokens-per-sec\n",
      "Generation: 15.287 tokens-per-sec\n"
     ]
    },
    {
     "data": {
      "text/plain": [
       "\"\\n\\nThe sky is blue due to a phenomenon called **Rayleigh Scattering**.\\n\\nHere's a breakdown of the process:\\n\\n1. **Sunlight:** Sunlight consists of all the colors of the rainbow, including blue.\\n2. **Scattering:** When sunlight hits particles in the air (such as dust, smoke, or even air molecules), it gets scattered in all directions.\\n3. **Blue Scatter:** The scattered light, including the blue component, is scattered in all directions.\\n4. **Our Eyes:** We see the scattered light as the color of the sky.\\n\\n**Different colors scatter differently:**\\n\\n- **Blue light:** Scattered more strongly in all directions.\\n- **Red and Yellow light:** Scattered less, mainly towards the forward direction.\\n- **Green light:** Scattered even less than red and yellow.\\n\\nThis is why we see the sky as blue. The scattered light from different directions combines to create the blue color we see above us.\\n\\n**Additional factors:**\\n\\n- **Time of Day:** The sky is bluer at noon than at sunrise or sunset because the sun's rays have to travel through less air to reach us.\\n- **Clouds:** Clouds can sometimes appear white or gray because they scatter all\""
      ]
     },
     "execution_count": 3,
     "metadata": {},
     "output_type": "execute_result"
    }
   ],
   "source": [
    "from mlx_lm import generate, load\n",
    "\n",
    "model, tokenizer = load(\"google/gemma-7b-it\")\n",
    "\n",
    "prompt = \"Why is the sky blue?\"\n",
    "q(model, tokenizer, prompt)"
   ]
  },
  {
   "cell_type": "code",
   "execution_count": 4,
   "metadata": {},
   "outputs": [
    {
     "name": "stdout",
     "output_type": "stream",
     "text": [
      "==========\n",
      "Prompt: 空が青いのはなぜですか？\n",
      "\n",
      "\n",
      "実際、空気は実際実際、実際実際、実際実際、実際実際、実際実際、実際実際、実際実際、実際実際、実際実際、実際実際、実際実際、実際実際、実際実際、実際実際、実際実際、実際実際、実際実際、実際実際、実際実際、実際実際、実際実際、実際実際、実際実際、実際実際、実際実際、実際実際、実際実際、実際実際、実際実際、実際実際、実際実際、実際実際、実際実際、実際実際、実際実際、実際実際、実際実際、実際実際、実際実際、実際実際、実際実際、実際実際、実際実際、実際実際、実際実際、実際実際、実際実際、実際実際、実際実際、実際実際、実際実際、実際実際、実際実際、実際実際、実際実際、実際実際、実際実際、実際実際、実際実際、実際実際、実際実際、実際実際、実際実際、実際実際、実際実際、実際実際、実際実際、実際実際、実際実際、実際実際、実際実際、実際実際、実際実際、実際実際、実際実際、実際実際、実際実際、実際実際、実際実際、実際実際、実際実際、実際実際、実際実際、実際実際\n",
      "==========\n",
      "Prompt: 13.532 tokens-per-sec\n",
      "Generation: 18.502 tokens-per-sec\n"
     ]
    },
    {
     "data": {
      "text/plain": [
       "'\\n\\n実際、空気は実際実際、実際実際、実際実際、実際実際、実際実際、実際実際、実際実際、実際実際、実際実際、実際実際、実際実際、実際実際、実際実際、実際実際、実際実際、実際実際、実際実際、実際実際、実際実際、実際実際、実際実際、実際実際、実際実際、実際実際、実際実際、実際実際、実際実際、実際実際、実際実際、実際実際、実際実際、実際実際、実際実際、実際実際、実際実際、実際実際、実際実際、実際実際、実際実際、実際実際、実際実際、実際実際、実際実際、実際実際、実際実際、実際実際、実際実際、実際実際、実際実際、実際実際、実際実際、実際実際、実際実際、実際実際、実際実際、実際実際、実際実際、実際実際、実際実際、実際実際、実際実際、実際実際、実際実際、実際実際、実際実際、実際実際、実際実際、実際実際、実際実際、実際実際、実際実際、実際実際、実際実際、実際実際、実際実際、実際実際、実際実際、実際実際、実際実際、実際実際、実際実際、実際実際、実際実際、実際実際'"
      ]
     },
     "execution_count": 4,
     "metadata": {},
     "output_type": "execute_result"
    }
   ],
   "source": [
    "prompt = \"空が青いのはなぜですか？\"\n",
    "q(model, tokenizer, prompt)"
   ]
  },
  {
   "cell_type": "code",
   "execution_count": null,
   "metadata": {},
   "outputs": [],
   "source": []
  }
 ],
 "metadata": {
  "kernelspec": {
   "display_name": "py311",
   "language": "python",
   "name": "python3"
  },
  "language_info": {
   "codemirror_mode": {
    "name": "ipython",
    "version": 3
   },
   "file_extension": ".py",
   "mimetype": "text/x-python",
   "name": "python",
   "nbconvert_exporter": "python",
   "pygments_lexer": "ipython3",
   "version": "3.11.7"
  }
 },
 "nbformat": 4,
 "nbformat_minor": 2
}
