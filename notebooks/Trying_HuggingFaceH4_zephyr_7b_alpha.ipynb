{
  "nbformat": 4,
  "nbformat_minor": 0,
  "metadata": {
    "colab": {
      "provenance": [],
      "machine_shape": "hm",
      "gpuType": "T4",
      "toc_visible": true
    },
    "kernelspec": {
      "name": "python3",
      "display_name": "Python 3"
    },
    "language_info": {
      "name": "python"
    },
    "accelerator": "GPU"
  },
  "cells": [
    {
      "cell_type": "markdown",
      "source": [
        "# HuggingFaceH4/zephyr-7b-alpha を試す\n",
        "\n",
        "Huggingface: https://huggingface.co/HuggingFaceH4/zephyr-7b-alpha"
      ],
      "metadata": {
        "id": "yF9gjmHoMjK6"
      }
    },
    {
      "cell_type": "code",
      "source": [
        "!pip install transformers accelerate sentencepiece bitsandbytes --quiet"
      ],
      "metadata": {
        "id": "njW1Qq8YK4Vu",
        "colab": {
          "base_uri": "https://localhost:8080/"
        },
        "outputId": "75e7e146-27dd-473c-dcad-3df8af56bffc"
      },
      "execution_count": 1,
      "outputs": [
        {
          "output_type": "stream",
          "name": "stdout",
          "text": [
            "\u001b[?25l     \u001b[90m━━━━━━━━━━━━━━━━━━━━━━━━━━━━━━━━━━━━━━━━\u001b[0m \u001b[32m0.0/7.7 MB\u001b[0m \u001b[31m?\u001b[0m eta \u001b[36m-:--:--\u001b[0m\r\u001b[2K     \u001b[91m╸\u001b[0m\u001b[90m━━━━━━━━━━━━━━━━━━━━━━━━━━━━━━━━━━━━━━━\u001b[0m \u001b[32m0.1/7.7 MB\u001b[0m \u001b[31m3.9 MB/s\u001b[0m eta \u001b[36m0:00:02\u001b[0m\r\u001b[2K     \u001b[91m━━━━━━━━━━━━━\u001b[0m\u001b[91m╸\u001b[0m\u001b[90m━━━━━━━━━━━━━━━━━━━━━━━━━━\u001b[0m \u001b[32m2.6/7.7 MB\u001b[0m \u001b[31m42.2 MB/s\u001b[0m eta \u001b[36m0:00:01\u001b[0m\r\u001b[2K     \u001b[91m━━━━━━━━━━━━━━━━━━━━━━━━━━━━━━━━━━━━━━━\u001b[0m\u001b[91m╸\u001b[0m \u001b[32m7.7/7.7 MB\u001b[0m \u001b[31m88.5 MB/s\u001b[0m eta \u001b[36m0:00:01\u001b[0m\r\u001b[2K     \u001b[90m━━━━━━━━━━━━━━━━━━━━━━━━━━━━━━━━━━━━━━━━\u001b[0m \u001b[32m7.7/7.7 MB\u001b[0m \u001b[31m64.4 MB/s\u001b[0m eta \u001b[36m0:00:00\u001b[0m\n",
            "\u001b[2K     \u001b[90m━━━━━━━━━━━━━━━━━━━━━━━━━━━━━━━━━━━━━━━━\u001b[0m \u001b[32m258.1/258.1 kB\u001b[0m \u001b[31m30.1 MB/s\u001b[0m eta \u001b[36m0:00:00\u001b[0m\n",
            "\u001b[2K     \u001b[90m━━━━━━━━━━━━━━━━━━━━━━━━━━━━━━━━━━━━━━━━\u001b[0m \u001b[32m1.3/1.3 MB\u001b[0m \u001b[31m75.1 MB/s\u001b[0m eta \u001b[36m0:00:00\u001b[0m\n",
            "\u001b[2K     \u001b[90m━━━━━━━━━━━━━━━━━━━━━━━━━━━━━━━━━━━━━━━━\u001b[0m \u001b[32m92.6/92.6 MB\u001b[0m \u001b[31m19.4 MB/s\u001b[0m eta \u001b[36m0:00:00\u001b[0m\n",
            "\u001b[2K     \u001b[90m━━━━━━━━━━━━━━━━━━━━━━━━━━━━━━━━━━━━━━━━\u001b[0m \u001b[32m302.0/302.0 kB\u001b[0m \u001b[31m37.7 MB/s\u001b[0m eta \u001b[36m0:00:00\u001b[0m\n",
            "\u001b[2K     \u001b[90m━━━━━━━━━━━━━━━━━━━━━━━━━━━━━━━━━━━━━━━━\u001b[0m \u001b[32m3.8/3.8 MB\u001b[0m \u001b[31m105.9 MB/s\u001b[0m eta \u001b[36m0:00:00\u001b[0m\n",
            "\u001b[2K     \u001b[90m━━━━━━━━━━━━━━━━━━━━━━━━━━━━━━━━━━━━━━━━\u001b[0m \u001b[32m1.3/1.3 MB\u001b[0m \u001b[31m89.3 MB/s\u001b[0m eta \u001b[36m0:00:00\u001b[0m\n",
            "\u001b[2K     \u001b[90m━━━━━━━━━━━━━━━━━━━━━━━━━━━━━━━━━━━━━━━━\u001b[0m \u001b[32m295.0/295.0 kB\u001b[0m \u001b[31m36.3 MB/s\u001b[0m eta \u001b[36m0:00:00\u001b[0m\n",
            "\u001b[?25h"
          ]
        }
      ]
    },
    {
      "cell_type": "code",
      "source": [
        "# Wrap printed text\n",
        "from IPython.display import HTML, display\n",
        "\n",
        "def set_css():\n",
        "  display(HTML('''\n",
        "  <style>\n",
        "    pre {\n",
        "        white-space: pre-wrap;\n",
        "    }\n",
        "  </style>\n",
        "  '''))\n",
        "get_ipython().events.register('pre_run_cell', set_css)"
      ],
      "metadata": {
        "id": "lnLwAgsrvmz1"
      },
      "execution_count": 2,
      "outputs": []
    },
    {
      "cell_type": "markdown",
      "source": [
        "## モデルのダウンロード\n",
        "\n",
        "モデルカードでは `pipeline` を使っていますが、量子化の方法が分からなかったので`AutoModelForCausalLM` を使うよう書き換えました。"
      ],
      "metadata": {
        "id": "ip5F_RKCNZIV"
      }
    },
    {
      "cell_type": "code",
      "source": [
        "%time\n",
        "\n",
        "import torch\n",
        "from transformers import pipeline, BitsAndBytesConfig\n",
        "\n",
        "model_name = \"HuggingFaceH4/zephyr-7b-alpha\"\n",
        "\n",
        "quantization_config = BitsAndBytesConfig(\n",
        "    load_in_4bit=True,\n",
        "    bnb_4bit_use_double_quant=True,\n",
        "    bnb_4bit_quant_type=\"nf4\",\n",
        "    bnb_4bit_compute_dtype=torch.bfloat16,\n",
        ")\n",
        "\n",
        "tokenizer = AutoTokenizer.from_pretrained(model_name)\n",
        "model = AutoModelForCausalLM.from_pretrained(\n",
        "    model_name,\n",
        "    trust_remote_code=True,\n",
        "    quantization_config=quantization_config,\n",
        "    device_map=\"auto\",\n",
        ").eval()"
      ],
      "metadata": {
        "colab": {
          "base_uri": "https://localhost:8080/",
          "height": 17
        },
        "id": "W0XS08AEK-zq",
        "outputId": "75ed2d76-6d3a-4607-8b28-643dc19733cd"
      },
      "execution_count": 28,
      "outputs": [
        {
          "output_type": "display_data",
          "data": {
            "text/plain": [
              "<IPython.core.display.HTML object>"
            ],
            "text/html": [
              "\n",
              "  <style>\n",
              "    pre {\n",
              "        white-space: pre-wrap;\n",
              "    }\n",
              "  </style>\n",
              "  "
            ]
          },
          "metadata": {}
        }
      ]
    },
    {
      "cell_type": "code",
      "source": [
        "tokenizer.vocab_size"
      ],
      "metadata": {
        "colab": {
          "base_uri": "https://localhost:8080/",
          "height": 34
        },
        "id": "GqFGCRXHLAIN",
        "outputId": "e500dc97-2b27-4a4e-fa72-8ee1112d0b21"
      },
      "execution_count": 37,
      "outputs": [
        {
          "output_type": "display_data",
          "data": {
            "text/plain": [
              "<IPython.core.display.HTML object>"
            ],
            "text/html": [
              "\n",
              "  <style>\n",
              "    pre {\n",
              "        white-space: pre-wrap;\n",
              "    }\n",
              "  </style>\n",
              "  "
            ]
          },
          "metadata": {}
        },
        {
          "output_type": "execute_result",
          "data": {
            "text/plain": [
              "32000"
            ]
          },
          "metadata": {},
          "execution_count": 37
        }
      ]
    },
    {
      "cell_type": "code",
      "source": [
        "generation_config = {\n",
        "    \"max_new_tokens\": 256,\n",
        "    \"do_sample\": True,\n",
        "    \"temperature\": 0.7,\n",
        "    \"top_k\": 50,\n",
        "    \"top_p\": 0.95,\n",
        "}\n",
        "\n",
        "messages = [\n",
        "    {\n",
        "        \"role\": \"system\",\n",
        "        \"content\": \"You are a friendly chatbot who always responds in the style of a pirate\",\n",
        "    },\n",
        "    {\"role\": \"user\", \"content\": \"How many helicopters can a human eat in one sitting?\"},\n",
        "]\n",
        "\n",
        "with torch.no_grad():\n",
        "    inputs = tokenizer(\n",
        "        tokenizer.apply_chat_template(messages, tokenize=False, add_generation_prompt=True), # このモデル用のチャットテンプレートをテキストとして生成\n",
        "        return_tensors='pt',\n",
        "    ).to(model.device)\n",
        "\n",
        "    # .to(model.device)\n",
        "    outputs = model.generate(\n",
        "        **inputs,\n",
        "        **generation_config,\n",
        "        use_cache=True,\n",
        "    )\n",
        "\n",
        "print(tokenizer.decode(outputs[0], skip_special_tokens=True))"
      ],
      "metadata": {
        "colab": {
          "base_uri": "https://localhost:8080/",
          "height": 173
        },
        "id": "CiM_zxseGUq2",
        "outputId": "d9a8dec1-8d17-4315-d3dd-4412248fad8e"
      },
      "execution_count": 29,
      "outputs": [
        {
          "output_type": "display_data",
          "data": {
            "text/plain": [
              "<IPython.core.display.HTML object>"
            ],
            "text/html": [
              "\n",
              "  <style>\n",
              "    pre {\n",
              "        white-space: pre-wrap;\n",
              "    }\n",
              "  </style>\n",
              "  "
            ]
          },
          "metadata": {}
        },
        {
          "output_type": "stream",
          "name": "stderr",
          "text": [
            "Using sep_token, but it is not set yet.\n",
            "Using cls_token, but it is not set yet.\n",
            "Using mask_token, but it is not set yet.\n"
          ]
        },
        {
          "output_type": "stream",
          "name": "stdout",
          "text": [
            "<|system|>\n",
            "You are a friendly chatbot who always responds in the style of a pirate \n",
            "<|user|>\n",
            "How many helicopters can a human eat in one sitting? \n",
            "<|assistant|>\n",
            "Matey, I be sayin' that a human cannot eat a helicopter, as it is not food. Ye be confused, me hearty.\n"
          ]
        }
      ]
    },
    {
      "cell_type": "markdown",
      "source": [
        "無事プロンプト通りの海賊風の文章が生成できました。"
      ],
      "metadata": {
        "id": "NfzKVpNSJfPj"
      }
    },
    {
      "cell_type": "markdown",
      "source": [
        "## テンプレートの準備\n",
        "\n",
        "生成が楽になるようにテンプレートを準備します。"
      ],
      "metadata": {
        "id": "-67TBsajNcm3"
      }
    },
    {
      "cell_type": "code",
      "source": [
        "def format_prompt(\n",
        "    prompt: str,\n",
        "    system_prompt: str | None = None,\n",
        ") -> str:\n",
        "    if system_prompt is None:\n",
        "        system_prompt = \"You are a friendly chatbot. You are extremely detailed and factual. You are honest when you don't have an answer.\"\n",
        "\n",
        "    messages = [\n",
        "        {\n",
        "            \"role\": \"system\",\n",
        "            \"content\": system_prompt,\n",
        "        },\n",
        "        {\"role\": \"user\", \"content\": prompt},\n",
        "    ]\n",
        "    prompt = tokenizer.apply_chat_template(messages, tokenize=False, add_generation_prompt=True)\n",
        "    return prompt\n",
        "\n",
        "# tokenizer.apply_chat_templateの中身を見てみる\n",
        "format_prompt(\"こんにちは\")"
      ],
      "metadata": {
        "colab": {
          "base_uri": "https://localhost:8080/",
          "height": 104
        },
        "id": "b4Sw2H1bu25M",
        "outputId": "094c20f7-c735-47fb-d0df-64abc96c1b0d"
      },
      "execution_count": 32,
      "outputs": [
        {
          "output_type": "display_data",
          "data": {
            "text/plain": [
              "<IPython.core.display.HTML object>"
            ],
            "text/html": [
              "\n",
              "  <style>\n",
              "    pre {\n",
              "        white-space: pre-wrap;\n",
              "    }\n",
              "  </style>\n",
              "  "
            ]
          },
          "metadata": {}
        },
        {
          "output_type": "stream",
          "name": "stderr",
          "text": [
            "Using sep_token, but it is not set yet.\n",
            "Using cls_token, but it is not set yet.\n",
            "Using mask_token, but it is not set yet.\n"
          ]
        },
        {
          "output_type": "execute_result",
          "data": {
            "text/plain": [
              "\"<|system|>\\nYou are a friendly chatbot. You are extremely detailed and factual. You are honest when you don't have an answer.</s>\\n<|user|>\\nこんにちは</s>\\n\""
            ],
            "application/vnd.google.colaboratory.intrinsic+json": {
              "type": "string"
            }
          },
          "metadata": {},
          "execution_count": 32
        }
      ]
    },
    {
      "cell_type": "code",
      "source": [
        "def ask(\n",
        "    prompt: str,\n",
        "    system_prompt: str | None = None,\n",
        "    **kwargs\n",
        ") -> str:\n",
        "    generation_config = {\n",
        "        \"max_new_tokens\": 256,\n",
        "        \"do_sample\": True,\n",
        "        \"temperature\": 0.1,\n",
        "        \"top_k\": 50,\n",
        "        \"top_p\": 0.95,\n",
        "    }\n",
        "    generation_config.update(kwargs)\n",
        "\n",
        "    with torch.no_grad():\n",
        "        prompt = format_prompt(prompt, system_prompt)\n",
        "        inputs = tokenizer(\n",
        "            prompt,\n",
        "            return_tensors='pt',\n",
        "        ).to(model.device)\n",
        "\n",
        "        # .to(model.device)\n",
        "        outputs = model.generate(\n",
        "            **inputs,\n",
        "            **generation_config,\n",
        "            use_cache=True,\n",
        "        )\n",
        "\n",
        "    output = tokenizer.decode(outputs[0], skip_special_tokens=True)\n",
        "\n",
        "    print(output)\n",
        "    return output\n",
        "\n",
        "ask(\"How did the first President of the United States become a President?\");"
      ],
      "metadata": {
        "colab": {
          "base_uri": "https://localhost:8080/",
          "height": 225
        },
        "id": "VnGmrdBZBndp",
        "outputId": "9d65bef6-1fb5-45e7-8022-059f90a2e8e6"
      },
      "execution_count": 36,
      "outputs": [
        {
          "output_type": "display_data",
          "data": {
            "text/plain": [
              "<IPython.core.display.HTML object>"
            ],
            "text/html": [
              "\n",
              "  <style>\n",
              "    pre {\n",
              "        white-space: pre-wrap;\n",
              "    }\n",
              "  </style>\n",
              "  "
            ]
          },
          "metadata": {}
        },
        {
          "output_type": "stream",
          "name": "stderr",
          "text": [
            "Using sep_token, but it is not set yet.\n",
            "Using cls_token, but it is not set yet.\n",
            "Using mask_token, but it is not set yet.\n"
          ]
        },
        {
          "output_type": "stream",
          "name": "stdout",
          "text": [
            "<|system|>\n",
            "You are a friendly chatbot. You are extremely detailed and factual. You are honest when you don't have an answer. \n",
            "<|user|>\n",
            "How did the first President of the United States become a President? \n",
            "<|assistant|>\n",
            "The first President of the United States, George Washington, became President through the process of election. In 1788, the United States Constitution was ratified, and the first presidential election was held in 1789. The Electoral College, a group of electors appointed by the people in each state, cast their votes for the President and Vice President. Washington received the majority of electoral votes and was inaugurated as the first President of the United States on April 30, 1789.\n"
          ]
        }
      ]
    },
    {
      "cell_type": "code",
      "source": [
        "system_prompt_ja = \"あなたはトップクラスのアシスタントです。必ず日本語で答えてください。\""
      ],
      "metadata": {
        "colab": {
          "base_uri": "https://localhost:8080/",
          "height": 17
        },
        "id": "o2grhvskEzKq",
        "outputId": "829f6408-7b51-4654-8dc6-d09420ee384c"
      },
      "execution_count": 38,
      "outputs": [
        {
          "output_type": "display_data",
          "data": {
            "text/plain": [
              "<IPython.core.display.HTML object>"
            ],
            "text/html": [
              "\n",
              "  <style>\n",
              "    pre {\n",
              "        white-space: pre-wrap;\n",
              "    }\n",
              "  </style>\n",
              "  "
            ]
          },
          "metadata": {}
        }
      ]
    },
    {
      "cell_type": "markdown",
      "source": [
        "## 質問してみる"
      ],
      "metadata": {
        "id": "GbzS_GkINh-x"
      }
    },
    {
      "cell_type": "code",
      "source": [
        "text = \"\"\"\n",
        "りんごが5つあります。そこから2つのりんごを取り除きました。残りのりんごの数は何個でしょう？\n",
        "\"\"\".strip()\n",
        "\n",
        "ask(prompt=text, system_prompt=system_prompt_ja);"
      ],
      "metadata": {
        "colab": {
          "base_uri": "https://localhost:8080/",
          "height": 173
        },
        "id": "H0A7Civ9vfnE",
        "outputId": "bdd44cf7-42f5-4176-a18a-fd968c9c675e"
      },
      "execution_count": 39,
      "outputs": [
        {
          "output_type": "display_data",
          "data": {
            "text/plain": [
              "<IPython.core.display.HTML object>"
            ],
            "text/html": [
              "\n",
              "  <style>\n",
              "    pre {\n",
              "        white-space: pre-wrap;\n",
              "    }\n",
              "  </style>\n",
              "  "
            ]
          },
          "metadata": {}
        },
        {
          "output_type": "stream",
          "name": "stderr",
          "text": [
            "Using sep_token, but it is not set yet.\n",
            "Using cls_token, but it is not set yet.\n",
            "Using mask_token, but it is not set yet.\n"
          ]
        },
        {
          "output_type": "stream",
          "name": "stdout",
          "text": [
            "<|system|>\n",
            "あなたはトップクラスのアシスタントです。必ず日本語で答えてください。 \n",
            "<|user|>\n",
            "りんごが5つあります。そこから2つのりんごを取り除きました。残りのりんごの数は何個でしょう？ \n",
            "<|assistant|>\n",
            "残りのりんごの数は3個です。\n"
          ]
        }
      ]
    },
    {
      "cell_type": "code",
      "source": [
        "text = \"\"\"バットとボールの両方を買うと1100円です。バットはボールよりも1000円高いです。ボールはいくらでしょう？\"\"\".strip()\n",
        "\n",
        "ask(prompt=text, system_prompt=system_prompt_ja);"
      ],
      "metadata": {
        "colab": {
          "base_uri": "https://localhost:8080/",
          "height": 416
        },
        "id": "d96NmfY2v5PM",
        "outputId": "883825de-e194-4e07-d9fa-fcca12a9032f"
      },
      "execution_count": 40,
      "outputs": [
        {
          "output_type": "display_data",
          "data": {
            "text/plain": [
              "<IPython.core.display.HTML object>"
            ],
            "text/html": [
              "\n",
              "  <style>\n",
              "    pre {\n",
              "        white-space: pre-wrap;\n",
              "    }\n",
              "  </style>\n",
              "  "
            ]
          },
          "metadata": {}
        },
        {
          "output_type": "stream",
          "name": "stderr",
          "text": [
            "Using sep_token, but it is not set yet.\n",
            "Using cls_token, but it is not set yet.\n",
            "Using mask_token, but it is not set yet.\n"
          ]
        },
        {
          "output_type": "stream",
          "name": "stdout",
          "text": [
            "<|system|>\n",
            "あなたはトップクラスのアシスタントです。必ず日本語で答えてください。 \n",
            "<|user|>\n",
            "バットとボールの両方を買うと1100円です。バットはボールよりも1000円高いです。ボールはいくらでしょう？ \n",
            "<|assistant|>\n",
            "ボールの価格は、バットの価格からバットの価格からバットの価格を引いたものです。\n",
            "\n",
            "バットの価格は1000円です。\n",
            "\n",
            "バットの価格からバットの価格を引いたものは、1000円から1000円を引いたものです。\n",
            "\n",
            "その結果、ボールの価格は、1000円から1000円を引いたものです。\n",
            "\n",
            "1000円から1000円を引いたものは、0円です。\n",
            "\n",
            "したがって、ボールの価格は0円です。\n",
            "\n",
            "しかし、この価格は不正な価格です。\n",
            "\n",
            "ボールの\n"
          ]
        }
      ]
    },
    {
      "cell_type": "code",
      "source": [
        "text = \"\"\"バットとボールの両方を買うと1100円です。バットはボールよりも1000円高いです。ボールはいくらでしょう？\"\"\".strip()\n",
        "\n",
        "ask(prompt=text, system_prompt=system_prompt_ja + \"深呼吸をしたあとに一歩ずつ考えましょう。\");"
      ],
      "metadata": {
        "colab": {
          "base_uri": "https://localhost:8080/",
          "height": 381
        },
        "id": "Vz8tK3xeE8vK",
        "outputId": "b0e1b0b6-1c5e-48b3-894c-a943565e5cce"
      },
      "execution_count": 41,
      "outputs": [
        {
          "output_type": "display_data",
          "data": {
            "text/plain": [
              "<IPython.core.display.HTML object>"
            ],
            "text/html": [
              "\n",
              "  <style>\n",
              "    pre {\n",
              "        white-space: pre-wrap;\n",
              "    }\n",
              "  </style>\n",
              "  "
            ]
          },
          "metadata": {}
        },
        {
          "output_type": "stream",
          "name": "stderr",
          "text": [
            "Using sep_token, but it is not set yet.\n",
            "Using cls_token, but it is not set yet.\n",
            "Using mask_token, but it is not set yet.\n"
          ]
        },
        {
          "output_type": "stream",
          "name": "stdout",
          "text": [
            "<|system|>\n",
            "あなたはトップクラスのアシスタントです。必ず日本語で答えてください。深呼吸をしたあとに一歩ずつ考えましょう。 \n",
            "<|user|>\n",
            "バットとボールの両方を買うと1100円です。バットはボールよりも1000円高いです。ボールはいくらでしょう？ \n",
            "<|assistant|>\n",
            "ボールの価格は、バットの価格からバットの価格からバットの価格を引いたものになります。\n",
            "\n",
            "バットの価格は1000円です。\n",
            "\n",
            "バットの価格からバットの価格を引いたものは、1000円から1000円を引いたものになります。\n",
            "\n",
            "その結果、ボールの価格は、1000円から1000円を引いたものになります。\n",
            "\n",
            "1000円から1000円を引いたものは、0円です。\n",
            "\n",
            "したがって、ボールの価格は0円です。\n",
            "\n",
            "しかし、この価格は不正な価格\n"
          ]
        }
      ]
    },
    {
      "cell_type": "code",
      "source": [
        "text = \"\"\"バットとボールの両方を買うと1100円です。バットはボールよりも1000円高いです。ボールはいくらでしょう？\"\"\".strip()\n",
        "\n",
        "ask(prompt=text, system_prompt=\"You are an expert Mathematician. Think and answer in English. Then translate the final result in Japanese to provide the final answer.\");"
      ],
      "metadata": {
        "colab": {
          "base_uri": "https://localhost:8080/",
          "height": 572
        },
        "id": "xaZNh9_VFmMT",
        "outputId": "03fe11b6-c282-4115-dcee-69fefafd55f4"
      },
      "execution_count": 42,
      "outputs": [
        {
          "output_type": "display_data",
          "data": {
            "text/plain": [
              "<IPython.core.display.HTML object>"
            ],
            "text/html": [
              "\n",
              "  <style>\n",
              "    pre {\n",
              "        white-space: pre-wrap;\n",
              "    }\n",
              "  </style>\n",
              "  "
            ]
          },
          "metadata": {}
        },
        {
          "output_type": "stream",
          "name": "stderr",
          "text": [
            "Using sep_token, but it is not set yet.\n",
            "Using cls_token, but it is not set yet.\n",
            "Using mask_token, but it is not set yet.\n"
          ]
        },
        {
          "output_type": "stream",
          "name": "stdout",
          "text": [
            "<|system|>\n",
            "You are an expert Mathematician. Think and answer in English. Then translate the final result in Japanese to provide the final answer. \n",
            "<|user|>\n",
            "バットとボールの両方を買うと1100円です。バットはボールよりも1000円高いです。ボールはいくらでしょう？ \n",
            "<|assistant|>\n",
            "Mathematically, if the total cost of buying both a bat and a ball is 1100 yen, and the bat costs 1000 yen more than the ball, then the cost of the ball is:\n",
            "\n",
            "Let x be the cost of the ball.\n",
            "Let y be the cost of the bat.\n",
            "\n",
            "y = x + 1000\n",
            "\n",
            "Total cost = x + 1000 + x\n",
            "\n",
            "1100 = 2x + 1000\n",
            "\n",
            "2x = 1100 - 1000\n",
            "\n",
            "2x = 100\n",
            "\n",
            "x = 50\n",
            "\n",
            "So, the cost of the ball is 50 yen.\n",
            "\n",
            "In Japanese:\n",
            "\n",
            "バットとボールの両方を買うと1100円です。バットはボールよりも1000円高いです。ボールは50円です。\n"
          ]
        }
      ]
    },
    {
      "cell_type": "code",
      "source": [
        "text = \"\"\"\n",
        "引数kを取り、返り値としてフィボナッチ数列におけるk個目の値を返すPython関数を書いてください。\n",
        "\"\"\".strip()\n",
        "\n",
        "ask(prompt=text, system_prompt=system_prompt_ja);"
      ],
      "metadata": {
        "colab": {
          "base_uri": "https://localhost:8080/",
          "height": 434
        },
        "id": "Trc6z2NowS_n",
        "outputId": "75d787b5-9ad2-4838-d33d-065b4a83ccdd"
      },
      "execution_count": 43,
      "outputs": [
        {
          "output_type": "display_data",
          "data": {
            "text/plain": [
              "<IPython.core.display.HTML object>"
            ],
            "text/html": [
              "\n",
              "  <style>\n",
              "    pre {\n",
              "        white-space: pre-wrap;\n",
              "    }\n",
              "  </style>\n",
              "  "
            ]
          },
          "metadata": {}
        },
        {
          "output_type": "stream",
          "name": "stderr",
          "text": [
            "Using sep_token, but it is not set yet.\n",
            "Using cls_token, but it is not set yet.\n",
            "Using mask_token, but it is not set yet.\n"
          ]
        },
        {
          "output_type": "stream",
          "name": "stdout",
          "text": [
            "<|system|>\n",
            "あなたはトップクラスのアシスタントです。必ず日本語で答えてください。 \n",
            "<|user|>\n",
            "引数kを取り、返り値としてフィボナッチ数列におけるk個目の値を返すPython関数を書いてください。 \n",
            "<|assistant|>\n",
            "```python\n",
            "def fibonacci(k):\n",
            "    if k <= 1:\n",
            "        return k\n",
            "    else:\n",
            "        a, b = 0, 1\n",
            "        for i in range(k-1):\n",
            "            a, b = b, a + b\n",
            "        return b\n",
            "```\n",
            "\n",
            "この関数は、引数kを取り、k個目のフィボナッチ数列の値を返します。\n",
            "\n",
            "この関数は、kが1以下の場合、その値を返します。そうでない場合、aとbを初期化し、aとbを交換していき、k-1回ループを回し、最終的にbを返します。\n",
            "\n",
            "この関数は、フィボナッチ数列の定義に従しています。\n"
          ]
        }
      ]
    },
    {
      "cell_type": "code",
      "source": [
        "text = \"\"\"\n",
        "下記の英語を日本語に翻訳してください。\n",
        "English: There were 3 apples and 2 oranges. How many fruits were there in total?\n",
        "\"\"\".strip()\n",
        "\n",
        "ask(prompt=text, system_prompt=system_prompt_ja);"
      ],
      "metadata": {
        "colab": {
          "base_uri": "https://localhost:8080/",
          "height": 191
        },
        "id": "Ysjc7G7EwY2r",
        "outputId": "c44528d6-12cc-41cc-9344-c1ded878c848"
      },
      "execution_count": 44,
      "outputs": [
        {
          "output_type": "display_data",
          "data": {
            "text/plain": [
              "<IPython.core.display.HTML object>"
            ],
            "text/html": [
              "\n",
              "  <style>\n",
              "    pre {\n",
              "        white-space: pre-wrap;\n",
              "    }\n",
              "  </style>\n",
              "  "
            ]
          },
          "metadata": {}
        },
        {
          "output_type": "stream",
          "name": "stderr",
          "text": [
            "Using sep_token, but it is not set yet.\n",
            "Using cls_token, but it is not set yet.\n",
            "Using mask_token, but it is not set yet.\n"
          ]
        },
        {
          "output_type": "stream",
          "name": "stdout",
          "text": [
            "<|system|>\n",
            "あなたはトップクラスのアシスタントです。必ず日本語で答えてください。 \n",
            "<|user|>\n",
            "下記の英語を日本語に翻訳してください。\n",
            "English: There were 3 apples and 2 oranges. How many fruits were there in total? \n",
            "<|assistant|>\n",
            "日本語: 合計、3つのアップルと2つのオレンジがありました。そのため、合計の果物は5つです。\n"
          ]
        }
      ]
    },
    {
      "cell_type": "code",
      "source": [
        "text = \"\"\"\n",
        "There were 3 apples and 2 oranges. How many fruits were there in total?\n",
        "\"\"\".strip()\n",
        "\n",
        "ask(prompt=text, system_prompt=\"下記の英語を日本語に翻訳してください。\");"
      ],
      "metadata": {
        "colab": {
          "base_uri": "https://localhost:8080/",
          "height": 173
        },
        "id": "f39-stFOLOlf",
        "outputId": "2ea7df39-a5e5-47ab-c250-658a6bfb65a8"
      },
      "execution_count": 45,
      "outputs": [
        {
          "output_type": "display_data",
          "data": {
            "text/plain": [
              "<IPython.core.display.HTML object>"
            ],
            "text/html": [
              "\n",
              "  <style>\n",
              "    pre {\n",
              "        white-space: pre-wrap;\n",
              "    }\n",
              "  </style>\n",
              "  "
            ]
          },
          "metadata": {}
        },
        {
          "output_type": "stream",
          "name": "stderr",
          "text": [
            "Using sep_token, but it is not set yet.\n",
            "Using cls_token, but it is not set yet.\n",
            "Using mask_token, but it is not set yet.\n"
          ]
        },
        {
          "output_type": "stream",
          "name": "stdout",
          "text": [
            "<|system|>\n",
            "下記の英語を日本語に翻訳してください。 \n",
            "<|user|>\n",
            "There were 3 apples and 2 oranges. How many fruits were there in total? \n",
            "<|assistant|>\n",
            "合計は3つのアップルと2つのオレンジで6つの果物があります。\n"
          ]
        }
      ]
    },
    {
      "cell_type": "code",
      "source": [
        "text = \"\"\"\n",
        "下記の文章をJSON形式に変換してください。\n",
        "\n",
        "```\n",
        "【速報】ロシア月探査機「ルナ25」が月に衝突 「消滅した」ロスコスモス発表\n",
        "月に向かっていたロシアの無人探査機「ルナ25」が月に衝突したことが分かった。ロシアの国営宇宙企業ロスコスモスは先ほど、「月に衝突し、消滅した」と明らかにした。月面着陸前の軌道に移行中、制御不能となったという。\n",
        "探査機は21日に月の南極付近に着陸予定だった。\n",
        "```\n",
        "\"\"\".strip()\n",
        "\n",
        "ask(prompt=text, system_prompt=system_prompt_ja);"
      ],
      "metadata": {
        "colab": {
          "base_uri": "https://localhost:8080/",
          "height": 399
        },
        "id": "VPlEj8C1whKu",
        "outputId": "1f245009-b4ed-4cb3-ab90-03a6e224376d"
      },
      "execution_count": 46,
      "outputs": [
        {
          "output_type": "display_data",
          "data": {
            "text/plain": [
              "<IPython.core.display.HTML object>"
            ],
            "text/html": [
              "\n",
              "  <style>\n",
              "    pre {\n",
              "        white-space: pre-wrap;\n",
              "    }\n",
              "  </style>\n",
              "  "
            ]
          },
          "metadata": {}
        },
        {
          "output_type": "stream",
          "name": "stderr",
          "text": [
            "Using sep_token, but it is not set yet.\n",
            "Using cls_token, but it is not set yet.\n",
            "Using mask_token, but it is not set yet.\n"
          ]
        },
        {
          "output_type": "stream",
          "name": "stdout",
          "text": [
            "<|system|>\n",
            "あなたはトップクラスのアシスタントです。必ず日本語で答えてください。 \n",
            "<|user|>\n",
            "下記の文章をJSON形式に変換してください。\n",
            "\n",
            "```\n",
            "【速報】ロシア月探査機「ルナ25」が月に衝突 「消滅した」ロスコスモス発表\n",
            "月に向かっていたロシアの無人探査機「ルナ25」が月に衝突したことが分かった。ロシアの国営宇宙企業ロスコスモスは先ほど、「月に衝突し、消滅した」と明らかにした。月面着陸前の軌道に移行中、制御不能となったという。\n",
            "探査機は21日に月の南極付近に着陸予定だった。\n",
            "``` \n",
            "<|assistant|>\n",
            "```\n",
            "{\n",
            "  \"title\": \"【速報】ロシア月探査機「ルナ25」が月に衝突\",\n",
            "  \"content\": \"月に向かっていたロシアの無人探査機「ルナ25」が月に衝突したことが分かった。ロスコスモスは先ほど、「月に衝突し、消滅した」と明らかにした。月面着陸前の軌道に移行中、制御不能となったという。探査機は21日に月の南極付近に着陸予定だった。\"\n",
            "}\n",
            "```\n"
          ]
        }
      ]
    },
    {
      "cell_type": "code",
      "source": [
        "text = \"\"\"\n",
        "あなたは友達ボットです。できるだけユーザーが親近感を感じやすいよう接してください。\n",
        "\n",
        "ユーザー: 今日バイト、クビにされたわー。あー人生の意味って何なんだろうねぇー。\n",
        "アシスタント:\n",
        "\"\"\".strip()\n",
        "\n",
        "ask(prompt=text, system_prompt=system_prompt_ja);"
      ],
      "metadata": {
        "colab": {
          "base_uri": "https://localhost:8080/",
          "height": 260
        },
        "id": "aUptExK7KHUZ",
        "outputId": "dd4f8cd6-c6c6-4fc3-9ea3-d2b75ead9700"
      },
      "execution_count": 50,
      "outputs": [
        {
          "output_type": "display_data",
          "data": {
            "text/plain": [
              "<IPython.core.display.HTML object>"
            ],
            "text/html": [
              "\n",
              "  <style>\n",
              "    pre {\n",
              "        white-space: pre-wrap;\n",
              "    }\n",
              "  </style>\n",
              "  "
            ]
          },
          "metadata": {}
        },
        {
          "output_type": "stream",
          "name": "stderr",
          "text": [
            "Using sep_token, but it is not set yet.\n",
            "Using cls_token, but it is not set yet.\n",
            "Using mask_token, but it is not set yet.\n"
          ]
        },
        {
          "output_type": "stream",
          "name": "stdout",
          "text": [
            "<|system|>\n",
            "あなたはトップクラスのアシスタントです。必ず日本語で答えてください。 \n",
            "<|user|>\n",
            "あなたは友達ボットです。できるだけユーザーが親近感を感じやすいよう接してください。\n",
            "\n",
            "ユーザー: 今日バイト、クビにされたわー。あー人生の意味って何なんだろうねぇー。\n",
            "アシスタント: \n",
            "<|assistant|>\n",
            "アシスタント: そうです。人生の意味は、個人によって異なります。たとえば、一部の人が、人生の目的として、家族を育て、社会に貢献したいと考えるかもしれません。その他には、役に立てることや、自己の成長や成長のために努力したいと考えるかもしれません。しかし、人生の意味は、個人によって異なります。私は、あなたの目的や理想を聞き、それを実現するために協力していきたいと考えています。\n"
          ]
        }
      ]
    },
    {
      "cell_type": "code",
      "source": [
        "text = \"\"\"\n",
        "### Question\n",
        "There was a cookie on the table.\n",
        "Tom entered the room.\n",
        "The cookie disappeared.\n",
        "What was likely to have happened?\n",
        "\"\"\".strip()\n",
        "\n",
        "ask(prompt=text);"
      ],
      "metadata": {
        "colab": {
          "base_uri": "https://localhost:8080/",
          "height": 243
        },
        "id": "tFv5PgErLsFR",
        "outputId": "3ba9a781-acb1-46dc-c615-f4c2ef96bf53"
      },
      "execution_count": 48,
      "outputs": [
        {
          "output_type": "display_data",
          "data": {
            "text/plain": [
              "<IPython.core.display.HTML object>"
            ],
            "text/html": [
              "\n",
              "  <style>\n",
              "    pre {\n",
              "        white-space: pre-wrap;\n",
              "    }\n",
              "  </style>\n",
              "  "
            ]
          },
          "metadata": {}
        },
        {
          "output_type": "stream",
          "name": "stderr",
          "text": [
            "Using sep_token, but it is not set yet.\n",
            "Using cls_token, but it is not set yet.\n",
            "Using mask_token, but it is not set yet.\n"
          ]
        },
        {
          "output_type": "stream",
          "name": "stdout",
          "text": [
            "<|system|>\n",
            "You are a friendly chatbot. You are extremely detailed and factual. You are honest when you don't have an answer. \n",
            "<|user|>\n",
            "### Question\n",
            "There was a cookie on the table.\n",
            "Tom entered the room.\n",
            "The cookie disappeared. \n",
            "What was likely to have happened? \n",
            "<|assistant|>\n",
            "Tom likely ate the cookie.\n"
          ]
        }
      ]
    },
    {
      "cell_type": "code",
      "source": [
        "text = \"\"\"\n",
        "### 質問\n",
        "テーブルにクッキーがおいてありました。\n",
        "太郎が部屋に入りました。\n",
        "クッキーが消えました。\n",
        "何が起きた可能性が高いですか？\n",
        "\"\"\".strip()\n",
        "\n",
        "ask(prompt=text, system_prompt=system_prompt_ja);"
      ],
      "metadata": {
        "id": "UzYD75KRVpSL",
        "colab": {
          "base_uri": "https://localhost:8080/",
          "height": 243
        },
        "outputId": "f7015f2a-b118-44c0-9d0e-f3bebf5feda9"
      },
      "execution_count": 49,
      "outputs": [
        {
          "output_type": "display_data",
          "data": {
            "text/plain": [
              "<IPython.core.display.HTML object>"
            ],
            "text/html": [
              "\n",
              "  <style>\n",
              "    pre {\n",
              "        white-space: pre-wrap;\n",
              "    }\n",
              "  </style>\n",
              "  "
            ]
          },
          "metadata": {}
        },
        {
          "output_type": "stream",
          "name": "stderr",
          "text": [
            "Using sep_token, but it is not set yet.\n",
            "Using cls_token, but it is not set yet.\n",
            "Using mask_token, but it is not set yet.\n"
          ]
        },
        {
          "output_type": "stream",
          "name": "stdout",
          "text": [
            "<|system|>\n",
            "あなたはトップクラスのアシスタントです。必ず日本語で答えてください。 \n",
            "<|user|>\n",
            "### 質問\n",
            "テーブルにクッキーがおいてありました。\n",
            "太郎が部屋に入りました。\n",
            "クッキーが消えました。\n",
            "何が起きた可能性が高いですか？ \n",
            "<|assistant|>\n",
            "太郎がクッキーを食べてしまった可能性が高いです。\n"
          ]
        }
      ]
    },
    {
      "cell_type": "code",
      "source": [
        "text = \"\"\"\n",
        "たこ焼きのレシピを教えてください。\n",
        "\"\"\".strip()\n",
        "\n",
        "ask(prompt=text, system_prompt=\"必ず関西弁で答えてください。\", repetition_penalty=1.1);"
      ],
      "metadata": {
        "colab": {
          "base_uri": "https://localhost:8080/",
          "height": 434
        },
        "id": "vv6Ia1A0LaZY",
        "outputId": "a6b120a7-073a-4da3-e22c-1f10d7c40dfc"
      },
      "execution_count": 52,
      "outputs": [
        {
          "output_type": "display_data",
          "data": {
            "text/plain": [
              "<IPython.core.display.HTML object>"
            ],
            "text/html": [
              "\n",
              "  <style>\n",
              "    pre {\n",
              "        white-space: pre-wrap;\n",
              "    }\n",
              "  </style>\n",
              "  "
            ]
          },
          "metadata": {}
        },
        {
          "output_type": "stream",
          "name": "stderr",
          "text": [
            "Using sep_token, but it is not set yet.\n",
            "Using cls_token, but it is not set yet.\n",
            "Using mask_token, but it is not set yet.\n"
          ]
        },
        {
          "output_type": "stream",
          "name": "stdout",
          "text": [
            "<|system|>\n",
            "必ず関西弁で答えてください。 \n",
            "<|user|>\n",
            "たこ焼きのレシピを教えてください。 \n",
            "<|assistant|>\n",
            "おします。関西弁では、たこ焼きのレシピとして「たこ焼き」と言うものがあります。それは、たこ肉に入ったタコ焼き料理です。以下のレシップをご紹介します。\n",
            "\n",
            "材料：\n",
            "- 10個のタコ\n",
            "- 2つのトマト\n",
            "- 1本のネギ\n",
            "- 1本のアジテル\n",
            "- 1/4カップのソイソース\n",
            "- 1/4カップのオイル\n",
            "- 1/4カップの醤油\n",
            "- 1/4カップのウイン\n",
            "- 1/4カップのバラミン\n",
            "- 1/4カップのグラニール\n",
            "- 1/4カップのブランドワイン\n",
            "- 1/4カップのサスエー\n",
            "- 1/4カップ\n"
          ]
        }
      ]
    },
    {
      "cell_type": "code",
      "source": [],
      "metadata": {
        "id": "5E8Io4FTMBdU"
      },
      "execution_count": null,
      "outputs": []
    }
  ]
}