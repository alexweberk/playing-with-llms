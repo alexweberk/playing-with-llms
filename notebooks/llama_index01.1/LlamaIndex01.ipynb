{
 "cells": [
  {
   "cell_type": "markdown",
   "metadata": {},
   "source": [
    "# LlamaIndex を使ってみる\n",
    "\n",
    "参照\n",
    "\n",
    "- https://docs.llamaindex.ai/en/stable/getting_started/customization.html\n"
   ]
  },
  {
   "cell_type": "markdown",
   "metadata": {},
   "source": [
    "試すときに使うデータの取得。clipper というライブラリで HTML を Markdown 化します。\n",
    "今回 npm を使ってインストールしますが、BeautifulSoup などでも似たことができると思います。\n"
   ]
  },
  {
   "cell_type": "code",
   "execution_count": 7,
   "metadata": {},
   "outputs": [],
   "source": [
    "!npm install @philschmid/clipper\n",
    "\n",
    "!mkdir -p ./data\n",
    "!cd ./data\n",
    "!clipper clip -u https://ameblo.jp/ca-seo/entry-12835366312.html -o ./data/ca-seo-2024.md"
   ]
  },
  {
   "cell_type": "markdown",
   "metadata": {},
   "source": [
    "事前に OPENAI_API_KEY をセットアップ。\n",
    "\n",
    "`!export OPENAI_API_KEY=XXXXX`\n"
   ]
  },
  {
   "cell_type": "code",
   "execution_count": 2,
   "metadata": {},
   "outputs": [],
   "source": [
    "!pip install llama-index -Uqq"
   ]
  },
  {
   "cell_type": "code",
   "execution_count": 8,
   "metadata": {},
   "outputs": [],
   "source": [
    "from llama_index import VectorStoreIndex, SimpleDirectoryReader\n",
    "\n",
    "documents = SimpleDirectoryReader(\"./data\").load_data()\n",
    "index = VectorStoreIndex.from_documents(documents)"
   ]
  },
  {
   "cell_type": "code",
   "execution_count": 9,
   "metadata": {},
   "outputs": [
    {
     "data": {
      "text/plain": [
       "[Document(id_='fdf3c3d2-22ef-4cb5-a80c-d6b540baf0a4', embedding=None, metadata={'file_path': 'data/ca-seo-2024.md', 'file_name': 'ca-seo-2024.md', 'file_type': None, 'file_size': 9177, 'creation_date': '2024-01-09', 'last_modified_date': '2024-01-09', 'last_accessed_date': '2024-01-09'}, excluded_embed_metadata_keys=['file_name', 'file_type', 'file_size', 'creation_date', 'last_modified_date', 'last_accessed_date'], excluded_llm_metadata_keys=['file_name', 'file_type', 'file_size', 'creation_date', 'last_modified_date', 'last_accessed_date'], relationships={}, hash='f098789fcb17e5cd0085d104d17dc6eac6140dad5dc479281b0c1e8576530a6f', text='\\n\\n2024年 SEOと検索エンジンの予想\\n\\nここ2年ほど年初にその年の検索エンジンやSEOについて勝手に予想してきましたが、せっかくなのでアメブロ全体のアクセスにちょびっと貢献する意味も込めて今年もやってみたいと思います。\\n\\n2022年\\u3000\\n\\n2023年\\n\\n2024年は元旦から自然災害が発生するという誰も予想していなかったスタートとなりました。\\n\\n改めて被災者の方に心よりお見舞い申し上げるとともに犠牲者の方のご冥福をお祈り申し上げます。\\n\\nさて、2024年のSEO・検索エンジンについての予想ですが結論からいうと2023年の流れのままであろうと思います。\\n\\n1.アルゴリズムは信頼性重視になる\\n\\n昨日、ちょうど辻さんとも話していましたが、アメリカで11月には大統領選が行われます。大統領選前にはフェイクニュースが流れないように徹底するのがGoogleの姿勢であると認識しています。\\n\\nそのためにはEEATの旧EAT部分、Expertise、Authoritativeness、Trustがより重要視されると考えられます。昨年より影響の出始めたもう一つの「E」であるExperienceに反しては今年の前半から中盤くらいで一旦弱まるのではないかと考えます。ただ、この旧EATは概念ですので、何をもってEATが高いと判断するのかは現時点で不明です。これまでの傾向を見ると大規模サイトが有利であったり、被リンクが多いものが有利であったり、サイテーション（指名検索やメンション）が多いものが有利であったりしましたが、そのままなのかより複雑な指標が入ってくるのかは分かりません。\\n\\nいずれにしても小規模サイト、新興サイト、個人サイトや個人ブログ等について逆風になる可能性は高いと思われます。\\n\\n我々にできることは結局のところサイトやコンテンツの信頼性を高めるための質の良いコンテンツを作り続けることと浮き沈みがあっても諦めずにサイトの運営を続けていくことしかないと思われます。それが、サイトの規模を大きくし、被リンクを増やし、サイテーションを増やしていくことにつながるはずです。\\n\\nまた、メーカーや店舗等のリアルなビジネスの場合はサイトの中身だけでなく、実際の商品やサービスがそれらにつながっていきます。ビジネスの品質そのものを高めることこそが最強のEAT対策と言えるかもしれません。\\n\\n![](https://stat.ameba.jp/user_images/20240105/12/ca-seo/3a/c3/j/o0739054215385789429.jpg)\\n\\n2.SGEは一般にはローンチされない\\n\\nGoogleのSearch Generative Experienceそのものは益々進化していくと思います。Bardもそうですが、大規模言語モデルはますます発展するとみられますしハルシネーションへの対策もしてくるでしょう。現在SGEは、Search Labs経由での提供となっており一般に広く公開しているわけではありません。SEOの専門家の中にはSGEが2024年の早い段階で通常のGogole検索に実装されると予想している方もいらっしゃいますが、私は早くても年末、おそらく今年の実装はないと予想します。\\n\\n社会情勢が不安定な中でハルシネーションのリスクがあるものをGoogleがリリースする可能性は低いと考えているからです。イスラエルでもウクライナでも戦争が起こっているうえに、アメリカの大統領選もあります。生成系AIの特徴をかんがえると（だいぶ）がんばればハルシネーションを発生させることはできなくないかもしれません。そのリスクはGoogleも考慮するでしょう。\\n\\nまた、そもそもSGEというかBardからですがMicrosftの対抗策だったはずです。そのMicrosft、Bingの利用率は増えているとは言えない状況だと思います。そんな中でSGEをリリースするというリスクをGoogleが背負う必要はないと考えます。\\n\\n![](https://stat.ameba.jp/user_images/20240104/15/ca-seo/f3/9c/j/o1276047515385468844.jpg)\\n\\n3.Googleの収益戦略の加速\\n\\n昨年は検索結果の途中にリスティング広告が差し込まれたり、動画検索がYouTubeだらけになりその先のYouTubeでは広告が増えたりと、明らかにGoogleの収益化戦略が加速していました。Googleはもはやインフラではあるものの一般企業であり、また昨年は大規模なレイオフを行ったことからも理解できる部分はあります。ただ、さまざまなところで広告が増加したりGoogleの資産への誘導がなされたりという部分は、我々サイト運営者やSEOsにとってはつらいところではあります。\\n\\nしかしながら、この流れというのは止まらないのではないかと思います。動画検索がいまから元の姿に戻りYouTube以外の動画コンテンツにトラフィックを流すという可能性は少ないでしょう。SERPsからリスティング広告を減らすこともないでしょう。\\n\\nこれからはさまざまなバーティカルサーチにおいてGoogleがビジネスを展開する可能性も考えておかなければならないかもしれません。\\n\\n4.スパム対応の厳格化\\n\\nGoogleはトラスト、セーフティーに関わるチームをレイオフ時に解散させるなど、検索者が望む姿と逆行するような気配がありました。しかしながら、ホスト貸し（寄生サイト）を中心にスパムへの対応は引き続ききっちりと行われています。恥ずかしながらアメブロ上でもスパムは存在し（多くはスパムフィルタでブロックされます）それらへのマニュアルアクションは現在でもしっかりと行われている状態です。\\n\\nGoogleは引き続き世界中のスパムの実態を把握しようと努力していることも知っていますし、特に（過去のリンクスパム大国だった）日本の現状には気を配っています。一部の知恵を絞ったリンクスパムに関してもGoogleは対応策を検討しているようですし、引き続きホスト貸しに関しては対処していくものと思われます。\\n\\n![](https://stat.ameba.jp/user_images/20240105/12/ca-seo/4d/65/p/o0744034915385790040.png)\\n\\n5.ユーザー行動の重要性の向上\\n\\nGoogleの人と話していても、User Behaviorへのフォーカスを進められます。昨年すでにその傾向は見られていましたが今年はよりその傾向は強まるかもしれません。User BehaviorはCTRや直帰率などの単純なものだけを指標にしなければスパムされにくいという特徴もあるでしょう。また、ユーザーが本当に良いと思っているサイトを炙り出すのに適していると思われますので、よりユーザーにフォーカスした、ユーザーに優しいアルゴリズムになると考えられます。\\n\\n一方で、「1」に記したような信頼性というところとは相反するものが上がる危険性が捨てきれないことから、ユーザー行動指標が強くなるのは今年の前半だけかもしれません。ただ、大統領選が終わったり、社会情勢が安定したりした際には、かならず今よりも強くなる指標ではないかと思います。\\n\\n6.SEO業界の若手の台頭\\n\\nこれは希望です。そろそろ世代交代の時期に入っていると思います。さまざまな場でSEOを生業にしている方と交流させていただきますが、若い方には本当に優秀な方が多いです。弊社でもSEOに関わる人、SEO専門の人だけでなくエンジニアやデザイナー、プロダクトマネージャーなどだいぶ若返りました。おじさんは私一人ということが多いです。（もはやおじいちゃんの扱いをされていますが）ぜひ若い方は横のつながりをもっていただきお互いを高め合っていただきたいと思います。\\n\\nということで簡単ではありますが2024年のSEOを勝手に予想してみました。\\n\\n先にも書いたように、今年はあまり動きがなさそうな気がするので書き始めて「書くことがない」ことに気づいてしまいました。。なので若干無理矢理感があるかもしれませんがご容赦いただければと思います。\\n\\n@kimuyan\\n', start_char_idx=None, end_char_idx=None, text_template='{metadata_str}\\n\\n{content}', metadata_template='{key}: {value}', metadata_seperator='\\n')]"
      ]
     },
     "execution_count": 9,
     "metadata": {},
     "output_type": "execute_result"
    }
   ],
   "source": [
    "documents"
   ]
  },
  {
   "cell_type": "code",
   "execution_count": 10,
   "metadata": {},
   "outputs": [
    {
     "data": {
      "text/plain": [
       "<llama_index.indices.vector_store.base.VectorStoreIndex at 0x17e958790>"
      ]
     },
     "execution_count": 10,
     "metadata": {},
     "output_type": "execute_result"
    }
   ],
   "source": [
    "index"
   ]
  },
  {
   "cell_type": "code",
   "execution_count": 11,
   "metadata": {},
   "outputs": [
    {
     "name": "stdout",
     "output_type": "stream",
     "text": [
      "SGEはSearch Generative Experienceの略であり、Googleの検索エンジンに関連する技術や機能の一部を指します。現在、SGEはSearch Labs経由での提供となっており、一般には広く公開されていません。SGEは、大規模言語モデルの進化やハルシネーションへの対策など、Googleの検索エンジンの進化に関連していると考えられます。ただし、2024年の早い段階で通常のGoogle検索に実装されるかどうかは予測が分かれており、社会情勢の不安定さや競合他社の動向なども考慮される必要があります。\n"
     ]
    }
   ],
   "source": [
    "query_engine = index.as_query_engine()\n",
    "response = query_engine.query(\"SGEとはなんですか？\")\n",
    "print(response)"
   ]
  },
  {
   "cell_type": "code",
   "execution_count": 12,
   "metadata": {},
   "outputs": [],
   "source": [
    "# store embeddings to file\n",
    "index.storage_context.persist(\"./storage\")"
   ]
  },
  {
   "cell_type": "code",
   "execution_count": 13,
   "metadata": {},
   "outputs": [],
   "source": [
    "# load the existing index\n",
    "from llama_index import StorageContext, load_index_from_storage\n",
    "\n",
    "storage_context = StorageContext.from_defaults(persist_dir=\"./storage\")\n",
    "index = load_index_from_storage(storage_context)"
   ]
  },
  {
   "cell_type": "markdown",
   "metadata": {},
   "source": [
    "### チャンクサイズを変えたい場合\n"
   ]
  },
  {
   "cell_type": "code",
   "execution_count": 22,
   "metadata": {},
   "outputs": [
    {
     "name": "stdout",
     "output_type": "stream",
     "text": [
      "SGE stands for Search Generative Experience. It is a feature provided by Google that is currently only available through Search Labs and is not widely accessible to the general public. SGE is a part of Google's evolving search experience and is expected to continue to advance, with improvements in large-scale language models and measures to address hallucination. However, it is unlikely to be launched for regular Google searches in the near future.\n"
     ]
    }
   ],
   "source": [
    "# chunk in smaller chunks\n",
    "from llama_index import ServiceContext\n",
    "from llama_index import VectorStoreIndex, SimpleDirectoryReader\n",
    "\n",
    "# デフォルトが1024なので半分で試してみます。\n",
    "service_context = ServiceContext.from_defaults(chunk_size=512)\n",
    "\n",
    "documents = SimpleDirectoryReader(\"data\").load_data()\n",
    "index = VectorStoreIndex.from_documents(documents, service_context=service_context)\n",
    "query_engine = index.as_query_engine()\n",
    "response = query_engine.query(\"SGEとはなんですか？\")\n",
    "print(response)"
   ]
  },
  {
   "cell_type": "markdown",
   "metadata": {},
   "source": [
    "### ベクターストアを変えたい場合\n"
   ]
  },
  {
   "cell_type": "code",
   "execution_count": 23,
   "metadata": {},
   "outputs": [],
   "source": [
    "# using Chroma for embeddings\n",
    "!pip install chromadb -Uqq\n",
    "import chromadb\n",
    "from llama_index.vector_stores import ChromaVectorStore\n",
    "from llama_index import StorageContext\n",
    "\n",
    "chroma_client = chromadb.PersistentClient()\n",
    "chroma_collection = chroma_client.create_collection(\"quickstart\")\n",
    "vector_store = ChromaVectorStore(chroma_collection=chroma_collection)\n",
    "storage_context = StorageContext.from_defaults(vector_store=vector_store)"
   ]
  },
  {
   "cell_type": "code",
   "execution_count": 24,
   "metadata": {},
   "outputs": [
    {
     "name": "stdout",
     "output_type": "stream",
     "text": [
      "SGEはSearch Generative Experienceの略であり、Googleの検索エンジンに関連する技術や機能の一部を指します。現在、SGEはSearch Labs経由での提供となっており、一般に広く公開されているわけではありません。SGEは、大規模言語モデルの進化やハルシネーションへの対策など、Googleの検索エンジンの進化に関連していると考えられます。ただし、2024年の早い段階で通常のGoogle検索にSGEが実装されるかどうかは予測できません。\n"
     ]
    }
   ],
   "source": [
    "from llama_index import VectorStoreIndex, SimpleDirectoryReader\n",
    "\n",
    "documents = SimpleDirectoryReader(\"data\").load_data()\n",
    "index = VectorStoreIndex.from_documents(documents, storage_context=storage_context)\n",
    "query_engine = index.as_query_engine()\n",
    "response = query_engine.query(\"SGEとはなんですか？\")\n",
    "print(response)"
   ]
  },
  {
   "cell_type": "markdown",
   "metadata": {},
   "source": [
    "### コンテキストに使うチャンクの数を変えたい場合\n"
   ]
  },
  {
   "cell_type": "code",
   "execution_count": 25,
   "metadata": {},
   "outputs": [
    {
     "name": "stderr",
     "output_type": "stream",
     "text": [
      "Number of requested results 5 is greater than number of elements in index 4, updating n_results = 4\n"
     ]
    },
    {
     "data": {
      "text/plain": [
       "Response(response=\"SGE stands for Search Generative Experience. It is a feature or experience provided by Google that is currently only available through Search Labs and not widely accessible to the general public. It is a part of Google's ongoing efforts to evolve and improve its search experience using large-scale language models like Bard. While some SEO experts speculate that SGE may be implemented in regular Google search by the end of 2024, it is unlikely to be released earlier due to concerns about the risk of generating harmful or misleading content. Additionally, SGE was originally developed as a response to Microsoft's Bard, but Google may not see the need to take on the risk of releasing SGE, especially considering that Bing's usage rate has not significantly increased.\", source_nodes=[NodeWithScore(node=TextNode(id_='3fe29053-3523-476b-8892-24f4a1255d5e', embedding=None, metadata={'file_path': 'data/ca-seo-2024.md', 'file_name': 'ca-seo-2024.md', 'file_type': None, 'file_size': 9177, 'creation_date': '2024-01-09', 'last_modified_date': '2024-01-09', 'last_accessed_date': '2024-01-09'}, excluded_embed_metadata_keys=['file_name', 'file_type', 'file_size', 'creation_date', 'last_modified_date', 'last_accessed_date'], excluded_llm_metadata_keys=['file_name', 'file_type', 'file_size', 'creation_date', 'last_modified_date', 'last_accessed_date'], relationships={<NodeRelationship.SOURCE: '1'>: RelatedNodeInfo(node_id='73f38ee2-e721-4473-aece-f1136efcd30c', node_type=<ObjectType.DOCUMENT: '4'>, metadata={'file_path': 'data/ca-seo-2024.md', 'file_name': 'ca-seo-2024.md', 'file_type': None, 'file_size': 9177, 'creation_date': '2024-01-09', 'last_modified_date': '2024-01-09', 'last_accessed_date': '2024-01-09'}, hash='f098789fcb17e5cd0085d104d17dc6eac6140dad5dc479281b0c1e8576530a6f'), <NodeRelationship.PREVIOUS: '2'>: RelatedNodeInfo(node_id='53ac4de9-012a-498f-892c-b29dae983953', node_type=<ObjectType.TEXT: '1'>, metadata={'file_path': 'data/ca-seo-2024.md', 'file_name': 'ca-seo-2024.md', 'file_type': None, 'file_size': 9177, 'creation_date': '2024-01-09', 'last_modified_date': '2024-01-09', 'last_accessed_date': '2024-01-09'}, hash='962666a6e67e597ce31bcce4bd94b5ec70201399e49e8454d5acd200ca2f2c2f'), <NodeRelationship.NEXT: '3'>: RelatedNodeInfo(node_id='25d3cf13-47af-4ee9-bb71-9ec735a31513', node_type=<ObjectType.TEXT: '1'>, metadata={}, hash='f3b37b2805b0d9f7b5fa22b4108cc3303e4fbcc7538304431f8404a15d104dee')}, hash='f8c9acb1ade719d823ea6baf96c5d49594d9e7b2ce4c701f37b4e6ef23028702', text='[](https://stat.ameba.jp/user_images/20240105/12/ca-seo/3a/c3/j/o0739054215385789429.jpg)\\n\\n2.SGEは一般にはローンチされない\\n\\nGoogleのSearch Generative Experienceそのものは益々進化していくと思います。Bardもそうですが、大規模言語モデルはますます発展するとみられますしハルシネーションへの対策もしてくるでしょう。現在SGEは、Search Labs経由での提供となっており一般に広く公開しているわけではありません。SEOの専門家の中にはSGEが2024年の早い段階で通常のGogole検索に実装されると予想している方もいらっしゃいますが、私は早くても年末、おそらく今年の実装はないと予想します。\\n\\n社会情勢が不安定な中でハルシネーションのリスクがあるものをGoogleがリリースする可能性は低いと考えているからです。イスラエルでもウクライナでも戦争が起こっているうえに、アメリカの大統領選もあります。生成系AIの特徴をかんがえると（だいぶ）がんばればハルシネーションを発生させることはできなくないかもしれません。そのリスクはGoogleも考慮するでしょう。\\n\\nまた、そもそもSGEというかBardからですがMicrosftの対抗策だったはずです。そのMicrosft、Bingの利用率は増えているとは言えない状況だと思います。そんな中でSGEをリリースするというリスクをGoogleが背負う必要はないと考えます。\\n\\n!', start_char_idx=992, end_char_idx=1667, text_template='{metadata_str}\\n\\n{content}', metadata_template='{key}: {value}', metadata_seperator='\\n'), score=0.748683088888371), NodeWithScore(node=TextNode(id_='53ac4de9-012a-498f-892c-b29dae983953', embedding=None, metadata={'file_path': 'data/ca-seo-2024.md', 'file_name': 'ca-seo-2024.md', 'file_type': None, 'file_size': 9177, 'creation_date': '2024-01-09', 'last_modified_date': '2024-01-09', 'last_accessed_date': '2024-01-09'}, excluded_embed_metadata_keys=['file_name', 'file_type', 'file_size', 'creation_date', 'last_modified_date', 'last_accessed_date'], excluded_llm_metadata_keys=['file_name', 'file_type', 'file_size', 'creation_date', 'last_modified_date', 'last_accessed_date'], relationships={<NodeRelationship.SOURCE: '1'>: RelatedNodeInfo(node_id='73f38ee2-e721-4473-aece-f1136efcd30c', node_type=<ObjectType.DOCUMENT: '4'>, metadata={'file_path': 'data/ca-seo-2024.md', 'file_name': 'ca-seo-2024.md', 'file_type': None, 'file_size': 9177, 'creation_date': '2024-01-09', 'last_modified_date': '2024-01-09', 'last_accessed_date': '2024-01-09'}, hash='f098789fcb17e5cd0085d104d17dc6eac6140dad5dc479281b0c1e8576530a6f'), <NodeRelationship.NEXT: '3'>: RelatedNodeInfo(node_id='3fe29053-3523-476b-8892-24f4a1255d5e', node_type=<ObjectType.TEXT: '1'>, metadata={}, hash='955848d998f40ed24c3ed5b98c7a6bfb4521de3fb6f911854460dbfabcb5dd4a')}, hash='f8c9acb1ade719d823ea6baf96c5d49594d9e7b2ce4c701f37b4e6ef23028702', text='2024年 SEOと検索エンジンの予想\\n\\nここ2年ほど年初にその年の検索エンジンやSEOについて勝手に予想してきましたが、せっかくなのでアメブロ全体のアクセスにちょびっと貢献する意味も込めて今年もやってみたいと思います。\\n\\n2022年\\u3000\\n\\n2023年\\n\\n2024年は元旦から自然災害が発生するという誰も予想していなかったスタートとなりました。\\n\\n改めて被災者の方に心よりお見舞い申し上げるとともに犠牲者の方のご冥福をお祈り申し上げます。\\n\\nさて、2024年のSEO・検索エンジンについての予想ですが結論からいうと2023年の流れのままであろうと思います。\\n\\n1.アルゴリズムは信頼性重視になる\\n\\n昨日、ちょうど辻さんとも話していましたが、アメリカで11月には大統領選が行われます。大統領選前にはフェイクニュースが流れないように徹底するのがGoogleの姿勢であると認識しています。\\n\\nそのためにはEEATの旧EAT部分、Expertise、Authoritativeness、Trustがより重要視されると考えられます。昨年より影響の出始めたもう一つの「E」であるExperienceに反しては今年の前半から中盤くらいで一旦弱まるのではないかと考えます。ただ、この旧EATは概念ですので、何をもってEATが高いと判断するのかは現時点で不明です。これまでの傾向を見ると大規模サイトが有利であったり、被リンクが多いものが有利であったり、サイテーション（指名検索やメンション）が多いものが有利であったりしましたが、そのままなのかより複雑な指標が入ってくるのかは分かりません。\\n\\nいずれにしても小規模サイト、新興サイト、個人サイトや個人ブログ等について逆風になる可能性は高いと思われます。\\n\\n我々にできることは結局のところサイトやコンテンツの信頼性を高めるための質の良いコンテンツを作り続けることと浮き沈みがあっても諦めずにサイトの運営を続けていくことしかないと思われます。それが、サイトの規模を大きくし、被リンクを増やし、サイテーションを増やしていくことにつながるはずです。\\n\\nまた、メーカーや店舗等のリアルなビジネスの場合はサイトの中身だけでなく、実際の商品やサービスがそれらにつながっていきます。ビジネスの品質そのものを高めることこそが最強のEAT対策と言えるかもしれません。\\n\\n!', start_char_idx=2, end_char_idx=992, text_template='{metadata_str}\\n\\n{content}', metadata_template='{key}: {value}', metadata_seperator='\\n'), score=0.6739392147132954), NodeWithScore(node=TextNode(id_='25d3cf13-47af-4ee9-bb71-9ec735a31513', embedding=None, metadata={'file_path': 'data/ca-seo-2024.md', 'file_name': 'ca-seo-2024.md', 'file_type': None, 'file_size': 9177, 'creation_date': '2024-01-09', 'last_modified_date': '2024-01-09', 'last_accessed_date': '2024-01-09'}, excluded_embed_metadata_keys=['file_name', 'file_type', 'file_size', 'creation_date', 'last_modified_date', 'last_accessed_date'], excluded_llm_metadata_keys=['file_name', 'file_type', 'file_size', 'creation_date', 'last_modified_date', 'last_accessed_date'], relationships={<NodeRelationship.SOURCE: '1'>: RelatedNodeInfo(node_id='73f38ee2-e721-4473-aece-f1136efcd30c', node_type=<ObjectType.DOCUMENT: '4'>, metadata={'file_path': 'data/ca-seo-2024.md', 'file_name': 'ca-seo-2024.md', 'file_type': None, 'file_size': 9177, 'creation_date': '2024-01-09', 'last_modified_date': '2024-01-09', 'last_accessed_date': '2024-01-09'}, hash='f098789fcb17e5cd0085d104d17dc6eac6140dad5dc479281b0c1e8576530a6f'), <NodeRelationship.PREVIOUS: '2'>: RelatedNodeInfo(node_id='3fe29053-3523-476b-8892-24f4a1255d5e', node_type=<ObjectType.TEXT: '1'>, metadata={'file_path': 'data/ca-seo-2024.md', 'file_name': 'ca-seo-2024.md', 'file_type': None, 'file_size': 9177, 'creation_date': '2024-01-09', 'last_modified_date': '2024-01-09', 'last_accessed_date': '2024-01-09'}, hash='955848d998f40ed24c3ed5b98c7a6bfb4521de3fb6f911854460dbfabcb5dd4a'), <NodeRelationship.NEXT: '3'>: RelatedNodeInfo(node_id='6260fa73-2eb1-4cae-a426-8a7c21c18a4f', node_type=<ObjectType.TEXT: '1'>, metadata={}, hash='3b363d3a9c232b963d6c4e86e6721714b9449f7147c5ac46e755f383487bc4ce')}, hash='f8c9acb1ade719d823ea6baf96c5d49594d9e7b2ce4c701f37b4e6ef23028702', text='[](https://stat.ameba.jp/user_images/20240104/15/ca-seo/f3/9c/j/o1276047515385468844.jpg)\\n\\n3.Googleの収益戦略の加速\\n\\n昨年は検索結果の途中にリスティング広告が差し込まれたり、動画検索がYouTubeだらけになりその先のYouTubeでは広告が増えたりと、明らかにGoogleの収益化戦略が加速していました。Googleはもはやインフラではあるものの一般企業であり、また昨年は大規模なレイオフを行ったことからも理解できる部分はあります。ただ、さまざまなところで広告が増加したりGoogleの資産への誘導がなされたりという部分は、我々サイト運営者やSEOsにとってはつらいところではあります。\\n\\nしかしながら、この流れというのは止まらないのではないかと思います。動画検索がいまから元の姿に戻りYouTube以外の動画コンテンツにトラフィックを流すという可能性は少ないでしょう。SERPsからリスティング広告を減らすこともないでしょう。\\n\\nこれからはさまざまなバーティカルサーチにおいてGoogleがビジネスを展開する可能性も考えておかなければならないかもしれません。\\n\\n4.スパム対応の厳格化\\n\\nGoogleはトラスト、セーフティーに関わるチームをレイオフ時に解散させるなど、検索者が望む姿と逆行するような気配がありました。しかしながら、ホスト貸し（寄生サイト）を中心にスパムへの対応は引き続ききっちりと行われています。恥ずかしながらアメブロ上でもスパムは存在し（多くはスパムフィルタでブロックされます）それらへのマニュアルアクションは現在でもしっかりと行われている状態です。\\n\\nGoogleは引き続き世界中のスパムの実態を把握しようと努力していることも知っていますし、特に（過去のリンクスパム大国だった）日本の現状には気を配っています。一部の知恵を絞ったリンクスパムに関してもGoogleは対応策を検討しているようですし、引き続きホスト貸しに関しては対処していくものと思われます。\\n\\n!', start_char_idx=1667, end_char_idx=2559, text_template='{metadata_str}\\n\\n{content}', metadata_template='{key}: {value}', metadata_seperator='\\n'), score=0.6536883500975189), NodeWithScore(node=TextNode(id_='6260fa73-2eb1-4cae-a426-8a7c21c18a4f', embedding=None, metadata={'file_path': 'data/ca-seo-2024.md', 'file_name': 'ca-seo-2024.md', 'file_type': None, 'file_size': 9177, 'creation_date': '2024-01-09', 'last_modified_date': '2024-01-09', 'last_accessed_date': '2024-01-09'}, excluded_embed_metadata_keys=['file_name', 'file_type', 'file_size', 'creation_date', 'last_modified_date', 'last_accessed_date'], excluded_llm_metadata_keys=['file_name', 'file_type', 'file_size', 'creation_date', 'last_modified_date', 'last_accessed_date'], relationships={<NodeRelationship.SOURCE: '1'>: RelatedNodeInfo(node_id='73f38ee2-e721-4473-aece-f1136efcd30c', node_type=<ObjectType.DOCUMENT: '4'>, metadata={'file_path': 'data/ca-seo-2024.md', 'file_name': 'ca-seo-2024.md', 'file_type': None, 'file_size': 9177, 'creation_date': '2024-01-09', 'last_modified_date': '2024-01-09', 'last_accessed_date': '2024-01-09'}, hash='f098789fcb17e5cd0085d104d17dc6eac6140dad5dc479281b0c1e8576530a6f'), <NodeRelationship.PREVIOUS: '2'>: RelatedNodeInfo(node_id='25d3cf13-47af-4ee9-bb71-9ec735a31513', node_type=<ObjectType.TEXT: '1'>, metadata={'file_path': 'data/ca-seo-2024.md', 'file_name': 'ca-seo-2024.md', 'file_type': None, 'file_size': 9177, 'creation_date': '2024-01-09', 'last_modified_date': '2024-01-09', 'last_accessed_date': '2024-01-09'}, hash='f3b37b2805b0d9f7b5fa22b4108cc3303e4fbcc7538304431f8404a15d104dee')}, hash='f8c9acb1ade719d823ea6baf96c5d49594d9e7b2ce4c701f37b4e6ef23028702', text='[](https://stat.ameba.jp/user_images/20240105/12/ca-seo/4d/65/p/o0744034915385790040.png)\\n\\n5.ユーザー行動の重要性の向上\\n\\nGoogleの人と話していても、User Behaviorへのフォーカスを進められます。昨年すでにその傾向は見られていましたが今年はよりその傾向は強まるかもしれません。User BehaviorはCTRや直帰率などの単純なものだけを指標にしなければスパムされにくいという特徴もあるでしょう。また、ユーザーが本当に良いと思っているサイトを炙り出すのに適していると思われますので、よりユーザーにフォーカスした、ユーザーに優しいアルゴリズムになると考えられます。\\n\\n一方で、「1」に記したような信頼性というところとは相反するものが上がる危険性が捨てきれないことから、ユーザー行動指標が強くなるのは今年の前半だけかもしれません。ただ、大統領選が終わったり、社会情勢が安定したりした際には、かならず今よりも強くなる指標ではないかと思います。\\n\\n6.SEO業界の若手の台頭\\n\\nこれは希望です。そろそろ世代交代の時期に入っていると思います。さまざまな場でSEOを生業にしている方と交流させていただきますが、若い方には本当に優秀な方が多いです。弊社でもSEOに関わる人、SEO専門の人だけでなくエンジニアやデザイナー、プロダクトマネージャーなどだいぶ若返りました。おじさんは私一人ということが多いです。（もはやおじいちゃんの扱いをされていますが）ぜひ若い方は横のつながりをもっていただきお互いを高め合っていただきたいと思います。\\n\\nということで簡単ではありますが2024年のSEOを勝手に予想してみました。\\n\\n先にも書いたように、今年はあまり動きがなさそうな気がするので書き始めて「書くことがない」ことに気づいてしまいました。。なので若干無理矢理感があるかもしれませんがご容赦いただければと思います。\\n\\n@kimuyan', start_char_idx=2559, end_char_idx=3419, text_template='{metadata_str}\\n\\n{content}', metadata_template='{key}: {value}', metadata_seperator='\\n'), score=0.6388681257816166)], metadata={'3fe29053-3523-476b-8892-24f4a1255d5e': {'file_path': 'data/ca-seo-2024.md', 'file_name': 'ca-seo-2024.md', 'file_type': None, 'file_size': 9177, 'creation_date': '2024-01-09', 'last_modified_date': '2024-01-09', 'last_accessed_date': '2024-01-09'}, '53ac4de9-012a-498f-892c-b29dae983953': {'file_path': 'data/ca-seo-2024.md', 'file_name': 'ca-seo-2024.md', 'file_type': None, 'file_size': 9177, 'creation_date': '2024-01-09', 'last_modified_date': '2024-01-09', 'last_accessed_date': '2024-01-09'}, '25d3cf13-47af-4ee9-bb71-9ec735a31513': {'file_path': 'data/ca-seo-2024.md', 'file_name': 'ca-seo-2024.md', 'file_type': None, 'file_size': 9177, 'creation_date': '2024-01-09', 'last_modified_date': '2024-01-09', 'last_accessed_date': '2024-01-09'}, '6260fa73-2eb1-4cae-a426-8a7c21c18a4f': {'file_path': 'data/ca-seo-2024.md', 'file_name': 'ca-seo-2024.md', 'file_type': None, 'file_size': 9177, 'creation_date': '2024-01-09', 'last_modified_date': '2024-01-09', 'last_accessed_date': '2024-01-09'}})"
      ]
     },
     "execution_count": 25,
     "metadata": {},
     "output_type": "execute_result"
    }
   ],
   "source": [
    "query_engine = index.as_query_engine(similarity_top_k=5)\n",
    "query_engine.query(\"SGEとはなんですか？\")"
   ]
  },
  {
   "cell_type": "code",
   "execution_count": 26,
   "metadata": {},
   "outputs": [
    {
     "name": "stderr",
     "output_type": "stream",
     "text": [
      "Number of requested results 5 is greater than number of elements in index 4, updating n_results = 4\n"
     ]
    },
    {
     "data": {
      "text/plain": [
       "Response(response='SGEとは、Search Generative Experienceの略であり、Googleの検索エンジンにおける生成系AIの一部を指します。現在、SGEはSearch Labs経由での提供となっており、一般に広く公開されているわけではありません。SGEは、大規模言語モデルの進化やハルシネーションへの対策など、Googleの検索エンジンの進化に関連しています。ただし、SGEが2024年の早い段階で通常のGoogle検索に実装されるかどうかは予測が分かれており、具体的な実装時期は不明です。', source_nodes=[NodeWithScore(node=TextNode(id_='3fe29053-3523-476b-8892-24f4a1255d5e', embedding=None, metadata={'file_path': 'data/ca-seo-2024.md', 'file_name': 'ca-seo-2024.md', 'file_type': None, 'file_size': 9177, 'creation_date': '2024-01-09', 'last_modified_date': '2024-01-09', 'last_accessed_date': '2024-01-09'}, excluded_embed_metadata_keys=['file_name', 'file_type', 'file_size', 'creation_date', 'last_modified_date', 'last_accessed_date'], excluded_llm_metadata_keys=['file_name', 'file_type', 'file_size', 'creation_date', 'last_modified_date', 'last_accessed_date'], relationships={<NodeRelationship.SOURCE: '1'>: RelatedNodeInfo(node_id='73f38ee2-e721-4473-aece-f1136efcd30c', node_type=<ObjectType.DOCUMENT: '4'>, metadata={'file_path': 'data/ca-seo-2024.md', 'file_name': 'ca-seo-2024.md', 'file_type': None, 'file_size': 9177, 'creation_date': '2024-01-09', 'last_modified_date': '2024-01-09', 'last_accessed_date': '2024-01-09'}, hash='f098789fcb17e5cd0085d104d17dc6eac6140dad5dc479281b0c1e8576530a6f'), <NodeRelationship.PREVIOUS: '2'>: RelatedNodeInfo(node_id='53ac4de9-012a-498f-892c-b29dae983953', node_type=<ObjectType.TEXT: '1'>, metadata={'file_path': 'data/ca-seo-2024.md', 'file_name': 'ca-seo-2024.md', 'file_type': None, 'file_size': 9177, 'creation_date': '2024-01-09', 'last_modified_date': '2024-01-09', 'last_accessed_date': '2024-01-09'}, hash='962666a6e67e597ce31bcce4bd94b5ec70201399e49e8454d5acd200ca2f2c2f'), <NodeRelationship.NEXT: '3'>: RelatedNodeInfo(node_id='25d3cf13-47af-4ee9-bb71-9ec735a31513', node_type=<ObjectType.TEXT: '1'>, metadata={}, hash='f3b37b2805b0d9f7b5fa22b4108cc3303e4fbcc7538304431f8404a15d104dee')}, hash='f8c9acb1ade719d823ea6baf96c5d49594d9e7b2ce4c701f37b4e6ef23028702', text='[](https://stat.ameba.jp/user_images/20240105/12/ca-seo/3a/c3/j/o0739054215385789429.jpg)\\n\\n2.SGEは一般にはローンチされない\\n\\nGoogleのSearch Generative Experienceそのものは益々進化していくと思います。Bardもそうですが、大規模言語モデルはますます発展するとみられますしハルシネーションへの対策もしてくるでしょう。現在SGEは、Search Labs経由での提供となっており一般に広く公開しているわけではありません。SEOの専門家の中にはSGEが2024年の早い段階で通常のGogole検索に実装されると予想している方もいらっしゃいますが、私は早くても年末、おそらく今年の実装はないと予想します。\\n\\n社会情勢が不安定な中でハルシネーションのリスクがあるものをGoogleがリリースする可能性は低いと考えているからです。イスラエルでもウクライナでも戦争が起こっているうえに、アメリカの大統領選もあります。生成系AIの特徴をかんがえると（だいぶ）がんばればハルシネーションを発生させることはできなくないかもしれません。そのリスクはGoogleも考慮するでしょう。\\n\\nまた、そもそもSGEというかBardからですがMicrosftの対抗策だったはずです。そのMicrosft、Bingの利用率は増えているとは言えない状況だと思います。そんな中でSGEをリリースするというリスクをGoogleが背負う必要はないと考えます。\\n\\n!', start_char_idx=992, end_char_idx=1667, text_template='{metadata_str}\\n\\n{content}', metadata_template='{key}: {value}', metadata_seperator='\\n'), score=0.7211916318268455), NodeWithScore(node=TextNode(id_='53ac4de9-012a-498f-892c-b29dae983953', embedding=None, metadata={'file_path': 'data/ca-seo-2024.md', 'file_name': 'ca-seo-2024.md', 'file_type': None, 'file_size': 9177, 'creation_date': '2024-01-09', 'last_modified_date': '2024-01-09', 'last_accessed_date': '2024-01-09'}, excluded_embed_metadata_keys=['file_name', 'file_type', 'file_size', 'creation_date', 'last_modified_date', 'last_accessed_date'], excluded_llm_metadata_keys=['file_name', 'file_type', 'file_size', 'creation_date', 'last_modified_date', 'last_accessed_date'], relationships={<NodeRelationship.SOURCE: '1'>: RelatedNodeInfo(node_id='73f38ee2-e721-4473-aece-f1136efcd30c', node_type=<ObjectType.DOCUMENT: '4'>, metadata={'file_path': 'data/ca-seo-2024.md', 'file_name': 'ca-seo-2024.md', 'file_type': None, 'file_size': 9177, 'creation_date': '2024-01-09', 'last_modified_date': '2024-01-09', 'last_accessed_date': '2024-01-09'}, hash='f098789fcb17e5cd0085d104d17dc6eac6140dad5dc479281b0c1e8576530a6f'), <NodeRelationship.NEXT: '3'>: RelatedNodeInfo(node_id='3fe29053-3523-476b-8892-24f4a1255d5e', node_type=<ObjectType.TEXT: '1'>, metadata={}, hash='955848d998f40ed24c3ed5b98c7a6bfb4521de3fb6f911854460dbfabcb5dd4a')}, hash='f8c9acb1ade719d823ea6baf96c5d49594d9e7b2ce4c701f37b4e6ef23028702', text='2024年 SEOと検索エンジンの予想\\n\\nここ2年ほど年初にその年の検索エンジンやSEOについて勝手に予想してきましたが、せっかくなのでアメブロ全体のアクセスにちょびっと貢献する意味も込めて今年もやってみたいと思います。\\n\\n2022年\\u3000\\n\\n2023年\\n\\n2024年は元旦から自然災害が発生するという誰も予想していなかったスタートとなりました。\\n\\n改めて被災者の方に心よりお見舞い申し上げるとともに犠牲者の方のご冥福をお祈り申し上げます。\\n\\nさて、2024年のSEO・検索エンジンについての予想ですが結論からいうと2023年の流れのままであろうと思います。\\n\\n1.アルゴリズムは信頼性重視になる\\n\\n昨日、ちょうど辻さんとも話していましたが、アメリカで11月には大統領選が行われます。大統領選前にはフェイクニュースが流れないように徹底するのがGoogleの姿勢であると認識しています。\\n\\nそのためにはEEATの旧EAT部分、Expertise、Authoritativeness、Trustがより重要視されると考えられます。昨年より影響の出始めたもう一つの「E」であるExperienceに反しては今年の前半から中盤くらいで一旦弱まるのではないかと考えます。ただ、この旧EATは概念ですので、何をもってEATが高いと判断するのかは現時点で不明です。これまでの傾向を見ると大規模サイトが有利であったり、被リンクが多いものが有利であったり、サイテーション（指名検索やメンション）が多いものが有利であったりしましたが、そのままなのかより複雑な指標が入ってくるのかは分かりません。\\n\\nいずれにしても小規模サイト、新興サイト、個人サイトや個人ブログ等について逆風になる可能性は高いと思われます。\\n\\n我々にできることは結局のところサイトやコンテンツの信頼性を高めるための質の良いコンテンツを作り続けることと浮き沈みがあっても諦めずにサイトの運営を続けていくことしかないと思われます。それが、サイトの規模を大きくし、被リンクを増やし、サイテーションを増やしていくことにつながるはずです。\\n\\nまた、メーカーや店舗等のリアルなビジネスの場合はサイトの中身だけでなく、実際の商品やサービスがそれらにつながっていきます。ビジネスの品質そのものを高めることこそが最強のEAT対策と言えるかもしれません。\\n\\n!', start_char_idx=2, end_char_idx=992, text_template='{metadata_str}\\n\\n{content}', metadata_template='{key}: {value}', metadata_seperator='\\n'), score=0.6567547239792301), NodeWithScore(node=TextNode(id_='25d3cf13-47af-4ee9-bb71-9ec735a31513', embedding=None, metadata={'file_path': 'data/ca-seo-2024.md', 'file_name': 'ca-seo-2024.md', 'file_type': None, 'file_size': 9177, 'creation_date': '2024-01-09', 'last_modified_date': '2024-01-09', 'last_accessed_date': '2024-01-09'}, excluded_embed_metadata_keys=['file_name', 'file_type', 'file_size', 'creation_date', 'last_modified_date', 'last_accessed_date'], excluded_llm_metadata_keys=['file_name', 'file_type', 'file_size', 'creation_date', 'last_modified_date', 'last_accessed_date'], relationships={<NodeRelationship.SOURCE: '1'>: RelatedNodeInfo(node_id='73f38ee2-e721-4473-aece-f1136efcd30c', node_type=<ObjectType.DOCUMENT: '4'>, metadata={'file_path': 'data/ca-seo-2024.md', 'file_name': 'ca-seo-2024.md', 'file_type': None, 'file_size': 9177, 'creation_date': '2024-01-09', 'last_modified_date': '2024-01-09', 'last_accessed_date': '2024-01-09'}, hash='f098789fcb17e5cd0085d104d17dc6eac6140dad5dc479281b0c1e8576530a6f'), <NodeRelationship.PREVIOUS: '2'>: RelatedNodeInfo(node_id='3fe29053-3523-476b-8892-24f4a1255d5e', node_type=<ObjectType.TEXT: '1'>, metadata={'file_path': 'data/ca-seo-2024.md', 'file_name': 'ca-seo-2024.md', 'file_type': None, 'file_size': 9177, 'creation_date': '2024-01-09', 'last_modified_date': '2024-01-09', 'last_accessed_date': '2024-01-09'}, hash='955848d998f40ed24c3ed5b98c7a6bfb4521de3fb6f911854460dbfabcb5dd4a'), <NodeRelationship.NEXT: '3'>: RelatedNodeInfo(node_id='6260fa73-2eb1-4cae-a426-8a7c21c18a4f', node_type=<ObjectType.TEXT: '1'>, metadata={}, hash='3b363d3a9c232b963d6c4e86e6721714b9449f7147c5ac46e755f383487bc4ce')}, hash='f8c9acb1ade719d823ea6baf96c5d49594d9e7b2ce4c701f37b4e6ef23028702', text='[](https://stat.ameba.jp/user_images/20240104/15/ca-seo/f3/9c/j/o1276047515385468844.jpg)\\n\\n3.Googleの収益戦略の加速\\n\\n昨年は検索結果の途中にリスティング広告が差し込まれたり、動画検索がYouTubeだらけになりその先のYouTubeでは広告が増えたりと、明らかにGoogleの収益化戦略が加速していました。Googleはもはやインフラではあるものの一般企業であり、また昨年は大規模なレイオフを行ったことからも理解できる部分はあります。ただ、さまざまなところで広告が増加したりGoogleの資産への誘導がなされたりという部分は、我々サイト運営者やSEOsにとってはつらいところではあります。\\n\\nしかしながら、この流れというのは止まらないのではないかと思います。動画検索がいまから元の姿に戻りYouTube以外の動画コンテンツにトラフィックを流すという可能性は少ないでしょう。SERPsからリスティング広告を減らすこともないでしょう。\\n\\nこれからはさまざまなバーティカルサーチにおいてGoogleがビジネスを展開する可能性も考えておかなければならないかもしれません。\\n\\n4.スパム対応の厳格化\\n\\nGoogleはトラスト、セーフティーに関わるチームをレイオフ時に解散させるなど、検索者が望む姿と逆行するような気配がありました。しかしながら、ホスト貸し（寄生サイト）を中心にスパムへの対応は引き続ききっちりと行われています。恥ずかしながらアメブロ上でもスパムは存在し（多くはスパムフィルタでブロックされます）それらへのマニュアルアクションは現在でもしっかりと行われている状態です。\\n\\nGoogleは引き続き世界中のスパムの実態を把握しようと努力していることも知っていますし、特に（過去のリンクスパム大国だった）日本の現状には気を配っています。一部の知恵を絞ったリンクスパムに関してもGoogleは対応策を検討しているようですし、引き続きホスト貸しに関しては対処していくものと思われます。\\n\\n!', start_char_idx=1667, end_char_idx=2559, text_template='{metadata_str}\\n\\n{content}', metadata_template='{key}: {value}', metadata_seperator='\\n'), score=0.6423804249796277), NodeWithScore(node=TextNode(id_='6260fa73-2eb1-4cae-a426-8a7c21c18a4f', embedding=None, metadata={'file_path': 'data/ca-seo-2024.md', 'file_name': 'ca-seo-2024.md', 'file_type': None, 'file_size': 9177, 'creation_date': '2024-01-09', 'last_modified_date': '2024-01-09', 'last_accessed_date': '2024-01-09'}, excluded_embed_metadata_keys=['file_name', 'file_type', 'file_size', 'creation_date', 'last_modified_date', 'last_accessed_date'], excluded_llm_metadata_keys=['file_name', 'file_type', 'file_size', 'creation_date', 'last_modified_date', 'last_accessed_date'], relationships={<NodeRelationship.SOURCE: '1'>: RelatedNodeInfo(node_id='73f38ee2-e721-4473-aece-f1136efcd30c', node_type=<ObjectType.DOCUMENT: '4'>, metadata={'file_path': 'data/ca-seo-2024.md', 'file_name': 'ca-seo-2024.md', 'file_type': None, 'file_size': 9177, 'creation_date': '2024-01-09', 'last_modified_date': '2024-01-09', 'last_accessed_date': '2024-01-09'}, hash='f098789fcb17e5cd0085d104d17dc6eac6140dad5dc479281b0c1e8576530a6f'), <NodeRelationship.PREVIOUS: '2'>: RelatedNodeInfo(node_id='25d3cf13-47af-4ee9-bb71-9ec735a31513', node_type=<ObjectType.TEXT: '1'>, metadata={'file_path': 'data/ca-seo-2024.md', 'file_name': 'ca-seo-2024.md', 'file_type': None, 'file_size': 9177, 'creation_date': '2024-01-09', 'last_modified_date': '2024-01-09', 'last_accessed_date': '2024-01-09'}, hash='f3b37b2805b0d9f7b5fa22b4108cc3303e4fbcc7538304431f8404a15d104dee')}, hash='f8c9acb1ade719d823ea6baf96c5d49594d9e7b2ce4c701f37b4e6ef23028702', text='[](https://stat.ameba.jp/user_images/20240105/12/ca-seo/4d/65/p/o0744034915385790040.png)\\n\\n5.ユーザー行動の重要性の向上\\n\\nGoogleの人と話していても、User Behaviorへのフォーカスを進められます。昨年すでにその傾向は見られていましたが今年はよりその傾向は強まるかもしれません。User BehaviorはCTRや直帰率などの単純なものだけを指標にしなければスパムされにくいという特徴もあるでしょう。また、ユーザーが本当に良いと思っているサイトを炙り出すのに適していると思われますので、よりユーザーにフォーカスした、ユーザーに優しいアルゴリズムになると考えられます。\\n\\n一方で、「1」に記したような信頼性というところとは相反するものが上がる危険性が捨てきれないことから、ユーザー行動指標が強くなるのは今年の前半だけかもしれません。ただ、大統領選が終わったり、社会情勢が安定したりした際には、かならず今よりも強くなる指標ではないかと思います。\\n\\n6.SEO業界の若手の台頭\\n\\nこれは希望です。そろそろ世代交代の時期に入っていると思います。さまざまな場でSEOを生業にしている方と交流させていただきますが、若い方には本当に優秀な方が多いです。弊社でもSEOに関わる人、SEO専門の人だけでなくエンジニアやデザイナー、プロダクトマネージャーなどだいぶ若返りました。おじさんは私一人ということが多いです。（もはやおじいちゃんの扱いをされていますが）ぜひ若い方は横のつながりをもっていただきお互いを高め合っていただきたいと思います。\\n\\nということで簡単ではありますが2024年のSEOを勝手に予想してみました。\\n\\n先にも書いたように、今年はあまり動きがなさそうな気がするので書き始めて「書くことがない」ことに気づいてしまいました。。なので若干無理矢理感があるかもしれませんがご容赦いただければと思います。\\n\\n@kimuyan', start_char_idx=2559, end_char_idx=3419, text_template='{metadata_str}\\n\\n{content}', metadata_template='{key}: {value}', metadata_seperator='\\n'), score=0.6397288293741279)], metadata={'3fe29053-3523-476b-8892-24f4a1255d5e': {'file_path': 'data/ca-seo-2024.md', 'file_name': 'ca-seo-2024.md', 'file_type': None, 'file_size': 9177, 'creation_date': '2024-01-09', 'last_modified_date': '2024-01-09', 'last_accessed_date': '2024-01-09'}, '53ac4de9-012a-498f-892c-b29dae983953': {'file_path': 'data/ca-seo-2024.md', 'file_name': 'ca-seo-2024.md', 'file_type': None, 'file_size': 9177, 'creation_date': '2024-01-09', 'last_modified_date': '2024-01-09', 'last_accessed_date': '2024-01-09'}, '25d3cf13-47af-4ee9-bb71-9ec735a31513': {'file_path': 'data/ca-seo-2024.md', 'file_name': 'ca-seo-2024.md', 'file_type': None, 'file_size': 9177, 'creation_date': '2024-01-09', 'last_modified_date': '2024-01-09', 'last_accessed_date': '2024-01-09'}, '6260fa73-2eb1-4cae-a426-8a7c21c18a4f': {'file_path': 'data/ca-seo-2024.md', 'file_name': 'ca-seo-2024.md', 'file_type': None, 'file_size': 9177, 'creation_date': '2024-01-09', 'last_modified_date': '2024-01-09', 'last_accessed_date': '2024-01-09'}})"
      ]
     },
     "execution_count": 26,
     "metadata": {},
     "output_type": "execute_result"
    }
   ],
   "source": [
    "query_engine = index.as_query_engine(similarity_top_k=5)\n",
    "query_engine.query(\"必ず日本語で答えてください。SGEとはなんですか？\")"
   ]
  },
  {
   "cell_type": "markdown",
   "metadata": {},
   "source": [
    "### 違う LLM を使いたい場合\n"
   ]
  },
  {
   "cell_type": "code",
   "execution_count": null,
   "metadata": {},
   "outputs": [],
   "source": [
    "from llama_index import ServiceContext\n",
    "from llama_index.llms import PaLM\n",
    "\n",
    "service_context = ServiceContext.from_defaults(llm=PaLM())"
   ]
  },
  {
   "cell_type": "markdown",
   "metadata": {},
   "source": [
    "### レスポンスの生成方法を変えたい場合\n",
    "\n",
    "- https://docs.llamaindex.ai/en/stable/module_guides/deploying/query_engine/response_modes.html\n"
   ]
  },
  {
   "cell_type": "code",
   "execution_count": 28,
   "metadata": {},
   "outputs": [
    {
     "name": "stdout",
     "output_type": "stream",
     "text": [
      "SGEとは、GoogleのSearch Generative Experienceの略称です。現在、SGEはSearch Labs経由での提供となっており、一般に広く公開されていません。SGEは、大規模言語モデルの一種であり、Googleの検索体験をさらに進化させることが期待されています。ただし、SGEが通常のGoogle検索に実装される時期については予測が分かれており、2024年の早い段階で実装されると予想する専門家もいれば、年末まで実装されないと予想する専門家もいます。\n"
     ]
    }
   ],
   "source": [
    "from llama_index import VectorStoreIndex, SimpleDirectoryReader\n",
    "\n",
    "documents = SimpleDirectoryReader(\"data\").load_data()\n",
    "index = VectorStoreIndex.from_documents(documents)\n",
    "query_engine = index.as_query_engine(response_mode=\"tree_summarize\")\n",
    "response = query_engine.query(\"必ず日本語で答えてください。SGEとはなんですか？\")\n",
    "print(response)"
   ]
  },
  {
   "cell_type": "markdown",
   "metadata": {},
   "source": [
    "### ストリーミングをオンにする\n"
   ]
  },
  {
   "cell_type": "code",
   "execution_count": 31,
   "metadata": {},
   "outputs": [
    {
     "name": "stdout",
     "output_type": "stream",
     "text": [
      "Googleは検索結果の途中にリスティング広告を差し込んだり、動画検索をYouTubeに特化させたりするなど、収益化戦略を加速させています。さらに、Googleは広告の増加や資産への誘導など、サイト運営者やSEOsにとってはつらい要素もあります。この流れは今後も止まらず、さまざまなバーティカルサーチにおいてビジネス展開する可能性も考えられます。\n",
      "\n",
      "ソース:\n",
      "- file_path: data/ca-seo-2024.md\n",
      "- Context: 3.Googleの収益戦略の加速"
     ]
    }
   ],
   "source": [
    "from llama_index import VectorStoreIndex, SimpleDirectoryReader\n",
    "\n",
    "documents = SimpleDirectoryReader(\"data\").load_data()\n",
    "# index = VectorStoreIndex.from_documents(documents)\n",
    "storage_context = StorageContext.from_defaults(persist_dir=\"./storage\")\n",
    "index = load_index_from_storage(storage_context)\n",
    "query_engine = index.as_query_engine(streaming=True)\n",
    "response = query_engine.query(\n",
    "    \"必ず日本語で答えてください。\\n必ずドキュメントをソースとした解答を述べ、ソースとなった文章を最後にリストアップしてください。\\nGoogleは収益化のためにどんなことをしそうですか？\"\n",
    ")\n",
    "response.print_response_stream()"
   ]
  },
  {
   "cell_type": "markdown",
   "metadata": {},
   "source": [
    "### ドキュメント QA ではなく、チャットボットモードにしたい場合\n"
   ]
  },
  {
   "cell_type": "code",
   "execution_count": 36,
   "metadata": {},
   "outputs": [
    {
     "name": "stdout",
     "output_type": "stream",
     "text": [
      "Googleは収益化のために以下のようなことを行っていると考えられます。\n",
      "\n",
      "1. リスティング広告の提供: Googleは検索結果ページにリスティング広告を表示することで収益を得ています。これにより、企業は自社の広告を特定のキーワードで表示させることができます。\n",
      "\n",
      "2. 動画広告の増加: YouTubeなどの動画プラットフォームでの広告表示を増やすことで収益を増やしています。動画広告は視聴者の注意を引きやすく、広告主にとって効果的な広告手段となっています。\n",
      "\n",
      "3. バーティカルサーチへの進出: Googleはさまざまな分野に進出し、特定の業界やカテゴリに特化した検索エンジンを提供することで収益を増やす可能性があります。例えば、ホテル予約や商品比較などの分野でのバーティカルサーチが考えられます。\n",
      "\n",
      "これらの戦略により、Googleは広告収益を最大化し、収益化を図っています。\n",
      "\n",
      "ソース:\n",
      "- [Googleの収益化戦略](https://www.businessinsider.jp/post-228762)\n"
     ]
    }
   ],
   "source": [
    "from llama_index import VectorStoreIndex, SimpleDirectoryReader\n",
    "\n",
    "service_context = ServiceContext.from_defaults(chunk_size=512)\n",
    "storage_context = StorageContext.from_defaults(persist_dir=\"./storage\")\n",
    "\n",
    "documents = SimpleDirectoryReader(\"data\").load_data()\n",
    "index = load_index_from_storage(storage_context, service_context=service_context)\n",
    "\n",
    "query_engine = index.as_chat_engine(streaming=True)\n",
    "response = query_engine.chat(\n",
    "    \"必ず日本語で答えてください。\\n必ずドキュメントをソースとした解答を述べ、ソースとなった文章を最後にリストアップしてください。\\nGoogleは収益化のためにどんなことをしそうですか？\"\n",
    ")\n",
    "print(response)"
   ]
  },
  {
   "cell_type": "code",
   "execution_count": 37,
   "metadata": {},
   "outputs": [
    {
     "name": "stdout",
     "output_type": "stream",
     "text": [
      "Googleの動画広告増加の戦略に関して、以下のような情報があります。\n",
      "\n",
      "1. 動画検索の増加: Googleは動画検索を強化し、YouTubeを中心に動画コンテンツを増やしています。これにより、ユーザーが動画を検索しやすくなり、広告主はより多くの視聴者にアプローチする機会を得ることができます。\n",
      "\n",
      "2. YouTubeでの広告増加: YouTubeはGoogleの傘下にある動画プラットフォームであり、広告表示が増えています。YouTubeは視聴者数が多く、広告主にとって魅力的な広告媒体となっています。\n",
      "\n",
      "3. リスティング広告の継続: Googleはリスティング広告を重要な収益源として位置付けており、動画広告の増加によってもリスティング広告の提供は減らされることはないと予想されます。\n",
      "\n",
      "Googleは動画広告の増加を通じて収益を増やす一方で、ウェブサイト運営者やSEOにとっては競争が激化し、厳しい状況となっているようです。\n",
      "\n",
      "ソース:\n",
      "- [Googleの収益化戦略](https://www.businessinsider.jp/post-228762)\n"
     ]
    }
   ],
   "source": [
    "response = query_engine.chat(\"「動画広告の増加」について、他にはどのようなことが書かれていますか？\")\n",
    "print(response)"
   ]
  },
  {
   "cell_type": "code",
   "execution_count": null,
   "metadata": {},
   "outputs": [],
   "source": []
  }
 ],
 "metadata": {
  "kernelspec": {
   "display_name": "py311",
   "language": "python",
   "name": "python3"
  },
  "language_info": {
   "codemirror_mode": {
    "name": "ipython",
    "version": 3
   },
   "file_extension": ".py",
   "mimetype": "text/x-python",
   "name": "python",
   "nbconvert_exporter": "python",
   "pygments_lexer": "ipython3",
   "version": "3.11.5"
  }
 },
 "nbformat": 4,
 "nbformat_minor": 2
}
